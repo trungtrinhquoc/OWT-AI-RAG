{
 "cells": [
  {
   "cell_type": "markdown",
   "id": "5d733e1a-fff5-4739-b702-cc4af0a69d41",
   "metadata": {},
   "source": [
    "# How to build a simple Agent LLM App with LangGraph\n",
    "* Very basic tool-using Agent LLM App with memory.\n",
    "\n",
    "Language models can't do anything on their own; they can only create text based on what you ask them. However, LangChain allows people to build agents—think of these as smart systems or helpers— that use language models to think and decide what to do next.\n",
    "\n",
    "Here’s how it works:\n",
    "1. **Use the Language Model as a Brain**: The agent uses the language model to figure out which actions it should take, based on the information it has or what you ask it to do.\n",
    "2. **Taking Action**: After deciding, the agent then goes ahead and does those actions.\n",
    "3. **Learning and Adjusting**: Once the actions are done, the results can be given back to the language model. This helps the model check if everything is complete or if it needs to do something else.\n",
    "\n",
    "So, essentially, LangChain helps turn a language model from just a tool for writing and answering into a system that can act and react, almost like a very simple robot brain.\n",
    "\n",
    "Here we will build an agent that can interact with a search engine. You will be able to ask this agent questions, watch it calling the search tool, and have conversations with it."
   ]
  },
  {
   "cell_type": "markdown",
   "id": "d0399355-dece-4701-9bf4-4c204fe74929",
   "metadata": {},
   "source": [
    "## Concepts included\n",
    "* [LangGraph](https://python.langchain.com/v0.2/docs/concepts/#langgraph).\n",
    "\n",
    "LangGraph is a library created by the LangChain team for building stateful, multi-actor applications with LLMs, used to create agent and multi-agent workflows."
   ]
  },
  {
   "cell_type": "markdown",
   "id": "48386f20-c929-48a9-8720-0953fcd67dd0",
   "metadata": {},
   "source": [
    "## Setup"
   ]
  },
  {
   "cell_type": "markdown",
   "id": "e65ee060-21f2-4e01-b283-1fd656dac1e9",
   "metadata": {},
   "source": [
    "#### After you download the code from the github repository in your computer\n",
    "In terminal:\n",
    "* cd project_name\n",
    "* pyenv local 3.11.4\n",
    "* poetry install\n",
    "* poetry shell\n",
    "\n",
    "#### To open the notebook with Jupyter Notebooks\n",
    "In terminal:\n",
    "* jupyter lab\n",
    "\n",
    "Go to the folder of notebooks and open the right notebook.\n",
    "\n",
    "#### To see the code in Virtual Studio Code or your editor of choice.\n",
    "* open Virtual Studio Code or your editor of choice.\n",
    "* open the project-folder\n",
    "* open the 001-simple-agent.py file"
   ]
  },
  {
   "cell_type": "markdown",
   "id": "babbed42-5eaa-47f8-8c4c-d88ab4a6a5e3",
   "metadata": {},
   "source": [
    "## Create your .env file\n",
    "* In the github repo we have included a file named .env.example\n",
    "* Rename that file to .env file and here is where you will add your confidential api keys. Remember to include:\n",
    "* OPENAI_API_KEY=your_openai_api_key\n",
    "* LANGCHAIN_TRACING_V2=true\n",
    "* LANGCHAIN_ENDPOINT=https://api.smith.langchain.com\n",
    "* LANGCHAIN_API_KEY=your_langchain_api_key\n",
    "* LANGCHAIN_PROJECT=your_project_name"
   ]
  },
  {
   "cell_type": "markdown",
   "id": "40a63ff6-99ff-4629-b965-547d12a99ba6",
   "metadata": {},
   "source": [
    "We will call our LangSmith project **001-simple-agent**."
   ]
  },
  {
   "cell_type": "markdown",
   "id": "2af01334-1e2d-446a-9c8a-e2eeba448ba9",
   "metadata": {},
   "source": [
    "## Connect with the .env file located in the same directory of this notebook"
   ]
  },
  {
   "cell_type": "markdown",
   "id": "3dceb033-99f7-4fcb-bded-448ae1e69af1",
   "metadata": {},
   "source": [
    "If you are using the pre-loaded poetry shell, you do not need to install the following package because it is already pre-loaded for you:"
   ]
  },
  {
   "cell_type": "code",
   "execution_count": 1,
   "id": "1b3a725a-01b2-4d05-b5a6-3e07deb3d6fc",
   "metadata": {},
   "outputs": [],
   "source": [
    "#!pip install python-dotenv"
   ]
  },
  {
   "cell_type": "code",
   "execution_count": null,
   "id": "992ec4a9-aa01-4e44-aeb9-b9a1f3aa9e54",
   "metadata": {},
   "outputs": [
    {
     "ename": "KeyError",
     "evalue": "'OPENAI_API_KEY'",
     "output_type": "error",
     "traceback": [
      "\u001b[31m---------------------------------------------------------------------------\u001b[39m",
      "\u001b[31mKeyError\u001b[39m                                  Traceback (most recent call last)",
      "\u001b[36mCell\u001b[39m\u001b[36m \u001b[39m\u001b[32mIn[2]\u001b[39m\u001b[32m, line 4\u001b[39m\n\u001b[32m      2\u001b[39m \u001b[38;5;28;01mfrom\u001b[39;00m\u001b[38;5;250m \u001b[39m\u001b[34;01mdotenv\u001b[39;00m\u001b[38;5;250m \u001b[39m\u001b[38;5;28;01mimport\u001b[39;00m load_dotenv, find_dotenv\n\u001b[32m      3\u001b[39m _ = load_dotenv(find_dotenv())\n\u001b[32m----> \u001b[39m\u001b[32m4\u001b[39m openai_api_key = \u001b[43mos\u001b[49m\u001b[43m.\u001b[49m\u001b[43menviron\u001b[49m\u001b[43m[\u001b[49m\u001b[33;43m\"\u001b[39;49m\u001b[33;43mOPENAI_API_KEY\u001b[39;49m\u001b[33;43m\"\u001b[39;49m\u001b[43m]\u001b[49m\n",
      "\u001b[36mFile \u001b[39m\u001b[32m<frozen os>:679\u001b[39m, in \u001b[36m__getitem__\u001b[39m\u001b[34m(self, key)\u001b[39m\n",
      "\u001b[31mKeyError\u001b[39m: 'OPENAI_API_KEY'"
     ]
    }
   ],
   "source": [
    "import os\n",
    "from dotenv import load_dotenv, find_dotenv\n",
    "_ = load_dotenv(find_dotenv())\n",
    "google_api_key = os.environ[\"GOOGLE_API_KEY\"]\n",
    "\n",
    "from langchain_google_genai import ChatGoogleGenerativeAI\n",
    "\n",
    "llm = ChatGoogleGenerativeAI(model=\"gemini-2.0-flash\", google_api_key=google_api_key)"
   ]
  },
  {
   "cell_type": "markdown",
   "id": "6c01d18b-f9f0-427b-a9dc-3d1885160578",
   "metadata": {},
   "source": [
    "#### Install LangChain"
   ]
  },
  {
   "cell_type": "markdown",
   "id": "7b4727a5-9c90-47cc-92cc-a39b143668ab",
   "metadata": {},
   "source": [
    "If you are using the pre-loaded poetry shell, you do not need to install the following package because it is already pre-loaded for you:"
   ]
  },
  {
   "cell_type": "code",
   "execution_count": null,
   "id": "ed746499-d1b8-41e5-b131-270cf5fa229b",
   "metadata": {},
   "outputs": [],
   "source": [
    "#!pip install langchain"
   ]
  },
  {
   "cell_type": "markdown",
   "id": "cc2af3ef-c2c7-445f-92bd-a29c68abce25",
   "metadata": {},
   "source": [
    "## Connect with an LLM and start a conversation with it"
   ]
  },
  {
   "cell_type": "markdown",
   "id": "d5bc8254-5e18-4e1d-bc88-8cb0d3d1f221",
   "metadata": {},
   "source": [
    "If you are using the pre-loaded poetry shell, you do not need to install the following package because it is already pre-loaded for you:"
   ]
  },
  {
   "cell_type": "code",
   "execution_count": null,
   "id": "3fa7337f-3d60-4ede-bdf8-aa7a5cffec43",
   "metadata": {},
   "outputs": [],
   "source": [
    "#!pip install langchain-openai"
   ]
  },
  {
   "cell_type": "markdown",
   "id": "bce3551e-95ca-41a1-8810-89c495bf93ab",
   "metadata": {},
   "source": [
    "* For this project, we will use OpenAI's gpt-3.5-turbo"
   ]
  },
  {
   "cell_type": "code",
   "execution_count": null,
   "id": "9afcbc7d-a816-41e3-925f-850883f5770d",
   "metadata": {},
   "outputs": [],
   "source": []
  },
  {
   "cell_type": "markdown",
   "id": "9913fc8c-254f-410d-aa8f-35eb0898855e",
   "metadata": {},
   "source": [
    "#### Track the operation in LangSmith\n",
    "* [Open LangSmith here](smith.langchain.com)"
   ]
  },
  {
   "cell_type": "markdown",
   "id": "edabbbe2-3b88-4554-bb31-a135408a9495",
   "metadata": {},
   "source": [
    "## Agents\n",
    "* Agents use LLMs as reasoning engines to determine which actions to take."
   ]
  },
  {
   "cell_type": "markdown",
   "id": "3d0f80a4-02b5-4987-8f46-28cec86b4946",
   "metadata": {},
   "source": [
    "## Tool-using Agent\n",
    "* For this basic agent we will use just one tool. In next advanced projects, you will learn how to use agents with several tools.\n",
    "* **Our tool of choice will be Tavily** - a search engine. \n",
    "#### Tavily API Key\n",
    "* You will need to add your Tavily API key in the .env file. Obtain a key by signing up on their [website](https://tavily.com/)."
   ]
  },
  {
   "cell_type": "markdown",
   "id": "0701e301-30dd-4fe4-b5fc-b59e2573e8d7",
   "metadata": {},
   "source": [
    "If you are using the pre-loaded poetry shell, you do not need to install the following package because it is already pre-loaded for you:"
   ]
  },
  {
   "cell_type": "code",
   "execution_count": null,
   "id": "ac0fe589-89fd-4edd-a526-c0f7e584612f",
   "metadata": {},
   "outputs": [],
   "source": [
    "#pip install langgraph"
   ]
  },
  {
   "cell_type": "markdown",
   "id": "6a5be8d9-3b54-4e65-beee-0df3237ad239",
   "metadata": {},
   "source": [
    "#### Define tools"
   ]
  },
  {
   "cell_type": "markdown",
   "id": "0fb82301-03b7-45ca-8588-e6c6fd0f53ae",
   "metadata": {},
   "source": [
    "If you are using the pre-loaded poetry shell, you do not need to install the following package because it is already pre-loaded for you:"
   ]
  },
  {
   "cell_type": "code",
   "execution_count": null,
   "id": "350461a1-b8b3-463f-a97c-95fa931e2fc2",
   "metadata": {},
   "outputs": [],
   "source": [
    "#pip install langchain-community"
   ]
  },
  {
   "cell_type": "code",
   "execution_count": null,
   "id": "41791f51-0372-42ce-9fb5-237323408617",
   "metadata": {},
   "outputs": [
    {
     "data": {
      "text/plain": [
       "[{'url': 'https://www.planetfootball.com/lists-and-rankings/euro-2024-player-of-the-tournament-power-ranking-kroos-bellingham',\n",
       "  'content': 'Euro 2024 Player of the Tournament Power Ranking: Spain stars dominate ahead of England final. England will play Spain in the final of Euro 2024 and the Player of the Tournament award remains up for grabs. Gianluigi Donnarumma won the Player of the Tournament award last time out, following in the footsteps of Antoine Griezmann, Andres Iniesta ...'},\n",
       " {'url': 'https://www.theringer.com/soccer/2024/6/12/24176241/euro-2024-power-rankings',\n",
       "  'content': \"The Ringer's Euro 2024 Power Rankings Our guide to all 24 teams, key players to watch, and our favorite bets\"}]"
      ]
     },
     "execution_count": 8,
     "metadata": {},
     "output_type": "execute_result"
    }
   ],
   "source": [
    "from langchain_community.tools.tavily_search import TavilySearchResults\n",
    "search = TavilySearchResults(max_results=2)\n",
    "search.invoke(\"Who are the top stars of the 2024 Eurocup?\")"
   ]
  },
  {
   "cell_type": "code",
   "execution_count": null,
   "id": "69a2b11c-5c7c-40d8-aa37-5f6aeb4128c9",
   "metadata": {},
   "outputs": [],
   "source": [
    "tools = [search]"
   ]
  },
  {
   "cell_type": "markdown",
   "id": "2dc166a2",
   "metadata": {},
   "source": [
    "* **In order to enable this model to do tool calling we use .bind_tools** to give the language model knowledge of these tools:"
   ]
  },
  {
   "cell_type": "code",
   "execution_count": null,
   "id": "c232d6a6-5b2d-4764-b2ea-58a9546a9fc2",
   "metadata": {},
   "outputs": [],
   "source": [
    "llm_with_tools = llm.bind_tools(tools)"
   ]
  },
  {
   "cell_type": "markdown",
   "id": "a22e045c",
   "metadata": {},
   "source": [
    "## Create the agent\n",
    "* We will be using LangGraph to construct the agent. \n",
    "* **Note that below we are passing in the origina chat model, not the llm_with_tools we built later**. That is because create_tool_calling_executor will call .bind_tools for us under the hood."
   ]
  },
  {
   "cell_type": "code",
   "execution_count": null,
   "id": "3d358d2a-9b02-4761-b34c-66545149e4a3",
   "metadata": {},
   "outputs": [],
   "source": [
    "# from langgraph.prebuilt import chat_agent_executor\n",
    "\n",
    "# agent_executor = chat_agent_executor.create_tool_calling_executor(llm, tools)"
   ]
  },
  {
   "cell_type": "markdown",
   "id": "4725a91a-edff-49a3-85a7-37b40b63545b",
   "metadata": {},
   "source": [
    "* In the latest version of langgraph, we have a most modern way to do this:"
   ]
  },
  {
   "cell_type": "code",
   "execution_count": null,
   "id": "a2cf5dce-629b-472b-908d-f4a19606f16a",
   "metadata": {},
   "outputs": [],
   "source": [
    "from langgraph.prebuilt import create_react_agent\n",
    "\n",
    "agent_executor = create_react_agent(llm, tools)"
   ]
  },
  {
   "cell_type": "markdown",
   "id": "91674e8f",
   "metadata": {},
   "source": [
    "## Run the agent\n",
    "* Let's first try it with .invoke():"
   ]
  },
  {
   "cell_type": "code",
   "execution_count": null,
   "id": "0074c0c0-ff35-42c4-b862-3b0aa6abbe54",
   "metadata": {},
   "outputs": [
    {
     "data": {
      "text/plain": [
       "[HumanMessage(content='Where is the soccer Eurocup 2024 played?', id='e221c286-c648-427d-875f-55a4be4b6dd7'),\n",
       " AIMessage(content='', additional_kwargs={'tool_calls': [{'id': 'call_e1kmnOzyjyK3HIf3SFVoXyc5', 'function': {'arguments': '{\"query\":\"soccer Eurocup 2024 location\"}', 'name': 'tavily_search_results_json'}, 'type': 'function'}]}, response_metadata={'token_usage': {'completion_tokens': 25, 'prompt_tokens': 92, 'total_tokens': 117}, 'model_name': 'gpt-3.5-turbo-0125', 'system_fingerprint': None, 'finish_reason': 'tool_calls', 'logprobs': None}, id='run-9a556c37-d1f8-44d2-8dec-503a87bb04b0-0', tool_calls=[{'name': 'tavily_search_results_json', 'args': {'query': 'soccer Eurocup 2024 location'}, 'id': 'call_e1kmnOzyjyK3HIf3SFVoXyc5', 'type': 'tool_call'}], usage_metadata={'input_tokens': 92, 'output_tokens': 25, 'total_tokens': 117}),\n",
       " ToolMessage(content='[{\"url\": \"https://apnews.com/article/euro-2024-germany-stadiums-9b6953fa87d168a754df5b2480b75010\", \"content\": \"File - The Cologne Stadium is pictured in Cologne, Germany, Wednesday, April 24, 2024. The European Championship in Germany is all about tried and tested stadiums with a rich soccer history. Unlike at some recent World Cups, there\\'s been no rush to finish stadiums on time. (AP Photo/Martin Meissner, File) Read More.\"}, {\"url\": \"https://www.uefa.com/euro2024/news/0288-1999a7d1c1a5-3faffefeae27-1000--euro-2024-fixtures-by-venue/\", \"content\": \"15/06: Hungary vs Switzerland (15:00)\\\\ufeff19/06: Scotland vs Switzerland\\\\u00a0(21:00)22/06: Belgium vs Romania\\\\u00a0(21:00)25/06: England vs Slovenia (21:00)30/06: Round of 16 \\\\u2013 1B vs 3A/D/E/F (21:00)\\\\nEURO 2024 matches in Dortmund (BVB Stadion Dortmund)\\\\n15/06: Italy vs Albania\\\\u00a0(21:00)18/06: T\\\\u00fcrkiye vs Play-off winner C\\\\u00a0(18:00)22/06: T\\\\u00fcrkiye vs Portugal\\\\u00a0(18:00)25/06: France vs Play-off winner A\\\\u00a0(18:00)29/06: Round of 16 \\\\u2013 1A vs 2C (21:00)10/07: Semi-final (21:00)\\\\nEURO 2024 matches in D\\\\u00fcsseldorf (D\\\\u00fcsseldorf Arena)\\\\n17/06: Austria vs France\\\\u00a0(21:00)21/06: Slovakia vs Play-off winner B (15:00)\\\\ufeff24/06: Albania vs Spain (21:00)\\\\u00a001/07: Round of 16 \\\\u2013 2D vs 2E (18:00)06/07: Quarter-final (18:00)\\\\nEURO 2024 matches in Frankfurt (Frankfurt Arena)\\\\n17/06: Belgium vs Slovakia\\\\u00a0(18:00)\\\\u00a020/06: Denmark vs England\\\\u00a0(18:00)23/06: Switzerland vs Germany\\\\u00a0(21:00)26/06: Slovakia vs Romania\\\\u00a0(18:00)01/07: Round of 16 \\\\u2013 1F vs 3A/B/C (21:00)\\\\nEURO 2024 matches in Gelsenkirchen (Arena AufSchalke)\\\\n16/06: Serbia vs England\\\\u00a0(21:00)20/06: Spain vs Italy\\\\u00a0(21:00)26/06: Play-off winner C vs Portugal\\\\u00a0(21:00)\\\\u00a030/06: Round of 16 \\\\u2013 1C vs 3D/E/F (18:00)\\\\nEURO 2024 matches in Hamburg (Volksparkstadion Hamburg)\\\\n16/06: Play-off winner A vs Netherlands\\\\u00a0(15:00)19/06: Croatia vs Albania\\\\u00a0(15:00)22/06: Play-off winner C vs Czechia\\\\u00a0(15:00)\\\\u00a026/06: Czechia vs T\\\\u00fcrkiye\\\\u00a0(21:00)\\\\u00a005/07: Quarter-final (21:00)\\\\nEURO 2024 matches in Leipzig (Leipzig Stadium)\\\\n Portugal vs Czechia\\\\u00a0(21:00)21/06: Netherlands vs France\\\\u00a0(21:00)24/06: Croatia vs Italy\\\\u00a0(21:00)02/07: Round of 16 \\\\u2013 1D vs 2F (21:00)\\\\nEURO 2024 matches in Munich (Munich Football Arena)\\\\n14/06: Germany vs Scotland\\\\u00a0(21:00)17/06: Romania vs Play-off winner B\\\\u00a0(15:00)20/06: Slovenia vs Serbia\\\\u00a0(15:00)\\\\u00a025/06: Denmark vs Serbia\\\\u00a0(21:00)\\\\u00a002/07: Round of 16 \\\\u2013 1E vs 3A/B/C/D (18:00)09/07: Semi-final (21:00)\\\\nEURO 2024 matches in Stuttgart (Stuttgart Arena)\\\\ufeff\\\\n16/06: Slovenia vs Denmark\\\\u00a0(18:00)19/06: Germany vs Hungary\\\\u00a0(18:00)23/06: Scotland vs Hungary\\\\u00a0(21:00)26/06: Play-off winner B vs Belgium\\\\u00a0(18:00)\\\\u00a005/07: Quarter-final (18:00)\\\\nSelected for you\\\\nEURO 2024 fixtures by team\\\\nEURO 2024 group stage draw\\\\nEURO 2024 match schedule\\\\nEURO 2024: 15/06: Spain vs Croatia (18:00)21/06: Play-off winner A vs Austria\\\\u00a0(18:00)25/06: Netherlands vs Austria (18:00)29/06: Round of 16 \\\\u2013 2A vs 2B (18:00)06/07: Quarter-final (21:00)14/07: Final (21:00)\\\\nEURO 2024 matches in Cologne (Cologne Stadium)\\\\n EURO 2024 fixtures by venue: Which games will take place where?\\\\nWednesday, March 20, 2024\\\\nArticle summary\\\\nPlanning a trip to Germany for UEFA EURO 2024? Article top media content\\\\nArticle body\\\\nCheck out which UEFA EURO 2024 fixtures are set to be held in each of the ten host cities.\"}]', name='tavily_search_results_json', id='96b3afeb-9e97-4d69-bb94-cbf68792b9bc', tool_call_id='call_e1kmnOzyjyK3HIf3SFVoXyc5'),\n",
       " AIMessage(content='The soccer Eurocup 2024 will be played in Germany. The matches will take place in various stadiums across Germany, including Cologne Stadium, BVB Stadion Dortmund, Düsseldorf Arena, Frankfurt Arena, Gelsenkirchen Arena AufSchalke, Hamburg Volksparkstadion, Leipzig Stadium, Munich Football Arena, and Stuttgart Arena.', response_metadata={'token_usage': {'completion_tokens': 70, 'prompt_tokens': 1472, 'total_tokens': 1542}, 'model_name': 'gpt-3.5-turbo-0125', 'system_fingerprint': None, 'finish_reason': 'stop', 'logprobs': None}, id='run-331cc29b-cf94-4d1f-9692-f5c9a7e35eeb-0', usage_metadata={'input_tokens': 1472, 'output_tokens': 70, 'total_tokens': 1542})]"
      ]
     },
     "execution_count": 14,
     "metadata": {},
     "output_type": "execute_result"
    }
   ],
   "source": [
    "from langchain_core.messages import HumanMessage\n",
    "\n",
    "response = agent_executor.invoke({\"messages\": [HumanMessage(content=\"Where is the soccer Eurocup 2024 played?\")]})\n",
    "\n",
    "response[\"messages\"]"
   ]
  },
  {
   "cell_type": "markdown",
   "id": "71504800-6cb3-4a33-91e3-0006c4200c3a",
   "metadata": {},
   "source": [
    "* Now let's try it with .stream():"
   ]
  },
  {
   "cell_type": "code",
   "execution_count": null,
   "id": "0e9691c4-3bf4-4216-b9c5-54f146071d09",
   "metadata": {},
   "outputs": [
    {
     "name": "stdout",
     "output_type": "stream",
     "text": [
      "{'agent': {'messages': [AIMessage(content='', additional_kwargs={'tool_calls': [{'id': 'call_kRA0CVP8kvkHZIVDlqozOhqy', 'function': {'arguments': '{\"query\":\"2024 Eurocup final match date and location\"}', 'name': 'tavily_search_results_json'}, 'type': 'function'}]}, response_metadata={'token_usage': {'completion_tokens': 26, 'prompt_tokens': 96, 'total_tokens': 122}, 'model_name': 'gpt-3.5-turbo-0125', 'system_fingerprint': None, 'finish_reason': 'tool_calls', 'logprobs': None}, id='run-ba5d36b9-fbb8-4c6d-98cf-c79c390147b9-0', tool_calls=[{'name': 'tavily_search_results_json', 'args': {'query': '2024 Eurocup final match date and location'}, 'id': 'call_kRA0CVP8kvkHZIVDlqozOhqy', 'type': 'tool_call'}], usage_metadata={'input_tokens': 96, 'output_tokens': 26, 'total_tokens': 122})]}}\n",
      "----\n",
      "{'tools': {'messages': [ToolMessage(content='[{\"url\": \"https://en.wikipedia.org/wiki/UEFA_Euro_2024_Final\", \"content\": \"The UEFA Euro 2024 final was a football match that determined the winners of UEFA Euro 2024. The match was the seventeenth final of the European Championship, a quadrennial tournament contested by the men\\'s national teams of the member associations of UEFA to decide the champions of Europe. The match was held at the Olympiastadion in Berlin, Germany, on 14 July 2024, and was contested by Spain ...\"}, {\"url\": \"https://www.uefa.com/euro2024/news/0284-18bb952a9458-2a9e1ff202c4-1000--euro-2024-final-when-and-where-is-it/\", \"content\": \"The UEFA EURO 2024 final between Spain and England took place at Olympiastadion Berlin on Sunday 14 July.\"}]', name='tavily_search_results_json', tool_call_id='call_kRA0CVP8kvkHZIVDlqozOhqy')]}}\n",
      "----\n",
      "{'agent': {'messages': [AIMessage(content='The 2024 Eurocup final match will be held at the Olympiastadion in Berlin, Germany, on 14 July 2024. The match will be contested by Spain and England.', response_metadata={'token_usage': {'completion_tokens': 42, 'prompt_tokens': 335, 'total_tokens': 377}, 'model_name': 'gpt-3.5-turbo-0125', 'system_fingerprint': None, 'finish_reason': 'stop', 'logprobs': None}, id='run-fe808eb3-53c1-43e9-ba61-3be178c33c96-0', usage_metadata={'input_tokens': 335, 'output_tokens': 42, 'total_tokens': 377})]}}\n",
      "----\n"
     ]
    }
   ],
   "source": [
    "for chunk in agent_executor.stream(\n",
    "    {\"messages\": [HumanMessage(content=\"When and where will it be the 2024 Eurocup final match?\")]}\n",
    "):\n",
    "    print(chunk)\n",
    "    print(\"----\")"
   ]
  },
  {
   "cell_type": "markdown",
   "id": "bd52ab92-41fa-4116-9e0b-9c13eb1668ad",
   "metadata": {},
   "source": [
    "## Adding memory\n",
    "* Adding memory in LangGraph is very similar to what we did with LangChain."
   ]
  },
  {
   "cell_type": "code",
   "execution_count": null,
   "id": "79cc4f48-8e1e-45a4-9925-4f70cd841455",
   "metadata": {},
   "outputs": [],
   "source": [
    "from langgraph.checkpoint.memory import MemorySaver\n",
    "\n",
    "memory = MemorySaver()"
   ]
  },
  {
   "cell_type": "markdown",
   "id": "54d8441e-2573-4f5d-9671-66b41b707fd6",
   "metadata": {},
   "source": [
    "* Let's create our new agent with memory and set one thread_id so the agent can create a memory for each session as we did with our previous conversational RAG app:"
   ]
  },
  {
   "cell_type": "code",
   "execution_count": null,
   "id": "db243a40-84de-4e89-a30d-9792717ac619",
   "metadata": {},
   "outputs": [],
   "source": [
    "agent_executor = create_react_agent(llm, tools, checkpointer=memory)\n",
    "\n",
    "config = {\"configurable\": {\"thread_id\": \"001\"}}"
   ]
  },
  {
   "cell_type": "markdown",
   "id": "665c6f6a-9dd3-4336-b2aa-a510da135893",
   "metadata": {},
   "source": [
    "* Let's now try this new agent with .stream():"
   ]
  },
  {
   "cell_type": "code",
   "execution_count": null,
   "id": "ad9e8c0f-6352-478f-b376-69167a24471d",
   "metadata": {},
   "outputs": [
    {
     "name": "stdout",
     "output_type": "stream",
     "text": [
      "{'agent': {'messages': [AIMessage(content='', additional_kwargs={'tool_calls': [{'id': 'call_DsiICrQERrNQt3RTtNn4Y6Tk', 'function': {'arguments': '{\"query\":\"2024 soccer Eurocup winner\"}', 'name': 'tavily_search_results_json'}, 'type': 'function'}]}, response_metadata={'token_usage': {'completion_tokens': 23, 'prompt_tokens': 91, 'total_tokens': 114}, 'model_name': 'gpt-3.5-turbo-0125', 'system_fingerprint': None, 'finish_reason': 'tool_calls', 'logprobs': None}, id='run-66f5dc0b-40b7-4f0e-9d9f-3866964991e2-0', tool_calls=[{'name': 'tavily_search_results_json', 'args': {'query': '2024 soccer Eurocup winner'}, 'id': 'call_DsiICrQERrNQt3RTtNn4Y6Tk', 'type': 'tool_call'}], usage_metadata={'input_tokens': 91, 'output_tokens': 23, 'total_tokens': 114})]}}\n",
      "----\n",
      "{'tools': {'messages': [ToolMessage(content='[{\"url\": \"https://www.sportingnews.com/us/soccer/news/who-won-euro-2024-spain-england-oyarzabal/19ab0b3bf663194bc5193e50\", \"content\": \"Spain won the 2024 European Championship, becoming the first team to lift the trophy four times, beating England 2-1 thanks to a late winner from Mikel Oyarzabal.\"}, {\"url\": \"https://www.uefa.com/euro2024/news/028f-1b4e4a9a6d42-253a2c18efdf-1000--uefa-euro-2024-meet-the-winners/\", \"content\": \"How they got there, top scorers, pedigree, key players and the coach - all you need to know about UEFA EURO 2024 winners Spain. Route to glory. Group B winners3-0 vs Croatia(Berlin, 15 June)1-0 ...\"}]', name='tavily_search_results_json', tool_call_id='call_DsiICrQERrNQt3RTtNn4Y6Tk')]}}\n",
      "----\n",
      "{'agent': {'messages': [AIMessage(content='Spain won the 2024 European Championship, beating England 2-1 with a late winner from Mikel Oyarzabal. Spain became the first team to lift the trophy four times.', response_metadata={'token_usage': {'completion_tokens': 40, 'prompt_tokens': 337, 'total_tokens': 377}, 'model_name': 'gpt-3.5-turbo-0125', 'system_fingerprint': None, 'finish_reason': 'stop', 'logprobs': None}, id='run-85029894-69d7-4941-97a2-4c14e7ea108f-0', usage_metadata={'input_tokens': 337, 'output_tokens': 40, 'total_tokens': 377})]}}\n",
      "----\n"
     ]
    }
   ],
   "source": [
    "for chunk in agent_executor.stream(\n",
    "    {\"messages\": [HumanMessage(content=\"Who won the 2024 soccer Eurocup?\")]}, config\n",
    "):\n",
    "    print(chunk)\n",
    "    print(\"----\")"
   ]
  },
  {
   "cell_type": "code",
   "execution_count": null,
   "id": "b163e8bd-f80b-4c2b-8c77-8ba84c12e9a2",
   "metadata": {},
   "outputs": [
    {
     "name": "stdout",
     "output_type": "stream",
     "text": [
      "{'agent': {'messages': [AIMessage(content='', additional_kwargs={'tool_calls': [{'id': 'call_u8PyPAVf0Ufdw4JXvmy7OeDN', 'function': {'arguments': '{\"query\":\"Spain Euro 2024 winning team top players\"}', 'name': 'tavily_search_results_json'}, 'type': 'function'}]}, response_metadata={'token_usage': {'completion_tokens': 26, 'prompt_tokens': 394, 'total_tokens': 420}, 'model_name': 'gpt-3.5-turbo-0125', 'system_fingerprint': None, 'finish_reason': 'tool_calls', 'logprobs': None}, id='run-ffee6e72-dcd0-4854-8c5a-147921b15687-0', tool_calls=[{'name': 'tavily_search_results_json', 'args': {'query': 'Spain Euro 2024 winning team top players'}, 'id': 'call_u8PyPAVf0Ufdw4JXvmy7OeDN', 'type': 'tool_call'}], usage_metadata={'input_tokens': 394, 'output_tokens': 26, 'total_tokens': 420})]}}\n",
      "----\n",
      "{'tools': {'messages': [ToolMessage(content='[{\"url\": \"https://www.cnn.com/2024/07/14/sport/spain-england-euro-2024-final-spt-intl/index.html\", \"content\": \"Spain players celebrate after defeating England and winning Euro 2024. ... with both teams feeling one another out as the players overcame any pre-match nerves. As predicted by many, Spain enjoyed ...\"}, {\"url\": \"https://www.bbc.com/sport/football/articles/cv2gvreml2ko\", \"content\": \"In that successful U19s team in 2015 were Rodri, who was named the best player of Euro 2024, Mikel Merino, who scored the winner against Germany in the quarter-finals, and first-choice keeper Unai ...\"}]', name='tavily_search_results_json', tool_call_id='call_u8PyPAVf0Ufdw4JXvmy7OeDN')]}}\n",
      "----\n",
      "{'agent': {'messages': [AIMessage(content='Some of the top stars of the Spain Euro 2024 winning team included Rodri, who was named the best player of the tournament, Mikel Merino, who scored the winner against Germany in the quarter-finals, and first-choice goalkeeper Unai.', response_metadata={'token_usage': {'completion_tokens': 52, 'prompt_tokens': 593, 'total_tokens': 645}, 'model_name': 'gpt-3.5-turbo-0125', 'system_fingerprint': None, 'finish_reason': 'stop', 'logprobs': None}, id='run-ce4367b2-fca5-4b1f-904e-39ea2d962480-0', usage_metadata={'input_tokens': 593, 'output_tokens': 52, 'total_tokens': 645})]}}\n",
      "----\n"
     ]
    }
   ],
   "source": [
    "for chunk in agent_executor.stream(\n",
    "    {\"messages\": [HumanMessage(content=\"Who were the top stars of that winner team?\")]}, config\n",
    "):\n",
    "    print(chunk)\n",
    "    print(\"----\")"
   ]
  },
  {
   "cell_type": "markdown",
   "id": "fa47f438-7996-4004-8c28-004f6b9292c1",
   "metadata": {},
   "source": [
    "* Let's change the thread_id and see what happens:"
   ]
  },
  {
   "cell_type": "code",
   "execution_count": null,
   "id": "464c7bce-dd1b-43e2-b6fa-a8e5edb88fe0",
   "metadata": {},
   "outputs": [
    {
     "name": "stdout",
     "output_type": "stream",
     "text": [
      "{'agent': {'messages': [AIMessage(content='You mentioned the soccer team \"Manchester United\" in the previous conversation. How can I assist you with information about Manchester United?', response_metadata={'token_usage': {'completion_tokens': 26, 'prompt_tokens': 89, 'total_tokens': 115}, 'model_name': 'gpt-3.5-turbo-0125', 'system_fingerprint': None, 'finish_reason': 'stop', 'logprobs': None}, id='run-3ffa2c4b-df91-45d0-873d-7a86f57f26ad-0', usage_metadata={'input_tokens': 89, 'output_tokens': 26, 'total_tokens': 115})]}}\n",
      "----\n"
     ]
    }
   ],
   "source": [
    "config = {\"configurable\": {\"thread_id\": \"002\"}}\n",
    "for chunk in agent_executor.stream(\n",
    "    {\"messages\": [HumanMessage(content=\"About what soccer team we were talking?\")]}, config\n",
    "):\n",
    "    print(chunk)\n",
    "    print(\"----\")"
   ]
  },
  {
   "cell_type": "markdown",
   "id": "afd3a024-a9e6-486b-b03d-accde68e49cd",
   "metadata": {},
   "source": [
    "* As you can see, when we changed the threat_id we started a different conversation memory, so our app does not remember the previous interaction and instead of giving us the right answer it decided to hallucinate."
   ]
  },
  {
   "cell_type": "markdown",
   "id": "df94de21-8967-49ea-8709-d0cfb4306acf",
   "metadata": {},
   "source": [
    "## How to execute the code from Visual Studio Code\n",
    "* In Visual Studio Code, see the file 001-simple-agent.py\n",
    "* In terminal, make sure you are in the directory of the file and run:\n",
    "    * python 001-simple-agent.py"
   ]
  },
  {
   "cell_type": "code",
   "execution_count": null,
   "id": "be0da530-4acc-4f67-b382-b59e8e71acb3",
   "metadata": {},
   "outputs": [],
   "source": []
  }
 ],
 "metadata": {
  "kernelspec": {
   "display_name": "04-simple-agent-KWwZ495b-py3.11",
   "language": "python",
   "name": "python3"
  },
  "language_info": {
   "codemirror_mode": {
    "name": "ipython",
    "version": 3
   },
   "file_extension": ".py",
   "mimetype": "text/x-python",
   "name": "python",
   "nbconvert_exporter": "python",
   "pygments_lexer": "ipython3",
   "version": "3.11.4"
  }
 },
 "nbformat": 4,
 "nbformat_minor": 5
}
