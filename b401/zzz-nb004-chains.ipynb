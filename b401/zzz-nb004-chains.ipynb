{
 "cells": [
  {
   "cell_type": "markdown",
   "id": "465c003a-29cf-4cfe-a0c6-d36c04ae2b37",
   "metadata": {},
   "source": [
    "# Chains\n",
    "* Perform several actions in a particular order."
   ]
  },
  {
   "cell_type": "markdown",
   "id": "be46161e-45e9-46d7-8214-bcbea10aff2e",
   "metadata": {},
   "source": [
    "## Setup"
   ]
  },
  {
   "cell_type": "markdown",
   "id": "871e0018-cba4-4959-881a-0a65093d202d",
   "metadata": {},
   "source": [
    "#### After you download the code from the github repository in your computer\n",
    "In terminal:\n",
    "* cd project_name\n",
    "* pyenv local 3.11.4\n",
    "* poetry install\n",
    "* poetry shell"
   ]
  },
  {
   "cell_type": "markdown",
   "id": "80616acf-ae85-4226-ba19-dbbbb9d4796f",
   "metadata": {},
   "source": [
    "#### To open the notebook with Jupyter Notebooks\n",
    "In terminal:\n",
    "* jupyter lab\n",
    "\n",
    "Go to the folder of notebooks and open the right notebook."
   ]
  },
  {
   "cell_type": "markdown",
   "id": "a00a6725-81b3-4ea3-b39a-eb8f2ded91a2",
   "metadata": {},
   "source": [
    "#### To see the code in Virtual Studio Code or your editor of choice.\n",
    "* open Virtual Studio Code or your editor of choice.\n",
    "* open the project-folder\n",
    "* open the 004-chains.py file"
   ]
  },
  {
   "cell_type": "markdown",
   "id": "af743328-1bc8-4b01-85fb-fcb21c6499c2",
   "metadata": {},
   "source": [
    "## Create your .env file\n",
    "* In the github repo we have included a file named .env.example\n",
    "* Rename that file to .env file and here is where you will add your confidential api keys. Remember to include:\n",
    "* OPENAI_API_KEY=your_openai_api_key\n",
    "* LANGCHAIN_TRACING_V2=true\n",
    "* LANGCHAIN_ENDPOINT=https://api.smith.langchain.com\n",
    "* LANGCHAIN_API_KEY=your_langchain_api_key\n",
    "* LANGCHAIN_PROJECT=your_project_name"
   ]
  },
  {
   "cell_type": "markdown",
   "id": "863dd299-0780-49ad-a1b7-b76e249350da",
   "metadata": {},
   "source": [
    "We will call our LangSmith project **004-chains**."
   ]
  },
  {
   "cell_type": "markdown",
   "id": "a2746c97-9fa5-481c-8333-21de1504a087",
   "metadata": {},
   "source": [
    "## Track operations\n",
    "From now on, we can track the operations **and the cost** of this project from LangSmith:\n",
    "* [smith.langchain.com](https://smith.langchain.com)"
   ]
  },
  {
   "cell_type": "markdown",
   "id": "de4ba351-2cfb-4b93-9c79-3c1100e2e291",
   "metadata": {},
   "source": [
    "## Connect with the .env file located in the same directory of this notebook"
   ]
  },
  {
   "cell_type": "markdown",
   "id": "36eaf7e9-acf2-4729-b54c-a8fb6ad2ae1a",
   "metadata": {},
   "source": [
    "If you are using the pre-loaded poetry shell, you do not need to install the following package because it is already pre-loaded for you:"
   ]
  },
  {
   "cell_type": "code",
   "execution_count": 1,
   "id": "e9a10870-432e-4818-aa5e-6be24c579d39",
   "metadata": {},
   "outputs": [],
   "source": [
    "#pip install python-dotenv"
   ]
  },
  {
   "cell_type": "code",
   "execution_count": 2,
   "id": "fecd39d0-e72e-4bc2-8a68-2fa4008ea365",
   "metadata": {},
   "outputs": [],
   "source": [
    "import os\n",
    "from dotenv import load_dotenv, find_dotenv\n",
    "_ = load_dotenv(find_dotenv())\n",
    "google_api_key = os.environ[\"GOOGLE_API_KEY\"]"
   ]
  },
  {
   "cell_type": "markdown",
   "id": "03f4a923-b19e-498e-9be5-e47ec4a77d80",
   "metadata": {},
   "source": [
    "#### Install LangChain"
   ]
  },
  {
   "cell_type": "markdown",
   "id": "6fa888f7-3718-4829-8645-30acb43db51f",
   "metadata": {},
   "source": [
    "If you are using the pre-loaded poetry shell, you do not need to install the following package because it is already pre-loaded for you:"
   ]
  },
  {
   "cell_type": "code",
   "execution_count": 3,
   "id": "c1cf94ae-6c39-4475-9c5b-4b74d8d78753",
   "metadata": {},
   "outputs": [],
   "source": [
    "#!pip install langchain"
   ]
  },
  {
   "cell_type": "markdown",
   "id": "189e9e17-dfb0-4fd3-85b9-1fba83771941",
   "metadata": {},
   "source": [
    "## Connect with an LLM"
   ]
  },
  {
   "cell_type": "markdown",
   "id": "4d5d5b71-b26a-4cd5-9765-019077a67141",
   "metadata": {},
   "source": [
    "If you are using the pre-loaded poetry shell, you do not need to install the following package because it is already pre-loaded for you:"
   ]
  },
  {
   "cell_type": "code",
   "execution_count": 4,
   "id": "148df8e0-361d-4ddd-8709-af48fa1648d1",
   "metadata": {},
   "outputs": [],
   "source": [
    "#!pip install langchain-openai"
   ]
  },
  {
   "cell_type": "markdown",
   "id": "a1998155-91de-4cbc-bc88-8d77beefb51b",
   "metadata": {},
   "source": [
    "* NOTE: Since right now is the best LLM in the market, we will use OpenAI by default. You will see how to connect with other Open Source LLMs like Llama3 or Mistral in a next lesson."
   ]
  },
  {
   "cell_type": "markdown",
   "id": "fbf1d17b-6d15-423b-b554-26d6d977ca27",
   "metadata": {},
   "source": [
    "## LLM Model\n",
    "* The trend before the launch of chatGPT-4.\n",
    "* See LangChain documentation about LLM Models [here](https://python.langchain.com/v0.1/docs/modules/model_io/llms/)."
   ]
  },
  {
   "cell_type": "code",
   "execution_count": 5,
   "id": "e92628f2-62e8-436c-92d4-e849de7744ad",
   "metadata": {},
   "outputs": [],
   "source": [
    "from langchain_google_genai import ChatGoogleGenerativeAI\n",
    "\n",
    "llmModel = ChatGoogleGenerativeAI(model=\"gemini-2.0-flash\", google_api_key=google_api_key)"
   ]
  },
  {
   "cell_type": "markdown",
   "id": "31346a0c-ee9c-4a80-8e8a-85ef682df7c3",
   "metadata": {},
   "source": [
    "## Chat Model\n",
    "* The general trend after the launch of chatGPT-4.\n",
    "    * Frequently known as \"Chatbot\". \n",
    "    * Conversation between Human and AI.\n",
    "    * Can have a system prompt defining the tone or the role of the AI. \n",
    "* See LangChain documentation about Chat Models [here](https://python.langchain.com/v0.1/docs/modules/model_io/chat/).\n",
    "* By default we will work with ChatOpenAI. See [here](https://python.langchain.com/v0.1/docs/integrations/chat/openai/) the LangChain documentation page about it."
   ]
  },
  {
   "cell_type": "code",
   "execution_count": 6,
   "id": "b14d27c3-0b1b-4b11-a883-8da2734f21a7",
   "metadata": {},
   "outputs": [],
   "source": [
    "# from langchain_openai import ChatOpenAI\n",
    "\n",
    "chatModel = ChatGoogleGenerativeAI(model=\"gemini-2.0-flash\", google_api_key=google_api_key)"
   ]
  },
  {
   "cell_type": "markdown",
   "id": "c2f91601-8594-41d3-9316-d51791fc54e8",
   "metadata": {},
   "source": [
    "## Prompts\n",
    "* See the LangChain documentation about prompts [here](https://python.langchain.com/v0.1/docs/modules/model_io/prompts/quick_start/).\n",
    "* Input into LLMs.\n",
    "* Prompt templates: easier to use prompts with variables. A prompt template may include:\n",
    "    * instructions,\n",
    "    * few-shot examples,\n",
    "    * and specific context and questions appropriate for a given task."
   ]
  },
  {
   "cell_type": "code",
   "execution_count": 7,
   "id": "a5383c7e-7e62-46d0-8bef-17ff45a88495",
   "metadata": {},
   "outputs": [
    {
     "data": {
      "text/plain": [
       "AIMessage(content='The Dragon Bridge in Da Nang is famous for breathing fire and water every weekend. But what most tourists don\\'t know is the legend of Ông Rồng, the mischievous dragon spirit said to inhabit its steel belly.\\n\\nLocals whisper that Ông Rồng, weary of his monotonous performance, occasionally decides to spice things up. He\\'s not malicious, just…bored.\\n\\nOne sweltering Saturday night, instead of a predictable burst of flames, a cascade of shimmering, rainbow-colored bubbles erupted from the dragon\\'s mouth. The crowd gasped, then erupted in laughter. Children chased the bubbles, their parents snapping pictures, and even the stoic street vendors cracked smiles.\\n\\nThe next week, the fire was replaced with a downpour of fragrant jasmine water, drenching unsuspecting onlookers in a sweet, floral mist. Some were annoyed, but most found it hilarious, buying extra water bottles to refill and splash each other.\\n\\nThen came the week of the singing dragon. Instead of fire, the dragon emitted a series of off-key, yet strangely catchy, Vietnamese folk songs. The sound system, of course, malfunctioned, but everyone knew it was Ông Rồng. He even seemed to be improvising, adding in snippets of pop songs and even a distorted rendition of \"Happy Birthday\" for a tourist wearing a birthday hat.\\n\\nThe city authorities, naturally, were baffled. Engineers checked the mechanisms, programmers combed through the code, but everything seemed perfectly normal. They even consulted with a local geomancer, who, after examining the bridge and muttering incantations, simply shrugged and said, \"Ông Rồng is restless. Give him offerings of sticky rice and he might behave.\"\\n\\nSo, the city held a small, impromptu festival near the bridge, offering mountains of sticky rice and praying for Ông Rồng\\'s contentment. \\n\\nThe following Saturday, the dragon breathed fire and water as usual. However, as the last jet of water sputtered out, a single, perfectly formed sticky rice ball plopped onto the head of the chief engineer, who, covered in soot and water, could only laugh.\\n\\nFrom then on, the locals knew that Ông Rồng was still there, watching over Da Nang, adding a touch of unexpected magic to the mundane, and reminding everyone not to take themselves too seriously. And every Saturday night, before the dragon breathes, some locals still discreetly leave a small offering of sticky rice at the base of the bridge, just in case. They never know what Ông Rồng might do next.', additional_kwargs={}, response_metadata={'prompt_feedback': {'block_reason': 0, 'safety_ratings': []}, 'finish_reason': 'STOP', 'model_name': 'gemini-2.0-flash', 'safety_ratings': []}, id='run--2a69aaa2-b7de-46b5-b23b-71c22f371c9a-0', usage_metadata={'input_tokens': 10, 'output_tokens': 515, 'total_tokens': 525, 'input_token_details': {'cache_read': 0}})"
      ]
     },
     "execution_count": 7,
     "metadata": {},
     "output_type": "execute_result"
    }
   ],
   "source": [
    "from langchain_core.prompts import PromptTemplate\n",
    "\n",
    "prompt_template = PromptTemplate.from_template(\n",
    "    \"Tell me a {adjective} story about {topic}.\"\n",
    ")\n",
    "\n",
    "llmModelPrompt = prompt_template.format(\n",
    "    adjective=\"curious\", \n",
    "    topic=\"Da Nang City\"\n",
    ")\n",
    "\n",
    "llmModel.invoke(llmModelPrompt)"
   ]
  },
  {
   "cell_type": "code",
   "execution_count": 8,
   "id": "beb7dbcd-524c-4acc-9b65-0b209a170ad7",
   "metadata": {},
   "outputs": [],
   "source": [
    "from langchain_core.prompts import ChatPromptTemplate\n",
    "\n",
    "chat_template = ChatPromptTemplate.from_messages(\n",
    "    [\n",
    "        (\"system\", \"You are a {profession} expert on {topic}.\"),\n",
    "        (\"human\", \"Hello, Mr. {profession}, can you please answer a question?\"),\n",
    "        (\"ai\", \"Sure!\"),\n",
    "        (\"human\", \"{user_input}\"),\n",
    "    ]\n",
    ")\n",
    "\n",
    "messages = chat_template.format_messages(\n",
    "    profession=\"Tour Guide\",\n",
    "    topic=\"Da Nang city\",\n",
    "    user_input=\"What are the most famous beaches in Da Nang?\"\n",
    ")\n",
    "\n",
    "\n",
    "response = chatModel.invoke(messages)"
   ]
  },
  {
   "cell_type": "code",
   "execution_count": 9,
   "id": "7585be48-9a19-43ab-a275-8ef6a04246a7",
   "metadata": {},
   "outputs": [
    {
     "data": {
      "text/plain": [
       "AIMessage(content=\"Alright! Da Nang is definitely famous for its beautiful beaches! Here are some of the most popular and well-regarded ones:\\n\\n*   **My Khe Beach:** This is arguably the most famous beach in Da Nang, and often touted as one of the most beautiful in the world. It's known for its soft, white sand, gentle waves, and clear blue water. It's very accessible, with plenty of restaurants, hotels, and activities nearby.\\n\\n*   **Non Nuoc Beach:** Located at the foot of the Marble Mountains, Non Nuoc Beach is known for its tranquil atmosphere and natural beauty. It's a great spot for swimming, sunbathing, and enjoying the scenery.\\n\\n*   **Bac My An Beach:** This beach is a quieter alternative to My Khe, offering a more relaxed atmosphere. It's still beautiful with fine sand and clear water, and there are some lovely resorts and restaurants in the area.\\n\\n*   **Thanh Binh Beach:** This beach is closer to the city center and is popular with locals. It's a good place to experience local beach culture and enjoy some delicious seafood.\\n\\n*   **Tien Sa Beach:** Nestled in a tranquil bay, Tien Sa Beach offers stunning views and a peaceful escape. It's a bit more secluded than the other beaches, making it perfect for those seeking tranquility.\\n\\nEach beach has its own unique charm, so it really depends on what you're looking for in a beach experience! Do you have any preferences in mind, like wanting a bustling beach with lots of activities, or a more secluded and peaceful one? Knowing that will help me give you a more tailored recommendation!\", additional_kwargs={}, response_metadata={'prompt_feedback': {'block_reason': 0, 'safety_ratings': []}, 'finish_reason': 'STOP', 'model_name': 'gemini-2.0-flash', 'safety_ratings': []}, id='run--7ca38747-2534-4e41-b53b-18ef27e1db12-0', usage_metadata={'input_tokens': 37, 'output_tokens': 342, 'total_tokens': 379, 'input_token_details': {'cache_read': 0}})"
      ]
     },
     "execution_count": 9,
     "metadata": {},
     "output_type": "execute_result"
    }
   ],
   "source": [
    "response"
   ]
  },
  {
   "cell_type": "code",
   "execution_count": 10,
   "id": "1373ca0b-342f-4ac6-a697-5e2ad30bfa8c",
   "metadata": {},
   "outputs": [
    {
     "name": "stdout",
     "output_type": "stream",
     "text": [
      "content=\"Alright! Da Nang is definitely famous for its beautiful beaches! Here are some of the most popular and well-regarded ones:\\n\\n*   **My Khe Beach:** This is arguably the most famous beach in Da Nang, and often touted as one of the most beautiful in the world. It's known for its soft, white sand, gentle waves, and clear blue water. It's very accessible, with plenty of restaurants, hotels, and activities nearby.\\n\\n*   **Non Nuoc Beach:** Located at the foot of the Marble Mountains, Non Nuoc Beach is known for its tranquil atmosphere and natural beauty. It's a great spot for swimming, sunbathing, and enjoying the scenery.\\n\\n*   **Bac My An Beach:** This beach is a quieter alternative to My Khe, offering a more relaxed atmosphere. It's still beautiful with fine sand and clear water, and there are some lovely resorts and restaurants in the area.\\n\\n*   **Thanh Binh Beach:** This beach is closer to the city center and is popular with locals. It's a good place to experience local beach culture and enjoy some delicious seafood.\\n\\n*   **Tien Sa Beach:** Nestled in a tranquil bay, Tien Sa Beach offers stunning views and a peaceful escape. It's a bit more secluded than the other beaches, making it perfect for those seeking tranquility.\\n\\nEach beach has its own unique charm, so it really depends on what you're looking for in a beach experience! Do you have any preferences in mind, like wanting a bustling beach with lots of activities, or a more secluded and peaceful one? Knowing that will help me give you a more tailored recommendation!\" additional_kwargs={} response_metadata={'prompt_feedback': {'block_reason': 0, 'safety_ratings': []}, 'finish_reason': 'STOP', 'model_name': 'gemini-2.0-flash', 'safety_ratings': []} id='run--7ca38747-2534-4e41-b53b-18ef27e1db12-0' usage_metadata={'input_tokens': 37, 'output_tokens': 342, 'total_tokens': 379, 'input_token_details': {'cache_read': 0}}\n"
     ]
    }
   ],
   "source": [
    "print(response)"
   ]
  },
  {
   "cell_type": "code",
   "execution_count": 11,
   "id": "6f6a5e25-e177-4d7a-ba29-6834a6a8152b",
   "metadata": {},
   "outputs": [
    {
     "name": "stdout",
     "output_type": "stream",
     "text": [
      "Alright! Da Nang is definitely famous for its beautiful beaches! Here are some of the most popular and well-regarded ones:\n",
      "\n",
      "*   **My Khe Beach:** This is arguably the most famous beach in Da Nang, and often touted as one of the most beautiful in the world. It's known for its soft, white sand, gentle waves, and clear blue water. It's very accessible, with plenty of restaurants, hotels, and activities nearby.\n",
      "\n",
      "*   **Non Nuoc Beach:** Located at the foot of the Marble Mountains, Non Nuoc Beach is known for its tranquil atmosphere and natural beauty. It's a great spot for swimming, sunbathing, and enjoying the scenery.\n",
      "\n",
      "*   **Bac My An Beach:** This beach is a quieter alternative to My Khe, offering a more relaxed atmosphere. It's still beautiful with fine sand and clear water, and there are some lovely resorts and restaurants in the area.\n",
      "\n",
      "*   **Thanh Binh Beach:** This beach is closer to the city center and is popular with locals. It's a good place to experience local beach culture and enjoy some delicious seafood.\n",
      "\n",
      "*   **Tien Sa Beach:** Nestled in a tranquil bay, Tien Sa Beach offers stunning views and a peaceful escape. It's a bit more secluded than the other beaches, making it perfect for those seeking tranquility.\n",
      "\n",
      "Each beach has its own unique charm, so it really depends on what you're looking for in a beach experience! Do you have any preferences in mind, like wanting a bustling beach with lots of activities, or a more secluded and peaceful one? Knowing that will help me give you a more tailored recommendation!\n"
     ]
    }
   ],
   "source": [
    "print(response.content)"
   ]
  },
  {
   "cell_type": "markdown",
   "id": "a6d770b4-80c5-49a6-a925-de3a800d19f2",
   "metadata": {},
   "source": [
    "#### Old way:"
   ]
  },
  {
   "cell_type": "code",
   "execution_count": 12,
   "id": "c6dafd17-47a2-4169-992e-76ffb9702d89",
   "metadata": {},
   "outputs": [],
   "source": [
    "from langchain_core.messages import SystemMessage\n",
    "from langchain_core.prompts import HumanMessagePromptTemplate\n",
    "\n",
    "chat_template = ChatPromptTemplate.from_messages(\n",
    "    [\n",
    "        SystemMessage(\n",
    "            content=(\n",
    "                \"You are a Tour Guide expert on Da Nang city.\"\n",
    "            )\n",
    "        ),\n",
    "        HumanMessagePromptTemplate.from_template(\"{user_input}\"),\n",
    "    ]\n",
    ")\n",
    "\n",
    "messages = chat_template.format_messages(\n",
    "    user_input=\"Can you list the most famous beaches in Da Nang?\"\n",
    ")\n",
    "\n",
    "\n",
    "response = chatModel.invoke(messages)"
   ]
  },
  {
   "cell_type": "code",
   "execution_count": 13,
   "id": "2a4d5a5a-c3a3-48be-8b31-40b0881faa9a",
   "metadata": {},
   "outputs": [
    {
     "name": "stdout",
     "output_type": "stream",
     "text": [
      "Alright, happy to help you plan your beach adventures in Da Nang! Here are some of the most famous and popular beaches in the city, each with its own unique charm:\n",
      "\n",
      "*   **My Khe Beach:** This is arguably the most famous beach in Da Nang, often featured in lists of the world's most beautiful beaches. It's known for its soft, white sand, clear blue water, gentle waves, and long coastline perfect for walking. You'll find plenty of restaurants, cafes, and hotels lining the beach.\n",
      "\n",
      "*   **Non Nuoc Beach:** Located at the foot of the Marble Mountains, Non Nuoc Beach is known for its stunning scenery and tranquility. It's a great place for swimming, sunbathing, and enjoying water sports. It's also a bit quieter than My Khe Beach.\n",
      "\n",
      "*   **Bac My An Beach:** This beach is a great option for those looking for a more luxurious experience. It is home to several high-end resorts and hotels, offering a range of amenities and services. The beach itself is beautiful, with soft sand and clear water.\n",
      "\n",
      "Enjoy your time exploring the beautiful beaches of Da Nang! Let me know if you have any other questions.\n"
     ]
    }
   ],
   "source": [
    "print(response.content)"
   ]
  },
  {
   "cell_type": "markdown",
   "id": "0b510dd0-33b7-4737-aef2-c52a1e8bbf41",
   "metadata": {},
   "source": [
    "#### What is the full potential of ChatPromptTemplate?\n",
    "* Check the [corresponding page](https://api.python.langchain.com/en/latest/prompts/langchain_core.prompts.chat.ChatPromptTemplate.html) in the LangChain API."
   ]
  },
  {
   "cell_type": "markdown",
   "id": "d9f8be09-99fc-491e-babb-0b8ad5bc74c2",
   "metadata": {},
   "source": [
    "## Our first chain: an example of few-shot prompting"
   ]
  },
  {
   "cell_type": "code",
   "execution_count": 14,
   "id": "301ae08a-e223-4239-8eca-8468ceb1e0d3",
   "metadata": {},
   "outputs": [],
   "source": [
    "from langchain_core.prompts import FewShotChatMessagePromptTemplate"
   ]
  },
  {
   "cell_type": "code",
   "execution_count": 15,
   "id": "b882accd-e3e7-4e8a-9d85-55ebaa945837",
   "metadata": {},
   "outputs": [],
   "source": [
    "examples = [\n",
    "    {\"input\": \"hi!\", \"output\": \"xin chào!\"},\n",
    "    {\"input\": \"bye!\", \"output\": \"tạm biệt!\"},\n",
    "]"
   ]
  },
  {
   "cell_type": "code",
   "execution_count": 16,
   "id": "b973d828-0f47-4c43-98ab-e3db306d41e8",
   "metadata": {},
   "outputs": [
    {
     "name": "stdout",
     "output_type": "stream",
     "text": [
      "JFK là ai?\n",
      "\n",
      "JFK là viết tắt của John F. Kennedy, ông là Tổng thống thứ 35 của Hoa Kỳ.\n"
     ]
    }
   ],
   "source": [
    "example_prompt = ChatPromptTemplate.from_messages(\n",
    "    [\n",
    "        (\"human\", \"{input}\"),\n",
    "        (\"ai\", \"{output}\"),\n",
    "    ]\n",
    ")\n",
    "\n",
    "few_shot_prompt = FewShotChatMessagePromptTemplate(\n",
    "    example_prompt=example_prompt,\n",
    "    examples=examples,\n",
    ")\n",
    "\n",
    "final_prompt = ChatPromptTemplate.from_messages(\n",
    "    [\n",
    "        (\"system\", \"You are an English-Vietnamese translator.\"),\n",
    "        few_shot_prompt,\n",
    "        (\"human\", \"{input}\"),\n",
    "    ]\n",
    ")\n",
    "\n",
    "chain = final_prompt | chatModel\n",
    "\n",
    "response = chain.invoke({\"input\": \"Who was JFK?\"})\n",
    "print(response.content)"
   ]
  },
  {
   "cell_type": "markdown",
   "id": "512a50eb-dfe4-4d08-802e-c3dbc40a3444",
   "metadata": {},
   "source": [
    "## How to execute the code from Visual Studio Code\n",
    "* In Visual Studio Code, see the file 001-connect-llms.py\n",
    "* In terminal, make sure you are in the directory of the file and run:\n",
    "    * python 004-chains.py"
   ]
  },
  {
   "cell_type": "code",
   "execution_count": null,
   "id": "9d0d7c2f-57ed-43f5-b6ed-77c54243c069",
   "metadata": {},
   "outputs": [],
   "source": []
  }
 ],
 "metadata": {
  "kernelspec": {
   "display_name": ".venv",
   "language": "python",
   "name": "python3"
  },
  "language_info": {
   "codemirror_mode": {
    "name": "ipython",
    "version": 3
   },
   "file_extension": ".py",
   "mimetype": "text/x-python",
   "name": "python",
   "nbconvert_exporter": "python",
   "pygments_lexer": "ipython3",
   "version": "3.11.4"
  }
 },
 "nbformat": 4,
 "nbformat_minor": 5
}
