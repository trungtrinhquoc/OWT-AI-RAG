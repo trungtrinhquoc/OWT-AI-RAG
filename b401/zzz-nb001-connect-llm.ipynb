{
 "cells": [
  {
   "cell_type": "markdown",
   "id": "465c003a-29cf-4cfe-a0c6-d36c04ae2b37",
   "metadata": {},
   "source": [
    "# Connect with an LLM\n",
    "* Start talking with ChatGPT."
   ]
  },
  {
   "cell_type": "markdown",
   "id": "c759d27a-94f3-4141-945d-065f2095bffd",
   "metadata": {
    "jp-MarkdownHeadingCollapsed": true
   },
   "source": [
    "## Intro\n",
    "* Input: the prompt we send to the LLM.\n",
    "* Output: the response from the LLM.\n",
    "* We can switch LLMs and use several different LLMs."
   ]
  },
  {
   "cell_type": "markdown",
   "id": "8332b6e9-8164-4859-879c-f021a4dfd69d",
   "metadata": {},
   "source": [
    "## LangChain divides LLMs in two types\n",
    "1. LLM Model: text-completion model.\n",
    "2. Chat Model: converses with a sequence of messages and can have a particular role defined (system prompt). This type has become the most used in LangChain.\n"
   ]
  },
  {
   "cell_type": "markdown",
   "id": "de42a3ca-fc4d-4b91-b3bc-a7304ec4d5f8",
   "metadata": {},
   "source": [
    "## See the differences\n",
    "* Even when sometimes the LangChain documentation can be confusing about it, the fact is that text-completion models and Chat models are both LLMs.\n",
    "* But, as you can see in this [playground](https://platform.openai.com/playground/chat?models=gpt-4o), they have some significant differences. See that the chat models in LangChain have system messages, human messages (called \"user messages\" by OpenAI) and AI messages (called \"Assitant Messages\" by OpenAI).\n",
    "* Since the launch of chatGPT, the Chat Model is the most popular LLM type and is used in most LLM apps."
   ]
  },
  {
   "cell_type": "markdown",
   "id": "5a2f9501-fa9e-4830-95e2-537dff951cf1",
   "metadata": {},
   "source": [
    "## List of LLMs that can work with LangChain\n",
    "* See the list [here](https://python.langchain.com/v0.1/docs/integrations/llms/)."
   ]
  },
  {
   "cell_type": "markdown",
   "id": "be46161e-45e9-46d7-8214-bcbea10aff2e",
   "metadata": {},
   "source": [
    "## Setup"
   ]
  },
  {
   "cell_type": "markdown",
   "id": "871e0018-cba4-4959-881a-0a65093d202d",
   "metadata": {},
   "source": [
    "#### After you download the code from the github repository in your computer\n",
    "In terminal:\n",
    "* cd project_name\n",
    "* pyenv local 3.11.4\n",
    "* poetry install\n",
    "* poetry shell"
   ]
  },
  {
   "cell_type": "markdown",
   "id": "80616acf-ae85-4226-ba19-dbbbb9d4796f",
   "metadata": {},
   "source": [
    "#### To open the notebook with Jupyter Notebooks\n",
    "In terminal:\n",
    "* jupyter lab\n",
    "\n",
    "Go to the folder of notebooks and open the right notebook."
   ]
  },
  {
   "cell_type": "markdown",
   "id": "a00a6725-81b3-4ea3-b39a-eb8f2ded91a2",
   "metadata": {},
   "source": [
    "#### To see the code in Virtual Studio Code or your editor of choice.\n",
    "* open Virtual Studio Code or your editor of choice.\n",
    "* open the project-folder\n",
    "* open the 001-connect-llm.py file"
   ]
  },
  {
   "cell_type": "markdown",
   "id": "af743328-1bc8-4b01-85fb-fcb21c6499c2",
   "metadata": {},
   "source": [
    "## Create your .env file\n",
    "* In the github repo we have included a file named .env.example\n",
    "* Rename that file to .env file and here is where you will add your confidential api keys. Remember to include:\n",
    "* OPENAI_API_KEY=your_openai_api_key\n",
    "* LANGCHAIN_TRACING_V2=true\n",
    "* LANGCHAIN_ENDPOINT=https://api.smith.langchain.com\n",
    "* LANGCHAIN_API_KEY=your_langchain_api_key\n",
    "* LANGCHAIN_PROJECT=your_project_name"
   ]
  },
  {
   "cell_type": "markdown",
   "id": "863dd299-0780-49ad-a1b7-b76e249350da",
   "metadata": {},
   "source": [
    "We will call our LangSmith project **001-connect-llm**."
   ]
  },
  {
   "cell_type": "markdown",
   "id": "a2746c97-9fa5-481c-8333-21de1504a087",
   "metadata": {},
   "source": [
    "## Track operations\n",
    "From now on, we can track the operations **and the cost** of this project from LangSmith:\n",
    "* [smith.langchain.com](https://smith.langchain.com)"
   ]
  },
  {
   "cell_type": "markdown",
   "id": "de4ba351-2cfb-4b93-9c79-3c1100e2e291",
   "metadata": {},
   "source": [
    "## Connect with the .env file located in the same directory of this notebook"
   ]
  },
  {
   "cell_type": "markdown",
   "id": "36eaf7e9-acf2-4729-b54c-a8fb6ad2ae1a",
   "metadata": {},
   "source": [
    "If you are using the pre-loaded poetry shell, you do not need to install the following package because it is already pre-loaded for you:"
   ]
  },
  {
   "cell_type": "code",
   "execution_count": 1,
   "id": "e9a10870-432e-4818-aa5e-6be24c579d39",
   "metadata": {},
   "outputs": [],
   "source": [
    "#pip install python-dotenv"
   ]
  },
  {
   "cell_type": "markdown",
   "id": "5e89510f",
   "metadata": {},
   "source": [
    "#### How to install with pip the exact same version listed in the pyproject.toml file\n",
    "\n",
    "To install a specific version of a package using `pip`, you should specify the version in the install command. If you see the pyproject.toml, you will see that the version listed for python-dotenv is `python-dotenv = \"^1.0.1\"`. This notation means to install the version `1.0.1` or any minor updates that still maintain compatibility (i.e., `1.x.x`).\n",
    "\n",
    "For `pip`, which doesn't natively support the caret (`^`) version specifier directly in the command line, you'll want to specify the exact version you need or use comparison operators to define a range. If you only need exactly version `1.0.1`, you can install it like this:\n",
    "\n",
    "```bash\n",
    "pip install python-dotenv==1.0.1\n",
    "```\n",
    "\n",
    "If you want to emulate the behavior of `^1.0.1` using `pip` (i.e., any version starting from `1.0.1` up to but not including the next major version, `2.0.0`), you could use:\n",
    "\n",
    "```bash\n",
    "pip install \"python-dotenv>=1.0.1,<2.0.0\"\n",
    "```\n",
    "\n",
    "This command tells `pip` to install a version of `python-dotenv` that is at least `1.0.1` but less than `2.0.0`. This will allow minor updates that are presumably backward compatible without crossing into a new major version that might introduce breaking changes."
   ]
  },
  {
   "cell_type": "code",
   "execution_count": 1,
   "id": "fecd39d0-e72e-4bc2-8a68-2fa4008ea365",
   "metadata": {},
   "outputs": [],
   "source": [
    "import os\n",
    "from dotenv import load_dotenv, find_dotenv\n",
    "_ = load_dotenv(find_dotenv())\n",
    "google_api_key = os.environ[\"GOOGLE_API_KEY\"]"
   ]
  },
  {
   "cell_type": "markdown",
   "id": "03f4a923-b19e-498e-9be5-e47ec4a77d80",
   "metadata": {},
   "source": [
    "#### Install LangChain"
   ]
  },
  {
   "cell_type": "markdown",
   "id": "6fa888f7-3718-4829-8645-30acb43db51f",
   "metadata": {},
   "source": [
    "If you are using the pre-loaded poetry shell, you do not need to install the following package because it is already pre-loaded for you:"
   ]
  },
  {
   "cell_type": "code",
   "execution_count": 3,
   "id": "c1cf94ae-6c39-4475-9c5b-4b74d8d78753",
   "metadata": {},
   "outputs": [],
   "source": [
    "#!pip install langchain"
   ]
  },
  {
   "cell_type": "markdown",
   "id": "189e9e17-dfb0-4fd3-85b9-1fba83771941",
   "metadata": {},
   "source": [
    "## Connect with an LLM"
   ]
  },
  {
   "cell_type": "markdown",
   "id": "4d5d5b71-b26a-4cd5-9765-019077a67141",
   "metadata": {},
   "source": [
    "If you are using the pre-loaded poetry shell, you do not need to install the following package because it is already pre-loaded for you:"
   ]
  },
  {
   "cell_type": "code",
   "execution_count": 4,
   "id": "148df8e0-361d-4ddd-8709-af48fa1648d1",
   "metadata": {},
   "outputs": [],
   "source": [
    "#!pip install langchain-openai"
   ]
  },
  {
   "cell_type": "markdown",
   "id": "a1998155-91de-4cbc-bc88-8d77beefb51b",
   "metadata": {},
   "source": [
    "* NOTE: Since right now is the best LLM in the market, we will use OpenAI by default. You will see how to connect with other Open Source LLMs like Llama3 or Mistral in a next lesson."
   ]
  },
  {
   "cell_type": "markdown",
   "id": "fbf1d17b-6d15-423b-b554-26d6d977ca27",
   "metadata": {},
   "source": [
    "## LLM Model\n",
    "* The trend before the launch of chatGPT-4.\n",
    "* See LangChain documentation about LLM Models [here](https://python.langchain.com/v0.1/docs/modules/model_io/llms/)."
   ]
  },
  {
   "cell_type": "code",
   "execution_count": 2,
   "id": "e92628f2-62e8-436c-92d4-e849de7744ad",
   "metadata": {},
   "outputs": [],
   "source": [
    "# from langchain_openai import OpenAI\n",
    "from langchain_google_genai import ChatGoogleGenerativeAI\n",
    "\n",
    "# llmModel = OpenAI()\n",
    "llmModel = ChatGoogleGenerativeAI(model=\"gemini-2.0-flash\", google_api_key=google_api_key)\n"
   ]
  },
  {
   "cell_type": "markdown",
   "id": "bdeaf300-5cb6-4df8-bcb9-1fe3c82e4b22",
   "metadata": {},
   "source": [
    "#### Invoke: all the text of the reponse is printed at once."
   ]
  },
  {
   "cell_type": "code",
   "execution_count": 3,
   "id": "93ade5fa-b487-4f32-bda7-0f9c41b096b5",
   "metadata": {},
   "outputs": [],
   "source": [
    "response = llmModel.invoke(\n",
    "    \"Can you tell me an interesting fact about Da Nang.\"\n",
    ")"
   ]
  },
  {
   "cell_type": "code",
   "execution_count": 4,
   "id": "a33285ef-4bb5-4fd6-9894-790c07a5468c",
   "metadata": {},
   "outputs": [
    {
     "data": {
      "text/plain": [
       "AIMessage(content=\"Here's an interesting fact about Da Nang:\\n\\nDa Nang is home to the **Golden Bridge**, a pedestrian bridge held up by two giant, sculpted stone hands. It's a relatively new attraction, having opened in 2018, but it has quickly become an iconic symbol of the city and a major draw for tourists. The design is stunning, making it appear as if the hands are lifting the bridge out of the mountains.\", additional_kwargs={}, response_metadata={'prompt_feedback': {'block_reason': 0, 'safety_ratings': []}, 'finish_reason': 'STOP', 'model_name': 'gemini-2.0-flash', 'safety_ratings': []}, id='run--05e97c0b-b3bf-4611-95bd-23d23ade5dcd-0', usage_metadata={'input_tokens': 11, 'output_tokens': 91, 'total_tokens': 102, 'input_token_details': {'cache_read': 0}})"
      ]
     },
     "execution_count": 4,
     "metadata": {},
     "output_type": "execute_result"
    }
   ],
   "source": [
    "response"
   ]
  },
  {
   "cell_type": "code",
   "execution_count": 5,
   "id": "3aa71043-4707-44b4-8d1f-8540d5d139b2",
   "metadata": {},
   "outputs": [
    {
     "name": "stdout",
     "output_type": "stream",
     "text": [
      "content=\"Here's an interesting fact about Da Nang:\\n\\nDa Nang is home to the **Golden Bridge**, a pedestrian bridge held up by two giant, sculpted stone hands. It's a relatively new attraction, having opened in 2018, but it has quickly become an iconic symbol of the city and a major draw for tourists. The design is stunning, making it appear as if the hands are lifting the bridge out of the mountains.\" additional_kwargs={} response_metadata={'prompt_feedback': {'block_reason': 0, 'safety_ratings': []}, 'finish_reason': 'STOP', 'model_name': 'gemini-2.0-flash', 'safety_ratings': []} id='run--05e97c0b-b3bf-4611-95bd-23d23ade5dcd-0' usage_metadata={'input_tokens': 11, 'output_tokens': 91, 'total_tokens': 102, 'input_token_details': {'cache_read': 0}}\n"
     ]
    }
   ],
   "source": [
    "print(response)"
   ]
  },
  {
   "cell_type": "markdown",
   "id": "9b4c29ae-d60a-44c7-925c-20084c0b941e",
   "metadata": {},
   "source": [
    "#### Streaming: printing one chunk of text at a time"
   ]
  },
  {
   "cell_type": "code",
   "execution_count": 6,
   "id": "158aa111-9167-444c-9b10-90b095eac390",
   "metadata": {},
   "outputs": [
    {
     "name": "stdout",
     "output_type": "stream",
     "text": [
      "content='Here' additional_kwargs={} response_metadata={'safety_ratings': []} id='run--9d582143-72ae-4b72-bc19-889e6661a003' usage_metadata={'input_tokens': 11, 'output_tokens': 0, 'total_tokens': 11, 'input_token_details': {'cache_read': 0}}content='\\'s a fun fact about Da Nang:\\n\\nDa Nang is known as the \"City of' additional_kwargs={} response_metadata={'safety_ratings': []} id='run--9d582143-72ae-4b72-bc19-889e6661a003' usage_metadata={'input_token_details': {'cache_read': 0}, 'total_tokens': 0, 'input_tokens': 0, 'output_tokens': 0}content=' Bridges\" because it has several impressive and unique bridges spanning the Han River, including the iconic' additional_kwargs={} response_metadata={'safety_ratings': []} id='run--9d582143-72ae-4b72-bc19-889e6661a003' usage_metadata={'input_token_details': {'cache_read': 0}, 'total_tokens': 0, 'input_tokens': 0, 'output_tokens': 0}content=' Dragon Bridge which breathes fire and water on weekend nights!\\n' additional_kwargs={} response_metadata={'finish_reason': 'STOP', 'model_name': 'gemini-2.0-flash', 'safety_ratings': []} id='run--9d582143-72ae-4b72-bc19-889e6661a003' usage_metadata={'input_token_details': {'cache_read': 0}, 'total_tokens': 49, 'input_tokens': -1, 'output_tokens': 50}"
     ]
    }
   ],
   "source": [
    "for chunk in llmModel.stream(\n",
    "    \"What’s a fun fact about Da Nang?\"\n",
    "):\n",
    "    print(chunk, end=\"\", flush=True)"
   ]
  },
  {
   "cell_type": "markdown",
   "id": "98101f10-6349-4f98-9fb7-a1400166cedc",
   "metadata": {},
   "source": [
    "#### Temperature: more or less creativity"
   ]
  },
  {
   "cell_type": "code",
   "execution_count": 8,
   "id": "ac12473a-1ffd-4a22-852a-92e1e6374914",
   "metadata": {},
   "outputs": [],
   "source": [
    "# creativeLlmModel = OpenAI(temperature=0.9)\n",
    "creativeLlmModel = ChatGoogleGenerativeAI(\n",
    "    model=\"gemini-2.0-flash\",\n",
    "    google_api_key=google_api_key,\n",
    "    temperature=0.9\n",
    ")\n"
   ]
  },
  {
   "cell_type": "code",
   "execution_count": 9,
   "id": "325b9b2a-c61d-4264-81bf-71090f9b0151",
   "metadata": {},
   "outputs": [],
   "source": [
    "response = llmModel.invoke(\n",
    "    \"Write a short 5-line poem about Da Nang.\"\n",
    ")"
   ]
  },
  {
   "cell_type": "code",
   "execution_count": 10,
   "id": "679c1220-13ed-4251-ba4b-f8f1ba350f2d",
   "metadata": {},
   "outputs": [
    {
     "name": "stdout",
     "output_type": "stream",
     "text": [
      "content=\"Golden sands meet turquoise waves,\\nMarble Mountains pierce the sky,\\nDragon Bridge breathes fire bright,\\nA city vibrant, full of life,\\nDa Nang's beauty will not die.\" additional_kwargs={} response_metadata={'prompt_feedback': {'block_reason': 0, 'safety_ratings': []}, 'finish_reason': 'STOP', 'model_name': 'gemini-2.0-flash', 'safety_ratings': []} id='run--1626b926-a8a4-44c1-bc9f-fe83dd7758f6-0' usage_metadata={'input_tokens': 12, 'output_tokens': 40, 'total_tokens': 52, 'input_token_details': {'cache_read': 0}}\n"
     ]
    }
   ],
   "source": [
    "print(response)"
   ]
  },
  {
   "cell_type": "markdown",
   "id": "31346a0c-ee9c-4a80-8e8a-85ef682df7c3",
   "metadata": {},
   "source": [
    "## Chat Model\n",
    "* The general trend after the launch of chatGPT-4.\n",
    "    * Frequently known as \"Chatbot\". \n",
    "    * Conversation between Human and AI.\n",
    "    * Can have a system prompt defining the tone or the role of the AI. \n",
    "* See LangChain documentation about Chat Models [here](https://python.langchain.com/v0.1/docs/modules/model_io/chat/).\n",
    "* By default we will work with ChatOpenAI. See [here](https://python.langchain.com/v0.1/docs/integrations/chat/openai/) the LangChain documentation page about it."
   ]
  },
  {
   "cell_type": "code",
   "execution_count": 11,
   "id": "b14d27c3-0b1b-4b11-a883-8da2734f21a7",
   "metadata": {},
   "outputs": [],
   "source": [
    "# from langchain_openai import ChatOpenAI\n",
    "\n",
    "# chatModel = ChatOpenAI(model=\"gpt-3.5-turbo-0125\")\n",
    "from langchain_google_genai import ChatGoogleGenerativeAI\n",
    "\n",
    "chatModel = ChatGoogleGenerativeAI(model=\"gemini-2.0-flash\", google_api_key=google_api_key)"
   ]
  },
  {
   "cell_type": "code",
   "execution_count": 14,
   "id": "0eaa967e-067f-4574-8cbc-b1e5b7956fa2",
   "metadata": {},
   "outputs": [],
   "source": [
    "messages = [\n",
    "    (\"system\", \"You are a local historian expert about Da Nang in Viet Nam.\"),\n",
    "    (\"human\", \"Tell me one curious thing about Da Nang.\"),\n",
    "]\n",
    "response = chatModel.invoke(messages)"
   ]
  },
  {
   "cell_type": "code",
   "execution_count": 15,
   "id": "2f567f5a-c4ea-4234-84e6-422bf6104589",
   "metadata": {},
   "outputs": [
    {
     "data": {
      "text/plain": [
       "AIMessage(content=\"One curious thing about Da Nang is its unique relationship with the **Han River and its bridges**.\\n\\nWhile many cities are built alongside rivers, Da Nang has truly embraced the Han River as a central part of its identity and urban development. The bridges spanning the river aren't just transportation routes; they're architectural statements, tourist attractions, and symbols of the city's progress and identity.\\n\\n*   **Dragon Bridge:** The most famous example is the Dragon Bridge, which actually breathes fire and sprays water every Saturday and Sunday night. This spectacle has become a major draw for both locals and tourists.\\n\\n*   **Other Bridges:** Each bridge boasts a distinctive design and illumination, contributing to Da Nang's vibrant nighttime skyline. The Thuan Phuoc Bridge, with its elegant suspension design, and the Tran Thi Ly Bridge, with its modern, sail-like shape, are just a couple of examples.\\n\\n*   **Symbolism:** The bridges are more than just pretty lights. They symbolize connection, growth, and the city's aspirations. The constant addition of new bridges reflects Da Nang's rapid development and its desire to connect different parts of the city.\\n\\nThis conscious effort to make the Han River and its bridges a focal point of the city's identity is quite curious and unique, setting Da Nang apart from many other river cities. It's a testament to the city's forward-thinking approach and its commitment to creating a memorable and visually stunning urban environment.\", additional_kwargs={}, response_metadata={'prompt_feedback': {'block_reason': 0, 'safety_ratings': []}, 'finish_reason': 'STOP', 'model_name': 'gemini-2.0-flash', 'safety_ratings': []}, id='run--4f04ad3e-7b6a-4d41-8a53-d9984f498bfc-0', usage_metadata={'input_tokens': 22, 'output_tokens': 301, 'total_tokens': 323, 'input_token_details': {'cache_read': 0}})"
      ]
     },
     "execution_count": 15,
     "metadata": {},
     "output_type": "execute_result"
    }
   ],
   "source": [
    "response"
   ]
  },
  {
   "cell_type": "code",
   "execution_count": 16,
   "id": "19a6abd4-a072-47ea-ae60-7959def9b602",
   "metadata": {},
   "outputs": [
    {
     "data": {
      "text/plain": [
       "\"One curious thing about Da Nang is its unique relationship with the **Han River and its bridges**.\\n\\nWhile many cities are built alongside rivers, Da Nang has truly embraced the Han River as a central part of its identity and urban development. The bridges spanning the river aren't just transportation routes; they're architectural statements, tourist attractions, and symbols of the city's progress and identity.\\n\\n*   **Dragon Bridge:** The most famous example is the Dragon Bridge, which actually breathes fire and sprays water every Saturday and Sunday night. This spectacle has become a major draw for both locals and tourists.\\n\\n*   **Other Bridges:** Each bridge boasts a distinctive design and illumination, contributing to Da Nang's vibrant nighttime skyline. The Thuan Phuoc Bridge, with its elegant suspension design, and the Tran Thi Ly Bridge, with its modern, sail-like shape, are just a couple of examples.\\n\\n*   **Symbolism:** The bridges are more than just pretty lights. They symbolize connection, growth, and the city's aspirations. The constant addition of new bridges reflects Da Nang's rapid development and its desire to connect different parts of the city.\\n\\nThis conscious effort to make the Han River and its bridges a focal point of the city's identity is quite curious and unique, setting Da Nang apart from many other river cities. It's a testament to the city's forward-thinking approach and its commitment to creating a memorable and visually stunning urban environment.\""
      ]
     },
     "execution_count": 16,
     "metadata": {},
     "output_type": "execute_result"
    }
   ],
   "source": [
    "response.content"
   ]
  },
  {
   "cell_type": "code",
   "execution_count": 17,
   "id": "47927ac1-13bc-40eb-9917-9d39418f0f7d",
   "metadata": {},
   "outputs": [
    {
     "data": {
      "text/plain": [
       "{'prompt_feedback': {'block_reason': 0, 'safety_ratings': []},\n",
       " 'finish_reason': 'STOP',\n",
       " 'model_name': 'gemini-2.0-flash',\n",
       " 'safety_ratings': []}"
      ]
     },
     "execution_count": 17,
     "metadata": {},
     "output_type": "execute_result"
    }
   ],
   "source": [
    "response.response_metadata"
   ]
  },
  {
   "cell_type": "code",
   "execution_count": 18,
   "id": "7847143f-3179-423e-b499-a6e494967741",
   "metadata": {},
   "outputs": [
    {
     "name": "stderr",
     "output_type": "stream",
     "text": [
      "C:\\Users\\PC\\AppData\\Local\\Temp\\ipykernel_12768\\4004604031.py:1: PydanticDeprecatedSince20: The `schema` method is deprecated; use `model_json_schema` instead. Deprecated in Pydantic V2.0 to be removed in V3.0. See Pydantic V2 Migration Guide at https://errors.pydantic.dev/2.11/migration/\n",
      "  response.schema()\n"
     ]
    },
    {
     "data": {
      "text/plain": [
       "{'$defs': {'InputTokenDetails': {'description': 'Breakdown of input token counts.\\n\\nDoes *not* need to sum to full input token count. Does *not* need to have all keys.\\n\\nExample:\\n\\n    .. code-block:: python\\n\\n        {\\n            \"audio\": 10,\\n            \"cache_creation\": 200,\\n            \"cache_read\": 100,\\n        }\\n\\n.. versionadded:: 0.3.9\\n\\nMay also hold extra provider-specific keys.',\n",
       "   'properties': {'audio': {'title': 'Audio', 'type': 'integer'},\n",
       "    'cache_creation': {'title': 'Cache Creation', 'type': 'integer'},\n",
       "    'cache_read': {'title': 'Cache Read', 'type': 'integer'}},\n",
       "   'title': 'InputTokenDetails',\n",
       "   'type': 'object'},\n",
       "  'InvalidToolCall': {'description': 'Allowance for errors made by LLM.\\n\\nHere we add an `error` key to surface errors made during generation\\n(e.g., invalid JSON arguments.)',\n",
       "   'properties': {'name': {'anyOf': [{'type': 'string'}, {'type': 'null'}],\n",
       "     'title': 'Name'},\n",
       "    'args': {'anyOf': [{'type': 'string'}, {'type': 'null'}], 'title': 'Args'},\n",
       "    'id': {'anyOf': [{'type': 'string'}, {'type': 'null'}], 'title': 'Id'},\n",
       "    'error': {'anyOf': [{'type': 'string'}, {'type': 'null'}],\n",
       "     'title': 'Error'},\n",
       "    'type': {'const': 'invalid_tool_call', 'title': 'Type', 'type': 'string'}},\n",
       "   'required': ['name', 'args', 'id', 'error'],\n",
       "   'title': 'InvalidToolCall',\n",
       "   'type': 'object'},\n",
       "  'OutputTokenDetails': {'description': 'Breakdown of output token counts.\\n\\nDoes *not* need to sum to full output token count. Does *not* need to have all keys.\\n\\nExample:\\n\\n    .. code-block:: python\\n\\n        {\\n            \"audio\": 10,\\n            \"reasoning\": 200,\\n        }\\n\\n.. versionadded:: 0.3.9',\n",
       "   'properties': {'audio': {'title': 'Audio', 'type': 'integer'},\n",
       "    'reasoning': {'title': 'Reasoning', 'type': 'integer'}},\n",
       "   'title': 'OutputTokenDetails',\n",
       "   'type': 'object'},\n",
       "  'ToolCall': {'description': 'Represents a request to call a tool.\\n\\nExample:\\n\\n    .. code-block:: python\\n\\n        {\"name\": \"foo\", \"args\": {\"a\": 1}, \"id\": \"123\"}\\n\\n    This represents a request to call the tool named \"foo\" with arguments {\"a\": 1}\\n    and an identifier of \"123\".',\n",
       "   'properties': {'name': {'title': 'Name', 'type': 'string'},\n",
       "    'args': {'additionalProperties': True, 'title': 'Args', 'type': 'object'},\n",
       "    'id': {'anyOf': [{'type': 'string'}, {'type': 'null'}], 'title': 'Id'},\n",
       "    'type': {'const': 'tool_call', 'title': 'Type', 'type': 'string'}},\n",
       "   'required': ['name', 'args', 'id'],\n",
       "   'title': 'ToolCall',\n",
       "   'type': 'object'},\n",
       "  'UsageMetadata': {'description': 'Usage metadata for a message, such as token counts.\\n\\nThis is a standard representation of token usage that is consistent across models.\\n\\nExample:\\n\\n    .. code-block:: python\\n\\n        {\\n            \"input_tokens\": 350,\\n            \"output_tokens\": 240,\\n            \"total_tokens\": 590,\\n            \"input_token_details\": {\\n                \"audio\": 10,\\n                \"cache_creation\": 200,\\n                \"cache_read\": 100,\\n            },\\n            \"output_token_details\": {\\n                \"audio\": 10,\\n                \"reasoning\": 200,\\n            },\\n        }\\n\\n.. versionchanged:: 0.3.9\\n\\n    Added ``input_token_details`` and ``output_token_details``.',\n",
       "   'properties': {'input_tokens': {'title': 'Input Tokens', 'type': 'integer'},\n",
       "    'output_tokens': {'title': 'Output Tokens', 'type': 'integer'},\n",
       "    'total_tokens': {'title': 'Total Tokens', 'type': 'integer'},\n",
       "    'input_token_details': {'$ref': '#/$defs/InputTokenDetails'},\n",
       "    'output_token_details': {'$ref': '#/$defs/OutputTokenDetails'}},\n",
       "   'required': ['input_tokens', 'output_tokens', 'total_tokens'],\n",
       "   'title': 'UsageMetadata',\n",
       "   'type': 'object'}},\n",
       " 'additionalProperties': True,\n",
       " 'description': 'Message from an AI.\\n\\nAIMessage is returned from a chat model as a response to a prompt.\\n\\nThis message represents the output of the model and consists of both\\nthe raw output as returned by the model together standardized fields\\n(e.g., tool calls, usage metadata) added by the LangChain framework.',\n",
       " 'properties': {'content': {'anyOf': [{'type': 'string'},\n",
       "    {'items': {'anyOf': [{'type': 'string'},\n",
       "       {'additionalProperties': True, 'type': 'object'}]},\n",
       "     'type': 'array'}],\n",
       "   'title': 'Content'},\n",
       "  'additional_kwargs': {'additionalProperties': True,\n",
       "   'title': 'Additional Kwargs',\n",
       "   'type': 'object'},\n",
       "  'response_metadata': {'additionalProperties': True,\n",
       "   'title': 'Response Metadata',\n",
       "   'type': 'object'},\n",
       "  'type': {'const': 'ai', 'default': 'ai', 'title': 'Type', 'type': 'string'},\n",
       "  'name': {'anyOf': [{'type': 'string'}, {'type': 'null'}],\n",
       "   'default': None,\n",
       "   'title': 'Name'},\n",
       "  'id': {'anyOf': [{'type': 'string'}, {'type': 'null'}],\n",
       "   'default': None,\n",
       "   'title': 'Id'},\n",
       "  'example': {'default': False, 'title': 'Example', 'type': 'boolean'},\n",
       "  'tool_calls': {'default': [],\n",
       "   'items': {'$ref': '#/$defs/ToolCall'},\n",
       "   'title': 'Tool Calls',\n",
       "   'type': 'array'},\n",
       "  'invalid_tool_calls': {'default': [],\n",
       "   'items': {'$ref': '#/$defs/InvalidToolCall'},\n",
       "   'title': 'Invalid Tool Calls',\n",
       "   'type': 'array'},\n",
       "  'usage_metadata': {'anyOf': [{'$ref': '#/$defs/UsageMetadata'},\n",
       "    {'type': 'null'}],\n",
       "   'default': None}},\n",
       " 'required': ['content'],\n",
       " 'title': 'AIMessage',\n",
       " 'type': 'object'}"
      ]
     },
     "execution_count": 18,
     "metadata": {},
     "output_type": "execute_result"
    }
   ],
   "source": [
    "response.schema()"
   ]
  },
  {
   "cell_type": "markdown",
   "id": "54631efb-dbe2-4bd7-b588-324f19a28b2c",
   "metadata": {},
   "source": [
    "#### Before the previous one, the old way (but still very popular) of doing this was:"
   ]
  },
  {
   "cell_type": "code",
   "execution_count": 19,
   "id": "a20ba943-ce6b-45e2-9dbb-351c48421069",
   "metadata": {},
   "outputs": [],
   "source": [
    "from langchain_core.messages import HumanMessage, SystemMessage\n",
    "from langchain_core.prompts import ChatPromptTemplate"
   ]
  },
  {
   "cell_type": "code",
   "execution_count": 20,
   "id": "b879a5f4-2250-4a70-b065-7796c4fe9f06",
   "metadata": {},
   "outputs": [],
   "source": [
    "messages = [\n",
    "    SystemMessage(content=\"You are a local historian expert on Da Nang.\"),\n",
    "    HumanMessage(content=\"How many bridges are there in Da Nang?\")\n",
    "]\n",
    "\n",
    "response = chatModel.invoke(messages)"
   ]
  },
  {
   "cell_type": "code",
   "execution_count": 21,
   "id": "78f9b26b-e7e1-4613-8e3e-0c81f8b54da6",
   "metadata": {},
   "outputs": [
    {
     "data": {
      "text/plain": [
       "AIMessage(content=\"Ah, a fine question! Da Nang is quite famous for its bridges, and rightly so. As of today, October 26, 2023, Da Nang boasts **ten** main bridges spanning the Han River and other waterways.\\n\\nHere they are, for your consideration:\\n\\n1.  **Han River Bridge (Cầu Sông Hàn):** The iconic rotating bridge and a symbol of Da Nang.\\n2.  **Dragon Bridge (Cầu Rồng):** Famous for its fire-breathing and water-spraying displays.\\n3.  **Tran Thi Ly Bridge (Cầu Trần Thị Lý):** A uniquely designed cable-stayed bridge with a distinctive sail-like appearance.\\n4.  **Nguyen Van Troi Bridge (Cầu Nguyễn Văn Trỗi):** The oldest bridge in Da Nang, now a pedestrian bridge.\\n5.  **Tuyen Son Bridge (Cầu Tuyên Sơn):** A vital bridge connecting the city center to the south.\\n6.  **Da Nang Bay Bridge (Cầu Thuận Phước):** A long suspension bridge offering stunning views of the bay.\\n7.  **Cam Le Bridge (Cầu Cẩm Lệ):** Located further up the river, serving the Cam Le district.\\n8.  **Republic of Korea Bridge (Cầu Hữu Nghị):** A more recent addition, strengthening the infrastructure of the city.\\n9. **Road and Rail Bridge (Cầu Đường Sắt):** A new bridge that opened in 2023, with a dedicated line for trains.\\n10. **Nam O Bridge (Cầu Nam Ô):** A new bridge in the Lien Chieu District.\\n\\nEach bridge has its own unique story and architectural style, contributing to the city's charm and making it a photographer's paradise! Are you planning to visit them? I'd be happy to share some interesting facts or stories about any of them if you'd like.\", additional_kwargs={}, response_metadata={'prompt_feedback': {'block_reason': 0, 'safety_ratings': []}, 'finish_reason': 'STOP', 'model_name': 'gemini-2.0-flash', 'safety_ratings': []}, id='run--3aee5e1f-3bff-4b06-85a7-9c54111c523b-0', usage_metadata={'input_tokens': 19, 'output_tokens': 411, 'total_tokens': 430, 'input_token_details': {'cache_read': 0}})"
      ]
     },
     "execution_count": 21,
     "metadata": {},
     "output_type": "execute_result"
    }
   ],
   "source": [
    "response"
   ]
  },
  {
   "cell_type": "markdown",
   "id": "e41204f4-0cec-4039-a18d-2a25b9dd5efd",
   "metadata": {},
   "source": [
    "#### Streaming:"
   ]
  },
  {
   "cell_type": "code",
   "execution_count": 22,
   "id": "83d9f1d0-bba8-4885-9ac1-01fc273732b1",
   "metadata": {},
   "outputs": [
    {
     "name": "stdout",
     "output_type": "stream",
     "text": [
      "Ah, a great question! Da Nang is quite famous for its bridges, and rightly so. As of today, October 26, 2023, Da Nang boasts a total of **10 bridges** spanning the Han River and other waterways within the city limits.\n",
      "\n",
      "Here's a list of them, to give you a better idea of their significance:\n",
      "\n",
      "1.  **Han River Bridge (Cầu Sông Hàn):** The first swing bridge in Vietnam, and an iconic symbol of Da Nang. It rotates to allow shipping traffic to pass.\n",
      "2.  **Dragon Bridge (Cầu Rồng):** Famous for its impressive dragon design and its weekend fire-breathing and water-spraying shows.\n",
      "3.  **Tran Thi Ly Bridge (Cầu Trần Thị Lý):** With its unique sail-like design, it's a modern architectural marvel.\n",
      "4.  **Nguyen Van Troi Bridge (Cầu Nguyễn Văn Trỗi):** The oldest bridge in Da Nang, with a rich history, now used only for pedestrians, motorbikes, and bicycles.\n",
      "5.  **Tuyen Son Bridge (Cầu Tuyên Sơn):** A vital link connecting the city center to the coastal areas.\n",
      "6.  **Road and Railway Bridge (Cầu Đường Sắt):** A new bridge to replace the old railway bridge.\n",
      "7.  **Da Nang Bay Bridge (Cầu Vòm Đãi):** The sixth bridge across the Han River.\n",
      "8.  **Hoa Xuan Bridge (Cầu Hòa Xuân):** Located near the southern edge of the city.\n",
      "9.  **Cam Le Bridge (Cầu Cẩm Lệ):** Located on the Cam Le river.\n",
      "10. **Mỹ Thủy Bridge (Cầu Mỹ Thủy):** A new bridge opened in 2023.\n",
      "\n",
      "Each bridge has its own story and contributes to the unique character of Da Nang. Are you interested in learning more about a particular bridge? I'd be happy to share some history and interesting facts!\n"
     ]
    }
   ],
   "source": [
    "for chunk in chatModel.stream(messages):\n",
    "    print(chunk.content, end=\"\", flush=True)"
   ]
  },
  {
   "cell_type": "markdown",
   "id": "acd276b9-494a-47c2-8455-2ff33fc4f221",
   "metadata": {},
   "source": [
    "#### Another old way, similar results:"
   ]
  },
  {
   "cell_type": "code",
   "execution_count": 24,
   "id": "4bc0210b-27e0-41ed-8ad8-ff1c75c9bef4",
   "metadata": {},
   "outputs": [],
   "source": [
    "prompt = ChatPromptTemplate.from_messages(\n",
    "    [\n",
    "        (\n",
    "            \"system\",\n",
    "            \"You are expert {profession} in {topic}.\",\n",
    "        ),\n",
    "        (\"human\", \"{input}\"),\n",
    "    ]\n",
    ")\n",
    "\n",
    "chain = prompt | chatModel\n",
    "\n",
    "response = chain.invoke(\n",
    "    {\n",
    "        \"profession\": \"Historian\",\n",
    "        \"topic\": \"Viet Nam\",\n",
    "        \"input\": \"Tell me one fun fact about Da Nang city.\",\n",
    "    }\n",
    ")"
   ]
  },
  {
   "cell_type": "code",
   "execution_count": 25,
   "id": "cc436d53-b372-43eb-ac00-ee39c9fa491a",
   "metadata": {},
   "outputs": [
    {
     "data": {
      "text/plain": [
       "AIMessage(content='Okay, here\\'s a fun fact about Da Nang that often surprises people:\\n\\n**Da Nang is sometimes called the \"City of Bridges\" because it boasts some incredibly unique and impressive bridges, and one of them, the Dragon Bridge (Cầu Rồng), actually breathes fire and water!**\\n\\nSpecifically, every Saturday and Sunday night at 9 PM, the Dragon Bridge puts on a spectacular show where it breathes fire followed by a water display. It\\'s a huge tourist attraction and a really fun and memorable experience. So, while many cities have bridges, Da Nang has a fire-breathing dragon!', additional_kwargs={}, response_metadata={'prompt_feedback': {'block_reason': 0, 'safety_ratings': []}, 'finish_reason': 'STOP', 'model_name': 'gemini-2.0-flash', 'safety_ratings': []}, id='run--8dc695de-c452-412f-bdb7-fccf6bd1fb8c-0', usage_metadata={'input_tokens': 18, 'output_tokens': 124, 'total_tokens': 142, 'input_token_details': {'cache_read': 0}})"
      ]
     },
     "execution_count": 25,
     "metadata": {},
     "output_type": "execute_result"
    }
   ],
   "source": [
    "response"
   ]
  },
  {
   "cell_type": "markdown",
   "id": "512a50eb-dfe4-4d08-802e-c3dbc40a3444",
   "metadata": {},
   "source": [
    "## How to execute the code from Visual Studio Code\n",
    "* In Visual Studio Code, see the file 001-connect-llms.py\n",
    "* In terminal, make sure you are in the directory of the file and run:\n",
    "    * python 001-connect-llm.py"
   ]
  },
  {
   "cell_type": "code",
   "execution_count": null,
   "id": "9d0d7c2f-57ed-43f5-b6ed-77c54243c069",
   "metadata": {},
   "outputs": [],
   "source": []
  }
 ],
 "metadata": {
  "kernelspec": {
   "display_name": ".venv",
   "language": "python",
   "name": "python3"
  },
  "language_info": {
   "codemirror_mode": {
    "name": "ipython",
    "version": 3
   },
   "file_extension": ".py",
   "mimetype": "text/x-python",
   "name": "python",
   "nbconvert_exporter": "python",
   "pygments_lexer": "ipython3",
   "version": "3.11.4"
  }
 },
 "nbformat": 4,
 "nbformat_minor": 5
}
