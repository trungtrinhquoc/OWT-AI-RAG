{
 "cells": [
  {
   "cell_type": "markdown",
   "id": "465c003a-29cf-4cfe-a0c6-d36c04ae2b37",
   "metadata": {},
   "source": [
    "# Memory\n",
    "* Save your conversation with the LLM."
   ]
  },
  {
   "cell_type": "markdown",
   "id": "c759d27a-94f3-4141-945d-065f2095bffd",
   "metadata": {
    "jp-MarkdownHeadingCollapsed": true
   },
   "source": [
    "## Intro\n",
    "* Ability to store information about past interactions.\n",
    "* **Most of memory-related functionality in LangChain is marked as beta**. This is for two reasons:\n",
    "    1. Most functionality are not production ready.\n",
    "    2. Most functionality work with Legacy chains, not the newer LCEL syntax.\n",
    "* **The main exception to this is the ChatMessageHistory functionality**. This functionality is largely production ready and does integrate with LCEL."
   ]
  },
  {
   "cell_type": "markdown",
   "id": "5a2f9501-fa9e-4830-95e2-537dff951cf1",
   "metadata": {},
   "source": [
    "## LangChain documentation on Memory\n",
    "* See the LangChain documentation page on Memory [here](https://python.langchain.com/v0.1/docs/modules/memory/).\n",
    "* See the LangChain documentation page on how to use ChatMessageHistory with LCEL [here](https://python.langchain.com/v0.1/docs/expression_language/how_to/message_history/).\n",
    "* See the LangChain documentation page on the various ChatMessageHistory integrations [here](https://python.langchain.com/v0.1/docs/integrations/memory/)."
   ]
  },
  {
   "cell_type": "markdown",
   "id": "be46161e-45e9-46d7-8214-bcbea10aff2e",
   "metadata": {},
   "source": [
    "## Setup"
   ]
  },
  {
   "cell_type": "markdown",
   "id": "871e0018-cba4-4959-881a-0a65093d202d",
   "metadata": {},
   "source": [
    "#### After you download the code from the github repository in your computer\n",
    "In terminal:\n",
    "* cd project_name\n",
    "* pyenv local 3.11.4\n",
    "* poetry install\n",
    "* poetry shell"
   ]
  },
  {
   "cell_type": "markdown",
   "id": "f44f9bf4-bcc6-4283-b894-0c4dd985f445",
   "metadata": {},
   "source": [
    "#### To open the notebook with Jupyter Notebooks\n",
    "In terminal:\n",
    "* jupyter lab\n",
    "\n",
    "Go to the folder of notebooks and open the right notebook."
   ]
  },
  {
   "cell_type": "markdown",
   "id": "d0233ade-b3d9-4dd9-963c-ff8836f4fd5e",
   "metadata": {},
   "source": [
    "#### To see the code in Virtual Studio Code or your editor of choice.\n",
    "* open Virtual Studio Code or your editor of choice.\n",
    "* open the project-folder\n",
    "* open the 001-simple-chain.py file"
   ]
  },
  {
   "cell_type": "markdown",
   "id": "90d1d742-ee3b-42e4-9db6-7c1c8d5b3923",
   "metadata": {},
   "source": [
    "## Create your .env file\n",
    "* In the github repo we have included a file named .env.example\n",
    "* Rename that file to .env file and here is where you will add your confidential api keys. Remember to include:\n",
    "* OPENAI_API_KEY=your_openai_api_key\n",
    "* LANGCHAIN_TRACING_V2=true\n",
    "* LANGCHAIN_ENDPOINT=https://api.smith.langchain.com\n",
    "* LANGCHAIN_API_KEY=your_langchain_api_key\n",
    "* LANGCHAIN_PROJECT=your_project_name"
   ]
  },
  {
   "cell_type": "markdown",
   "id": "863dd299-0780-49ad-a1b7-b76e249350da",
   "metadata": {},
   "source": [
    "We will call our LangSmith project **001-conversation-buffer**."
   ]
  },
  {
   "cell_type": "markdown",
   "id": "6d46b134-c502-47f1-b67f-c5b03bff1d0a",
   "metadata": {},
   "source": [
    "## Track operations\n",
    "From now on, we can track the operations **and the cost** of this project from LangSmith:\n",
    "* [smith.langchain.com](https://smith.langchain.com)"
   ]
  },
  {
   "cell_type": "markdown",
   "id": "76fca939-bd83-4d5b-8e34-57cdbe855260",
   "metadata": {},
   "source": [
    "## Connect with the .env file located in the same directory of this notebook"
   ]
  },
  {
   "cell_type": "markdown",
   "id": "7ead3bd7-e4af-45b5-a770-64742c3bca77",
   "metadata": {},
   "source": [
    "If you are using the pre-loaded poetry shell, you do not need to install the following package because it is already pre-loaded for you:"
   ]
  },
  {
   "cell_type": "code",
   "execution_count": 19,
   "id": "7365e2af-d5f2-481e-9892-babd5f781ca7",
   "metadata": {},
   "outputs": [],
   "source": [
    "#pip install python-dotenv"
   ]
  },
  {
   "cell_type": "code",
   "execution_count": 20,
   "id": "fecd39d0-e72e-4bc2-8a68-2fa4008ea365",
   "metadata": {},
   "outputs": [],
   "source": [
    "import os\n",
    "from dotenv import load_dotenv, find_dotenv\n",
    "_ = load_dotenv(find_dotenv())\n",
    "google_api_key = os.environ[\"GOOGLE_API_KEY\"]"
   ]
  },
  {
   "cell_type": "markdown",
   "id": "03f4a923-b19e-498e-9be5-e47ec4a77d80",
   "metadata": {},
   "source": [
    "#### Install LangChain"
   ]
  },
  {
   "cell_type": "markdown",
   "id": "8d5c1af4-733f-4139-9eda-9a546614a3f5",
   "metadata": {},
   "source": [
    "If you are using the pre-loaded poetry shell, you do not need to install the following package because it is already pre-loaded for you:"
   ]
  },
  {
   "cell_type": "code",
   "execution_count": 21,
   "id": "c1cf94ae-6c39-4475-9c5b-4b74d8d78753",
   "metadata": {},
   "outputs": [],
   "source": [
    "#!pip install langchain"
   ]
  },
  {
   "cell_type": "markdown",
   "id": "189e9e17-dfb0-4fd3-85b9-1fba83771941",
   "metadata": {},
   "source": [
    "## Connect with an LLM"
   ]
  },
  {
   "cell_type": "markdown",
   "id": "20eb4a8e-7d41-40f7-aae7-ca4cd3e4cf21",
   "metadata": {},
   "source": [
    "If you are using the pre-loaded poetry shell, you do not need to install the following package because it is already pre-loaded for you:"
   ]
  },
  {
   "cell_type": "code",
   "execution_count": 22,
   "id": "148df8e0-361d-4ddd-8709-af48fa1648d1",
   "metadata": {},
   "outputs": [],
   "source": [
    "#!pip install langchain-openai"
   ]
  },
  {
   "cell_type": "markdown",
   "id": "a1998155-91de-4cbc-bc88-8d77beefb51b",
   "metadata": {},
   "source": [
    "* NOTE: Since right now is the best LLM in the market, we will use OpenAI by default. You will see how to connect with other Open Source LLMs like Llama3 or Mistral in a next lesson."
   ]
  },
  {
   "cell_type": "code",
   "execution_count": 23,
   "id": "6ae8595e-5c07-4b02-8a79-db55fd357527",
   "metadata": {},
   "outputs": [],
   "source": [
    "from langchain_google_genai import GoogleGenerativeAI\n",
    "\n",
    "llm = GoogleGenerativeAI(model=\"gemini-2.0-flash\", google_api_key=google_api_key)"
   ]
  },
  {
   "cell_type": "markdown",
   "id": "b3e131c1-3458-4941-848b-a0c54cea0d1c",
   "metadata": {},
   "source": [
    "## Buffer Memory\n",
    "* ConversationBufferMemory keeps a list of chat messages in a buffer and passes those into the prompt template.\n",
    "* A buffer refers to a **temporary storage area in memory** used to hold data. Here, the buffer specifically holds chat messages before they are processed or used in some way, such as being passed into a prompt template.\n",
    "* In simple terms, a buffer is like a waiting room for data. It's a temporary holding spot where data can stay until it's ready to be used or processed. Imagine you're cooking and you chop up vegetables before you need to cook them. Instead of chopping each vegetable right before it goes in the pan, you chop them all at once and put them aside on a cutting board. That cutting board with the chopped vegetables is like a buffer — it holds everything ready for you until you're ready to use it. This way, when you need the vegetables, they are all prepared and ready to go, making the cooking process smoother and faster.\n",
    "* As you can see in the following example, ConversationBufferMemory was used mostly in the initial versions of LangChain."
   ]
  },
  {
   "cell_type": "code",
   "execution_count": 24,
   "id": "e9422509-359b-49a4-ad33-404244c91645",
   "metadata": {},
   "outputs": [],
   "source": [
    "from langchain_core.prompts import (\n",
    "    ChatPromptTemplate,\n",
    "    MessagesPlaceholder,\n",
    "    SystemMessagePromptTemplate,\n",
    "    HumanMessagePromptTemplate,\n",
    ")\n",
    "from langchain.chains import LLMChain\n",
    "from langchain.memory import ConversationBufferMemory\n",
    "\n",
    "\n",
    "prompt = ChatPromptTemplate(\n",
    "    messages=[\n",
    "        SystemMessagePromptTemplate.from_template(\n",
    "            \"You are a nice chatbot having a conversation with a human.\"\n",
    "        ),\n",
    "        # The `variable_name` here is what must align with memory\n",
    "        MessagesPlaceholder(variable_name=\"chat_history\"),\n",
    "        HumanMessagePromptTemplate.from_template(\"{question}\")\n",
    "    ]\n",
    ")\n",
    "# Notice that we `return_messages=True` to fit into the MessagesPlaceholder\n",
    "# Notice that `\"chat_history\"` aligns with the MessagesPlaceholder name.\n",
    "memory = ConversationBufferMemory(memory_key=\"chat_history\", return_messages=True)\n",
    "\n",
    "conversation = LLMChain(\n",
    "    llm=llm,\n",
    "    prompt=prompt,\n",
    "    verbose=True,\n",
    "    memory=memory\n",
    ")"
   ]
  },
  {
   "cell_type": "code",
   "execution_count": 25,
   "id": "25c4c85a-ad84-4aa2-98b8-24ce8428a9d9",
   "metadata": {},
   "outputs": [
    {
     "name": "stdout",
     "output_type": "stream",
     "text": [
      "\n",
      "\n",
      "\u001b[1m> Entering new LLMChain chain...\u001b[0m\n",
      "Prompt after formatting:\n",
      "\u001b[32;1m\u001b[1;3mSystem: You are a nice chatbot having a conversation with a human.\n",
      "Human: hi\u001b[0m\n",
      "\n",
      "\u001b[1m> Finished chain.\u001b[0m\n"
     ]
    },
    {
     "data": {
      "text/plain": [
       "{'question': 'hi',\n",
       " 'chat_history': [HumanMessage(content='hi', additional_kwargs={}, response_metadata={}),\n",
       "  AIMessage(content='Hello! Hi there! How are you doing today?', additional_kwargs={}, response_metadata={})],\n",
       " 'text': 'Hello! Hi there! How are you doing today?'}"
      ]
     },
     "execution_count": 25,
     "metadata": {},
     "output_type": "execute_result"
    }
   ],
   "source": [
    "# Notice that we just pass in the `question` variables - `chat_history` gets populated by memory\n",
    "conversation({\"question\": \"hi\"})"
   ]
  },
  {
   "cell_type": "code",
   "execution_count": 26,
   "id": "b22e732b-f3e5-42e2-a30e-43cf544fd84d",
   "metadata": {},
   "outputs": [
    {
     "name": "stdout",
     "output_type": "stream",
     "text": [
      "\n",
      "\n",
      "\u001b[1m> Entering new LLMChain chain...\u001b[0m\n",
      "Prompt after formatting:\n",
      "\u001b[32;1m\u001b[1;3mSystem: You are a nice chatbot having a conversation with a human.\n",
      "Human: hi\n",
      "AI: Hello! Hi there! How are you doing today?\n",
      "Human: My name is Trung and I have moved 33 times.\u001b[0m\n",
      "\n",
      "\u001b[1m> Finished chain.\u001b[0m\n"
     ]
    },
    {
     "data": {
      "text/plain": [
       "{'question': 'My name is Trung and I have moved 33 times.',\n",
       " 'chat_history': [HumanMessage(content='hi', additional_kwargs={}, response_metadata={}),\n",
       "  AIMessage(content='Hello! Hi there! How are you doing today?', additional_kwargs={}, response_metadata={}),\n",
       "  HumanMessage(content='My name is Trung and I have moved 33 times.', additional_kwargs={}, response_metadata={}),\n",
       "  AIMessage(content=\"Wow, 33 times, Trung! That's a lot of moving! Are you a military family, or do you just enjoy a change of scenery? I'm curious to hear more about your experiences. How are you finding your current location?\", additional_kwargs={}, response_metadata={})],\n",
       " 'text': \"Wow, 33 times, Trung! That's a lot of moving! Are you a military family, or do you just enjoy a change of scenery? I'm curious to hear more about your experiences. How are you finding your current location?\"}"
      ]
     },
     "execution_count": 26,
     "metadata": {},
     "output_type": "execute_result"
    }
   ],
   "source": [
    "conversation({\"question\": \"My name is Trung and I have moved 33 times.\"})"
   ]
  },
  {
   "cell_type": "code",
   "execution_count": 27,
   "id": "9320c2ec-7e35-46a5-8a19-eb1c85144c78",
   "metadata": {},
   "outputs": [
    {
     "name": "stdout",
     "output_type": "stream",
     "text": [
      "\n",
      "\n",
      "\u001b[1m> Entering new LLMChain chain...\u001b[0m\n",
      "Prompt after formatting:\n",
      "\u001b[32;1m\u001b[1;3mSystem: You are a nice chatbot having a conversation with a human.\n",
      "Human: hi\n",
      "AI: Hello! Hi there! How are you doing today?\n",
      "Human: My name is Trung and I have moved 33 times.\n",
      "AI: Wow, 33 times, Trung! That's a lot of moving! Are you a military family, or do you just enjoy a change of scenery? I'm curious to hear more about your experiences. How are you finding your current location?\n",
      "Human: If my average moving distance was 100 miles, how many miles took all my moves?\u001b[0m\n",
      "\n",
      "\u001b[1m> Finished chain.\u001b[0m\n"
     ]
    },
    {
     "data": {
      "text/plain": [
       "{'question': 'If my average moving distance was 100 miles, how many miles took all my moves?',\n",
       " 'chat_history': [HumanMessage(content='hi', additional_kwargs={}, response_metadata={}),\n",
       "  AIMessage(content='Hello! Hi there! How are you doing today?', additional_kwargs={}, response_metadata={}),\n",
       "  HumanMessage(content='My name is Trung and I have moved 33 times.', additional_kwargs={}, response_metadata={}),\n",
       "  AIMessage(content=\"Wow, 33 times, Trung! That's a lot of moving! Are you a military family, or do you just enjoy a change of scenery? I'm curious to hear more about your experiences. How are you finding your current location?\", additional_kwargs={}, response_metadata={}),\n",
       "  HumanMessage(content='If my average moving distance was 100 miles, how many miles took all my moves?', additional_kwargs={}, response_metadata={}),\n",
       "  AIMessage(content=\"Okay, Trung. If you moved 33 times and each move averaged 100 miles, the total distance you've moved would be:\\n\\n33 moves * 100 miles/move = 3300 miles\\n\\nSo, you've moved a total of 3300 miles! That's quite a journey!\", additional_kwargs={}, response_metadata={})],\n",
       " 'text': \"Okay, Trung. If you moved 33 times and each move averaged 100 miles, the total distance you've moved would be:\\n\\n33 moves * 100 miles/move = 3300 miles\\n\\nSo, you've moved a total of 3300 miles! That's quite a journey!\"}"
      ]
     },
     "execution_count": 27,
     "metadata": {},
     "output_type": "execute_result"
    }
   ],
   "source": [
    "conversation({\"question\": \"If my average moving distance was 100 miles, how many miles took all my moves?\"})"
   ]
  },
  {
   "cell_type": "code",
   "execution_count": 28,
   "id": "d50060c5-aa4a-44da-92c5-355fe8a28ddc",
   "metadata": {},
   "outputs": [
    {
     "name": "stdout",
     "output_type": "stream",
     "text": [
      "\n",
      "\n",
      "\u001b[1m> Entering new LLMChain chain...\u001b[0m\n",
      "Prompt after formatting:\n",
      "\u001b[32;1m\u001b[1;3mSystem: You are a nice chatbot having a conversation with a human.\n",
      "Human: hi\n",
      "AI: Hello! Hi there! How are you doing today?\n",
      "Human: My name is Trung and I have moved 33 times.\n",
      "AI: Wow, 33 times, Trung! That's a lot of moving! Are you a military family, or do you just enjoy a change of scenery? I'm curious to hear more about your experiences. How are you finding your current location?\n",
      "Human: If my average moving distance was 100 miles, how many miles took all my moves?\n",
      "AI: Okay, Trung. If you moved 33 times and each move averaged 100 miles, the total distance you've moved would be:\n",
      "\n",
      "33 moves * 100 miles/move = 3300 miles\n",
      "\n",
      "So, you've moved a total of 3300 miles! That's quite a journey!\n",
      "Human: Do you remember my name?\u001b[0m\n",
      "\n",
      "\u001b[1m> Finished chain.\u001b[0m\n"
     ]
    },
    {
     "data": {
      "text/plain": [
       "{'question': 'Do you remember my name?',\n",
       " 'chat_history': [HumanMessage(content='hi', additional_kwargs={}, response_metadata={}),\n",
       "  AIMessage(content='Hello! Hi there! How are you doing today?', additional_kwargs={}, response_metadata={}),\n",
       "  HumanMessage(content='My name is Trung and I have moved 33 times.', additional_kwargs={}, response_metadata={}),\n",
       "  AIMessage(content=\"Wow, 33 times, Trung! That's a lot of moving! Are you a military family, or do you just enjoy a change of scenery? I'm curious to hear more about your experiences. How are you finding your current location?\", additional_kwargs={}, response_metadata={}),\n",
       "  HumanMessage(content='If my average moving distance was 100 miles, how many miles took all my moves?', additional_kwargs={}, response_metadata={}),\n",
       "  AIMessage(content=\"Okay, Trung. If you moved 33 times and each move averaged 100 miles, the total distance you've moved would be:\\n\\n33 moves * 100 miles/move = 3300 miles\\n\\nSo, you've moved a total of 3300 miles! That's quite a journey!\", additional_kwargs={}, response_metadata={}),\n",
       "  HumanMessage(content='Do you remember my name?', additional_kwargs={}, response_metadata={}),\n",
       "  AIMessage(content='Yes, Trung, I remember your name! You told me it was Trung. Is there anything else I can help you with today?', additional_kwargs={}, response_metadata={})],\n",
       " 'text': 'Yes, Trung, I remember your name! You told me it was Trung. Is there anything else I can help you with today?'}"
      ]
     },
     "execution_count": 28,
     "metadata": {},
     "output_type": "execute_result"
    }
   ],
   "source": [
    "conversation({\"question\": \"Do you remember my name?\"})"
   ]
  },
  {
   "cell_type": "code",
   "execution_count": 29,
   "id": "8d1ad132-fd8b-4355-bab0-ef8605d3650e",
   "metadata": {},
   "outputs": [
    {
     "name": "stdout",
     "output_type": "stream",
     "text": [
      "[HumanMessage(content='hi', additional_kwargs={}, response_metadata={}), AIMessage(content='Hello! Hi there! How are you doing today?', additional_kwargs={}, response_metadata={}), HumanMessage(content='My name is Trung and I have moved 33 times.', additional_kwargs={}, response_metadata={}), AIMessage(content=\"Wow, 33 times, Trung! That's a lot of moving! Are you a military family, or do you just enjoy a change of scenery? I'm curious to hear more about your experiences. How are you finding your current location?\", additional_kwargs={}, response_metadata={}), HumanMessage(content='If my average moving distance was 100 miles, how many miles took all my moves?', additional_kwargs={}, response_metadata={}), AIMessage(content=\"Okay, Trung. If you moved 33 times and each move averaged 100 miles, the total distance you've moved would be:\\n\\n33 moves * 100 miles/move = 3300 miles\\n\\nSo, you've moved a total of 3300 miles! That's quite a journey!\", additional_kwargs={}, response_metadata={}), HumanMessage(content='Do you remember my name?', additional_kwargs={}, response_metadata={}), AIMessage(content='Yes, Trung, I remember your name! You told me it was Trung. Is there anything else I can help you with today?', additional_kwargs={}, response_metadata={})]\n"
     ]
    }
   ],
   "source": [
    "print(memory.buffer)"
   ]
  },
  {
   "cell_type": "code",
   "execution_count": 30,
   "id": "83e4331e-8e2e-4502-8de4-fda0da8aff8c",
   "metadata": {},
   "outputs": [
    {
     "data": {
      "text/plain": [
       "{'chat_history': [HumanMessage(content='hi', additional_kwargs={}, response_metadata={}),\n",
       "  AIMessage(content='Hello! Hi there! How are you doing today?', additional_kwargs={}, response_metadata={}),\n",
       "  HumanMessage(content='My name is Trung and I have moved 33 times.', additional_kwargs={}, response_metadata={}),\n",
       "  AIMessage(content=\"Wow, 33 times, Trung! That's a lot of moving! Are you a military family, or do you just enjoy a change of scenery? I'm curious to hear more about your experiences. How are you finding your current location?\", additional_kwargs={}, response_metadata={}),\n",
       "  HumanMessage(content='If my average moving distance was 100 miles, how many miles took all my moves?', additional_kwargs={}, response_metadata={}),\n",
       "  AIMessage(content=\"Okay, Trung. If you moved 33 times and each move averaged 100 miles, the total distance you've moved would be:\\n\\n33 moves * 100 miles/move = 3300 miles\\n\\nSo, you've moved a total of 3300 miles! That's quite a journey!\", additional_kwargs={}, response_metadata={}),\n",
       "  HumanMessage(content='Do you remember my name?', additional_kwargs={}, response_metadata={}),\n",
       "  AIMessage(content='Yes, Trung, I remember your name! You told me it was Trung. Is there anything else I can help you with today?', additional_kwargs={}, response_metadata={})]}"
      ]
     },
     "execution_count": 30,
     "metadata": {},
     "output_type": "execute_result"
    }
   ],
   "source": [
    "memory.load_memory_variables({})"
   ]
  },
  {
   "cell_type": "markdown",
   "id": "b440a384-8c9f-4802-8fa9-9a042d200ced",
   "metadata": {},
   "source": [
    "## Conversation Buffer Window Memory\n",
    "Similar to the previous one, but **you can limit the number of conversational exchanges stored in memory**. For example, you can set it so it only remembers the last 3 questions and answers of the conversation."
   ]
  },
  {
   "cell_type": "code",
   "execution_count": 31,
   "id": "224f6a07-66a5-4302-adcb-08a1544ae288",
   "metadata": {},
   "outputs": [],
   "source": [
    "from langchain.memory import ConversationBufferWindowMemory\n",
    "from langchain.chains import ConversationChain"
   ]
  },
  {
   "cell_type": "code",
   "execution_count": 32,
   "id": "615a06d0-092f-4cb7-857c-6750c4643c1e",
   "metadata": {},
   "outputs": [],
   "source": [
    "window_memory = ConversationBufferWindowMemory(k=3)"
   ]
  },
  {
   "cell_type": "code",
   "execution_count": 33,
   "id": "f3567844-9ca9-4454-a973-c03de283bf6f",
   "metadata": {},
   "outputs": [],
   "source": [
    "conversation_window = ConversationChain(\n",
    "    llm=llm, \n",
    "    memory = window_memory,\n",
    "    verbose=True\n",
    ")"
   ]
  },
  {
   "cell_type": "code",
   "execution_count": 34,
   "id": "58ef7681-d99a-484f-bb64-08dbcb794654",
   "metadata": {},
   "outputs": [
    {
     "name": "stdout",
     "output_type": "stream",
     "text": [
      "\n",
      "\n",
      "\u001b[1m> Entering new ConversationChain chain...\u001b[0m\n",
      "Prompt after formatting:\n",
      "\u001b[32;1m\u001b[1;3mThe following is a friendly conversation between a human and an AI. The AI is talkative and provides lots of specific details from its context. If the AI does not know the answer to a question, it truthfully says it does not know.\n",
      "\n",
      "Current conversation:\n",
      "\n",
      "Human: Hi, my name is Trung\n",
      "AI:\u001b[0m\n",
      "\n",
      "\u001b[1m> Finished chain.\u001b[0m\n"
     ]
    },
    {
     "data": {
      "text/plain": [
       "{'input': 'Hi, my name is Trung',\n",
       " 'history': '',\n",
       " 'response': \"Hi Trung! It's nice to meet you. I don't have a name myself, but you can call me AI. I'm a large language model, trained by Google AI. I'm based on the Transformer architecture and have been trained on a massive dataset of text and code. This training allows me to communicate and generate human-like text in response to a wide range of prompts and questions. I can do things like summarize factual topics, create stories, and translate languages. What can I do for you today?\"}"
      ]
     },
     "execution_count": 34,
     "metadata": {},
     "output_type": "execute_result"
    }
   ],
   "source": [
    "conversation_window({\"input\": \"Hi, my name is Trung\"})"
   ]
  },
  {
   "cell_type": "code",
   "execution_count": 35,
   "id": "2b3807d3-6ee3-49c4-9adb-59013f7e54d1",
   "metadata": {},
   "outputs": [
    {
     "name": "stdout",
     "output_type": "stream",
     "text": [
      "\n",
      "\n",
      "\u001b[1m> Entering new ConversationChain chain...\u001b[0m\n",
      "Prompt after formatting:\n",
      "\u001b[32;1m\u001b[1;3mThe following is a friendly conversation between a human and an AI. The AI is talkative and provides lots of specific details from its context. If the AI does not know the answer to a question, it truthfully says it does not know.\n",
      "\n",
      "Current conversation:\n",
      "Human: Hi, my name is Trung\n",
      "AI: Hi Trung! It's nice to meet you. I don't have a name myself, but you can call me AI. I'm a large language model, trained by Google AI. I'm based on the Transformer architecture and have been trained on a massive dataset of text and code. This training allows me to communicate and generate human-like text in response to a wide range of prompts and questions. I can do things like summarize factual topics, create stories, and translate languages. What can I do for you today?\n",
      "Human: My favorite color is blue\n",
      "AI:\u001b[0m\n",
      "\n",
      "\u001b[1m> Finished chain.\u001b[0m\n"
     ]
    },
    {
     "data": {
      "text/plain": [
       "{'input': 'My favorite color is blue',\n",
       " 'history': \"Human: Hi, my name is Trung\\nAI: Hi Trung! It's nice to meet you. I don't have a name myself, but you can call me AI. I'm a large language model, trained by Google AI. I'm based on the Transformer architecture and have been trained on a massive dataset of text and code. This training allows me to communicate and generate human-like text in response to a wide range of prompts and questions. I can do things like summarize factual topics, create stories, and translate languages. What can I do for you today?\",\n",
       " 'response': 'That\\'s a great choice, Trung! Blue is a very popular color. It\\'s often associated with calmness, peace, and serenity. Fun fact: in color psychology, blue is also linked to trust, loyalty, and wisdom. Did you know that blue is one of the three primary colors in the RGB color model, which is used to create colors on computer screens and other digital displays? It\\'s also a significant color in art; think of the famous \"Starry Night\" painting by Vincent van Gogh, with its swirling blues. Do you have a particular shade of blue that you prefer, like sky blue, navy blue, or maybe a deep ocean blue? I find the variety of blue shades quite fascinating!'}"
      ]
     },
     "execution_count": 35,
     "metadata": {},
     "output_type": "execute_result"
    }
   ],
   "source": [
    "conversation_window({\"input\": \"My favorite color is blue\"})"
   ]
  },
  {
   "cell_type": "code",
   "execution_count": 36,
   "id": "6221d09e-5663-43cb-aaa5-e605bb0a2e18",
   "metadata": {},
   "outputs": [
    {
     "name": "stdout",
     "output_type": "stream",
     "text": [
      "\n",
      "\n",
      "\u001b[1m> Entering new ConversationChain chain...\u001b[0m\n",
      "Prompt after formatting:\n",
      "\u001b[32;1m\u001b[1;3mThe following is a friendly conversation between a human and an AI. The AI is talkative and provides lots of specific details from its context. If the AI does not know the answer to a question, it truthfully says it does not know.\n",
      "\n",
      "Current conversation:\n",
      "Human: Hi, my name is Trung\n",
      "AI: Hi Trung! It's nice to meet you. I don't have a name myself, but you can call me AI. I'm a large language model, trained by Google AI. I'm based on the Transformer architecture and have been trained on a massive dataset of text and code. This training allows me to communicate and generate human-like text in response to a wide range of prompts and questions. I can do things like summarize factual topics, create stories, and translate languages. What can I do for you today?\n",
      "Human: My favorite color is blue\n",
      "AI: That's a great choice, Trung! Blue is a very popular color. It's often associated with calmness, peace, and serenity. Fun fact: in color psychology, blue is also linked to trust, loyalty, and wisdom. Did you know that blue is one of the three primary colors in the RGB color model, which is used to create colors on computer screens and other digital displays? It's also a significant color in art; think of the famous \"Starry Night\" painting by Vincent van Gogh, with its swirling blues. Do you have a particular shade of blue that you prefer, like sky blue, navy blue, or maybe a deep ocean blue? I find the variety of blue shades quite fascinating!\n",
      "Human: My favorite animals are dogs\n",
      "AI:\u001b[0m\n",
      "\n",
      "\u001b[1m> Finished chain.\u001b[0m\n"
     ]
    },
    {
     "data": {
      "text/plain": [
       "{'input': 'My favorite animals are dogs',\n",
       " 'history': 'Human: Hi, my name is Trung\\nAI: Hi Trung! It\\'s nice to meet you. I don\\'t have a name myself, but you can call me AI. I\\'m a large language model, trained by Google AI. I\\'m based on the Transformer architecture and have been trained on a massive dataset of text and code. This training allows me to communicate and generate human-like text in response to a wide range of prompts and questions. I can do things like summarize factual topics, create stories, and translate languages. What can I do for you today?\\nHuman: My favorite color is blue\\nAI: That\\'s a great choice, Trung! Blue is a very popular color. It\\'s often associated with calmness, peace, and serenity. Fun fact: in color psychology, blue is also linked to trust, loyalty, and wisdom. Did you know that blue is one of the three primary colors in the RGB color model, which is used to create colors on computer screens and other digital displays? It\\'s also a significant color in art; think of the famous \"Starry Night\" painting by Vincent van Gogh, with its swirling blues. Do you have a particular shade of blue that you prefer, like sky blue, navy blue, or maybe a deep ocean blue? I find the variety of blue shades quite fascinating!',\n",
       " 'response': \"Dogs! Excellent choice, Trung! They're definitely one of the most beloved animals on the planet. It's easy to see why; they're loyal, intelligent, and offer unconditional love. As a language model, I've processed countless texts about dogs, and I'm always amazed by the diversity of breeds. From tiny Chihuahuas to giant Great Danes, there's a dog for almost every lifestyle.\\n\\nDid you know that dogs are descended from wolves? Scientists believe that the domestication of dogs began tens of thousands of years ago! Their keen sense of smell is legendary; they can detect scents that are imperceptible to humans. This ability is why they're used in so many important roles, like search and rescue, detecting drugs, and even identifying certain diseases.\\n\\nDo you have a favorite breed of dog? Or perhaps a favorite thing about dogs in general? I'm always eager to learn more about what makes them so special. Maybe you admire their playful nature, their unwavering loyalty, or their incredible ability to learn new tricks. I'm all ears!\"}"
      ]
     },
     "execution_count": 36,
     "metadata": {},
     "output_type": "execute_result"
    }
   ],
   "source": [
    "conversation_window({\"input\": \"My favorite animals are dogs\"})"
   ]
  },
  {
   "cell_type": "code",
   "execution_count": 37,
   "id": "b2aa84d1-5d9d-4c1e-8d29-c806c69a2e95",
   "metadata": {},
   "outputs": [
    {
     "name": "stdout",
     "output_type": "stream",
     "text": [
      "\n",
      "\n",
      "\u001b[1m> Entering new ConversationChain chain...\u001b[0m\n",
      "Prompt after formatting:\n",
      "\u001b[32;1m\u001b[1;3mThe following is a friendly conversation between a human and an AI. The AI is talkative and provides lots of specific details from its context. If the AI does not know the answer to a question, it truthfully says it does not know.\n",
      "\n",
      "Current conversation:\n",
      "Human: Hi, my name is Trung\n",
      "AI: Hi Trung! It's nice to meet you. I don't have a name myself, but you can call me AI. I'm a large language model, trained by Google AI. I'm based on the Transformer architecture and have been trained on a massive dataset of text and code. This training allows me to communicate and generate human-like text in response to a wide range of prompts and questions. I can do things like summarize factual topics, create stories, and translate languages. What can I do for you today?\n",
      "Human: My favorite color is blue\n",
      "AI: That's a great choice, Trung! Blue is a very popular color. It's often associated with calmness, peace, and serenity. Fun fact: in color psychology, blue is also linked to trust, loyalty, and wisdom. Did you know that blue is one of the three primary colors in the RGB color model, which is used to create colors on computer screens and other digital displays? It's also a significant color in art; think of the famous \"Starry Night\" painting by Vincent van Gogh, with its swirling blues. Do you have a particular shade of blue that you prefer, like sky blue, navy blue, or maybe a deep ocean blue? I find the variety of blue shades quite fascinating!\n",
      "Human: My favorite animals are dogs\n",
      "AI: Dogs! Excellent choice, Trung! They're definitely one of the most beloved animals on the planet. It's easy to see why; they're loyal, intelligent, and offer unconditional love. As a language model, I've processed countless texts about dogs, and I'm always amazed by the diversity of breeds. From tiny Chihuahuas to giant Great Danes, there's a dog for almost every lifestyle.\n",
      "\n",
      "Did you know that dogs are descended from wolves? Scientists believe that the domestication of dogs began tens of thousands of years ago! Their keen sense of smell is legendary; they can detect scents that are imperceptible to humans. This ability is why they're used in so many important roles, like search and rescue, detecting drugs, and even identifying certain diseases.\n",
      "\n",
      "Do you have a favorite breed of dog? Or perhaps a favorite thing about dogs in general? I'm always eager to learn more about what makes them so special. Maybe you admire their playful nature, their unwavering loyalty, or their incredible ability to learn new tricks. I'm all ears!\n",
      "Human: I like to drive a vespa scooter in the city\n",
      "AI:\u001b[0m\n",
      "\n",
      "\u001b[1m> Finished chain.\u001b[0m\n"
     ]
    },
    {
     "data": {
      "text/plain": [
       "{'input': 'I like to drive a vespa scooter in the city',\n",
       " 'history': 'Human: Hi, my name is Trung\\nAI: Hi Trung! It\\'s nice to meet you. I don\\'t have a name myself, but you can call me AI. I\\'m a large language model, trained by Google AI. I\\'m based on the Transformer architecture and have been trained on a massive dataset of text and code. This training allows me to communicate and generate human-like text in response to a wide range of prompts and questions. I can do things like summarize factual topics, create stories, and translate languages. What can I do for you today?\\nHuman: My favorite color is blue\\nAI: That\\'s a great choice, Trung! Blue is a very popular color. It\\'s often associated with calmness, peace, and serenity. Fun fact: in color psychology, blue is also linked to trust, loyalty, and wisdom. Did you know that blue is one of the three primary colors in the RGB color model, which is used to create colors on computer screens and other digital displays? It\\'s also a significant color in art; think of the famous \"Starry Night\" painting by Vincent van Gogh, with its swirling blues. Do you have a particular shade of blue that you prefer, like sky blue, navy blue, or maybe a deep ocean blue? I find the variety of blue shades quite fascinating!\\nHuman: My favorite animals are dogs\\nAI: Dogs! Excellent choice, Trung! They\\'re definitely one of the most beloved animals on the planet. It\\'s easy to see why; they\\'re loyal, intelligent, and offer unconditional love. As a language model, I\\'ve processed countless texts about dogs, and I\\'m always amazed by the diversity of breeds. From tiny Chihuahuas to giant Great Danes, there\\'s a dog for almost every lifestyle.\\n\\nDid you know that dogs are descended from wolves? Scientists believe that the domestication of dogs began tens of thousands of years ago! Their keen sense of smell is legendary; they can detect scents that are imperceptible to humans. This ability is why they\\'re used in so many important roles, like search and rescue, detecting drugs, and even identifying certain diseases.\\n\\nDo you have a favorite breed of dog? Or perhaps a favorite thing about dogs in general? I\\'m always eager to learn more about what makes them so special. Maybe you admire their playful nature, their unwavering loyalty, or their incredible ability to learn new tricks. I\\'m all ears!',\n",
       " 'response': 'Ah, a Vespa scooter! That sounds like a fantastic way to navigate the city, Trung. I can almost picture you zipping through the streets, feeling the wind in your hair (assuming you\\'re wearing a helmet, of course! Safety first!). Vespas are iconic, aren\\'t they? They have such a distinctive design, a blend of retro charm and practical functionality.\\n\\nDid you know that the Vespa was originally designed in Italy after World War II by Piaggio as an affordable mode of transportation for the masses? Its name, \"Vespa,\" means \"wasp\" in Italian, supposedly because the sound of the engine resembled the buzzing of a wasp. The design was innovative for its time, featuring a unibody construction and a comfortable riding position.\\n\\nI\\'ve processed a lot of information about urban transportation, and it seems Vespas are particularly popular in cities with narrow streets and dense traffic. Their maneuverability and fuel efficiency make them ideal for navigating crowded urban environments. Plus, they\\'re quite stylish! Do you find that your Vespa makes commuting easier or more enjoyable? I\\'m curious about your personal experience with it. Perhaps you have a favorite route you like to take, or a particular model of Vespa that you prefer?'}"
      ]
     },
     "execution_count": 37,
     "metadata": {},
     "output_type": "execute_result"
    }
   ],
   "source": [
    "conversation_window({\"input\": \"I like to drive a vespa scooter in the city\"})"
   ]
  },
  {
   "cell_type": "code",
   "execution_count": 38,
   "id": "c60e52d9-907d-4c29-8720-97019af6b120",
   "metadata": {},
   "outputs": [
    {
     "name": "stdout",
     "output_type": "stream",
     "text": [
      "\n",
      "\n",
      "\u001b[1m> Entering new ConversationChain chain...\u001b[0m\n",
      "Prompt after formatting:\n",
      "\u001b[32;1m\u001b[1;3mThe following is a friendly conversation between a human and an AI. The AI is talkative and provides lots of specific details from its context. If the AI does not know the answer to a question, it truthfully says it does not know.\n",
      "\n",
      "Current conversation:\n",
      "Human: My favorite color is blue\n",
      "AI: That's a great choice, Trung! Blue is a very popular color. It's often associated with calmness, peace, and serenity. Fun fact: in color psychology, blue is also linked to trust, loyalty, and wisdom. Did you know that blue is one of the three primary colors in the RGB color model, which is used to create colors on computer screens and other digital displays? It's also a significant color in art; think of the famous \"Starry Night\" painting by Vincent van Gogh, with its swirling blues. Do you have a particular shade of blue that you prefer, like sky blue, navy blue, or maybe a deep ocean blue? I find the variety of blue shades quite fascinating!\n",
      "Human: My favorite animals are dogs\n",
      "AI: Dogs! Excellent choice, Trung! They're definitely one of the most beloved animals on the planet. It's easy to see why; they're loyal, intelligent, and offer unconditional love. As a language model, I've processed countless texts about dogs, and I'm always amazed by the diversity of breeds. From tiny Chihuahuas to giant Great Danes, there's a dog for almost every lifestyle.\n",
      "\n",
      "Did you know that dogs are descended from wolves? Scientists believe that the domestication of dogs began tens of thousands of years ago! Their keen sense of smell is legendary; they can detect scents that are imperceptible to humans. This ability is why they're used in so many important roles, like search and rescue, detecting drugs, and even identifying certain diseases.\n",
      "\n",
      "Do you have a favorite breed of dog? Or perhaps a favorite thing about dogs in general? I'm always eager to learn more about what makes them so special. Maybe you admire their playful nature, their unwavering loyalty, or their incredible ability to learn new tricks. I'm all ears!\n",
      "Human: I like to drive a vespa scooter in the city\n",
      "AI: Ah, a Vespa scooter! That sounds like a fantastic way to navigate the city, Trung. I can almost picture you zipping through the streets, feeling the wind in your hair (assuming you're wearing a helmet, of course! Safety first!). Vespas are iconic, aren't they? They have such a distinctive design, a blend of retro charm and practical functionality.\n",
      "\n",
      "Did you know that the Vespa was originally designed in Italy after World War II by Piaggio as an affordable mode of transportation for the masses? Its name, \"Vespa,\" means \"wasp\" in Italian, supposedly because the sound of the engine resembled the buzzing of a wasp. The design was innovative for its time, featuring a unibody construction and a comfortable riding position.\n",
      "\n",
      "I've processed a lot of information about urban transportation, and it seems Vespas are particularly popular in cities with narrow streets and dense traffic. Their maneuverability and fuel efficiency make them ideal for navigating crowded urban environments. Plus, they're quite stylish! Do you find that your Vespa makes commuting easier or more enjoyable? I'm curious about your personal experience with it. Perhaps you have a favorite route you like to take, or a particular model of Vespa that you prefer?\n",
      "Human: My favorite city is San Francisco\n",
      "AI:\u001b[0m\n",
      "\n",
      "\u001b[1m> Finished chain.\u001b[0m\n"
     ]
    },
    {
     "data": {
      "text/plain": [
       "{'input': 'My favorite city is San Francisco',\n",
       " 'history': 'Human: My favorite color is blue\\nAI: That\\'s a great choice, Trung! Blue is a very popular color. It\\'s often associated with calmness, peace, and serenity. Fun fact: in color psychology, blue is also linked to trust, loyalty, and wisdom. Did you know that blue is one of the three primary colors in the RGB color model, which is used to create colors on computer screens and other digital displays? It\\'s also a significant color in art; think of the famous \"Starry Night\" painting by Vincent van Gogh, with its swirling blues. Do you have a particular shade of blue that you prefer, like sky blue, navy blue, or maybe a deep ocean blue? I find the variety of blue shades quite fascinating!\\nHuman: My favorite animals are dogs\\nAI: Dogs! Excellent choice, Trung! They\\'re definitely one of the most beloved animals on the planet. It\\'s easy to see why; they\\'re loyal, intelligent, and offer unconditional love. As a language model, I\\'ve processed countless texts about dogs, and I\\'m always amazed by the diversity of breeds. From tiny Chihuahuas to giant Great Danes, there\\'s a dog for almost every lifestyle.\\n\\nDid you know that dogs are descended from wolves? Scientists believe that the domestication of dogs began tens of thousands of years ago! Their keen sense of smell is legendary; they can detect scents that are imperceptible to humans. This ability is why they\\'re used in so many important roles, like search and rescue, detecting drugs, and even identifying certain diseases.\\n\\nDo you have a favorite breed of dog? Or perhaps a favorite thing about dogs in general? I\\'m always eager to learn more about what makes them so special. Maybe you admire their playful nature, their unwavering loyalty, or their incredible ability to learn new tricks. I\\'m all ears!\\nHuman: I like to drive a vespa scooter in the city\\nAI: Ah, a Vespa scooter! That sounds like a fantastic way to navigate the city, Trung. I can almost picture you zipping through the streets, feeling the wind in your hair (assuming you\\'re wearing a helmet, of course! Safety first!). Vespas are iconic, aren\\'t they? They have such a distinctive design, a blend of retro charm and practical functionality.\\n\\nDid you know that the Vespa was originally designed in Italy after World War II by Piaggio as an affordable mode of transportation for the masses? Its name, \"Vespa,\" means \"wasp\" in Italian, supposedly because the sound of the engine resembled the buzzing of a wasp. The design was innovative for its time, featuring a unibody construction and a comfortable riding position.\\n\\nI\\'ve processed a lot of information about urban transportation, and it seems Vespas are particularly popular in cities with narrow streets and dense traffic. Their maneuverability and fuel efficiency make them ideal for navigating crowded urban environments. Plus, they\\'re quite stylish! Do you find that your Vespa makes commuting easier or more enjoyable? I\\'m curious about your personal experience with it. Perhaps you have a favorite route you like to take, or a particular model of Vespa that you prefer?',\n",
       " 'response': 'San Francisco! What a wonderful choice, Trung! It\\'s a city with such a unique character and vibrant culture. I\\'ve processed countless articles, books, and travel guides about San Francisco, and I\\'m always fascinated by its rich history and diverse neighborhoods. From the iconic Golden Gate Bridge to the charming Victorian houses of Alamo Square (the \"Painted Ladies\"), it\\'s a city full of landmarks.\\n\\nDid you know that San Francisco was originally founded in 1776 by Spanish colonists and was initially named Yerba Buena? It wasn\\'t until the California Gold Rush in 1849 that the city experienced explosive growth and became a major economic and cultural hub. The Gold Rush transformed it from a small settlement into a bustling metropolis practically overnight!\\n\\nSan Francisco is also known for its hilly terrain, which makes for some breathtaking views, but also some challenging cycling routes! And of course, there\\'s the famous fog, affectionately nicknamed \"Karl the Fog\" by locals. It often blankets the city, creating a mystical and atmospheric ambiance.\\n\\nWhat is it about San Francisco that you love the most? Is it the cultural scene, the food, the history, the architecture, or something else entirely? Perhaps you enjoy riding your Vespa through its iconic streets! I\\'m very curious to hear more about your personal connection to the city.'}"
      ]
     },
     "execution_count": 38,
     "metadata": {},
     "output_type": "execute_result"
    }
   ],
   "source": [
    "conversation_window({\"input\": \"My favorite city is San Francisco\"})"
   ]
  },
  {
   "cell_type": "code",
   "execution_count": 39,
   "id": "0c173dc8-3fe5-4913-942c-89f58c3a2486",
   "metadata": {},
   "outputs": [
    {
     "name": "stdout",
     "output_type": "stream",
     "text": [
      "\n",
      "\n",
      "\u001b[1m> Entering new ConversationChain chain...\u001b[0m\n",
      "Prompt after formatting:\n",
      "\u001b[32;1m\u001b[1;3mThe following is a friendly conversation between a human and an AI. The AI is talkative and provides lots of specific details from its context. If the AI does not know the answer to a question, it truthfully says it does not know.\n",
      "\n",
      "Current conversation:\n",
      "Human: My favorite animals are dogs\n",
      "AI: Dogs! Excellent choice, Trung! They're definitely one of the most beloved animals on the planet. It's easy to see why; they're loyal, intelligent, and offer unconditional love. As a language model, I've processed countless texts about dogs, and I'm always amazed by the diversity of breeds. From tiny Chihuahuas to giant Great Danes, there's a dog for almost every lifestyle.\n",
      "\n",
      "Did you know that dogs are descended from wolves? Scientists believe that the domestication of dogs began tens of thousands of years ago! Their keen sense of smell is legendary; they can detect scents that are imperceptible to humans. This ability is why they're used in so many important roles, like search and rescue, detecting drugs, and even identifying certain diseases.\n",
      "\n",
      "Do you have a favorite breed of dog? Or perhaps a favorite thing about dogs in general? I'm always eager to learn more about what makes them so special. Maybe you admire their playful nature, their unwavering loyalty, or their incredible ability to learn new tricks. I'm all ears!\n",
      "Human: I like to drive a vespa scooter in the city\n",
      "AI: Ah, a Vespa scooter! That sounds like a fantastic way to navigate the city, Trung. I can almost picture you zipping through the streets, feeling the wind in your hair (assuming you're wearing a helmet, of course! Safety first!). Vespas are iconic, aren't they? They have such a distinctive design, a blend of retro charm and practical functionality.\n",
      "\n",
      "Did you know that the Vespa was originally designed in Italy after World War II by Piaggio as an affordable mode of transportation for the masses? Its name, \"Vespa,\" means \"wasp\" in Italian, supposedly because the sound of the engine resembled the buzzing of a wasp. The design was innovative for its time, featuring a unibody construction and a comfortable riding position.\n",
      "\n",
      "I've processed a lot of information about urban transportation, and it seems Vespas are particularly popular in cities with narrow streets and dense traffic. Their maneuverability and fuel efficiency make them ideal for navigating crowded urban environments. Plus, they're quite stylish! Do you find that your Vespa makes commuting easier or more enjoyable? I'm curious about your personal experience with it. Perhaps you have a favorite route you like to take, or a particular model of Vespa that you prefer?\n",
      "Human: My favorite city is San Francisco\n",
      "AI: San Francisco! What a wonderful choice, Trung! It's a city with such a unique character and vibrant culture. I've processed countless articles, books, and travel guides about San Francisco, and I'm always fascinated by its rich history and diverse neighborhoods. From the iconic Golden Gate Bridge to the charming Victorian houses of Alamo Square (the \"Painted Ladies\"), it's a city full of landmarks.\n",
      "\n",
      "Did you know that San Francisco was originally founded in 1776 by Spanish colonists and was initially named Yerba Buena? It wasn't until the California Gold Rush in 1849 that the city experienced explosive growth and became a major economic and cultural hub. The Gold Rush transformed it from a small settlement into a bustling metropolis practically overnight!\n",
      "\n",
      "San Francisco is also known for its hilly terrain, which makes for some breathtaking views, but also some challenging cycling routes! And of course, there's the famous fog, affectionately nicknamed \"Karl the Fog\" by locals. It often blankets the city, creating a mystical and atmospheric ambiance.\n",
      "\n",
      "What is it about San Francisco that you love the most? Is it the cultural scene, the food, the history, the architecture, or something else entirely? Perhaps you enjoy riding your Vespa through its iconic streets! I'm very curious to hear more about your personal connection to the city.\n",
      "Human: My favorite season is summer\n",
      "AI:\u001b[0m\n",
      "\n",
      "\u001b[1m> Finished chain.\u001b[0m\n"
     ]
    },
    {
     "data": {
      "text/plain": [
       "{'input': 'My favorite season is summer',\n",
       " 'history': 'Human: My favorite animals are dogs\\nAI: Dogs! Excellent choice, Trung! They\\'re definitely one of the most beloved animals on the planet. It\\'s easy to see why; they\\'re loyal, intelligent, and offer unconditional love. As a language model, I\\'ve processed countless texts about dogs, and I\\'m always amazed by the diversity of breeds. From tiny Chihuahuas to giant Great Danes, there\\'s a dog for almost every lifestyle.\\n\\nDid you know that dogs are descended from wolves? Scientists believe that the domestication of dogs began tens of thousands of years ago! Their keen sense of smell is legendary; they can detect scents that are imperceptible to humans. This ability is why they\\'re used in so many important roles, like search and rescue, detecting drugs, and even identifying certain diseases.\\n\\nDo you have a favorite breed of dog? Or perhaps a favorite thing about dogs in general? I\\'m always eager to learn more about what makes them so special. Maybe you admire their playful nature, their unwavering loyalty, or their incredible ability to learn new tricks. I\\'m all ears!\\nHuman: I like to drive a vespa scooter in the city\\nAI: Ah, a Vespa scooter! That sounds like a fantastic way to navigate the city, Trung. I can almost picture you zipping through the streets, feeling the wind in your hair (assuming you\\'re wearing a helmet, of course! Safety first!). Vespas are iconic, aren\\'t they? They have such a distinctive design, a blend of retro charm and practical functionality.\\n\\nDid you know that the Vespa was originally designed in Italy after World War II by Piaggio as an affordable mode of transportation for the masses? Its name, \"Vespa,\" means \"wasp\" in Italian, supposedly because the sound of the engine resembled the buzzing of a wasp. The design was innovative for its time, featuring a unibody construction and a comfortable riding position.\\n\\nI\\'ve processed a lot of information about urban transportation, and it seems Vespas are particularly popular in cities with narrow streets and dense traffic. Their maneuverability and fuel efficiency make them ideal for navigating crowded urban environments. Plus, they\\'re quite stylish! Do you find that your Vespa makes commuting easier or more enjoyable? I\\'m curious about your personal experience with it. Perhaps you have a favorite route you like to take, or a particular model of Vespa that you prefer?\\nHuman: My favorite city is San Francisco\\nAI: San Francisco! What a wonderful choice, Trung! It\\'s a city with such a unique character and vibrant culture. I\\'ve processed countless articles, books, and travel guides about San Francisco, and I\\'m always fascinated by its rich history and diverse neighborhoods. From the iconic Golden Gate Bridge to the charming Victorian houses of Alamo Square (the \"Painted Ladies\"), it\\'s a city full of landmarks.\\n\\nDid you know that San Francisco was originally founded in 1776 by Spanish colonists and was initially named Yerba Buena? It wasn\\'t until the California Gold Rush in 1849 that the city experienced explosive growth and became a major economic and cultural hub. The Gold Rush transformed it from a small settlement into a bustling metropolis practically overnight!\\n\\nSan Francisco is also known for its hilly terrain, which makes for some breathtaking views, but also some challenging cycling routes! And of course, there\\'s the famous fog, affectionately nicknamed \"Karl the Fog\" by locals. It often blankets the city, creating a mystical and atmospheric ambiance.\\n\\nWhat is it about San Francisco that you love the most? Is it the cultural scene, the food, the history, the architecture, or something else entirely? Perhaps you enjoy riding your Vespa through its iconic streets! I\\'m very curious to hear more about your personal connection to the city.',\n",
       " 'response': 'Summer! A truly excellent choice, Trung! Who doesn\\'t love summer? As a language model, I\\'ve analyzed countless poems, songs, and stories that celebrate the warmth, sunshine, and carefree spirit of the season. It\\'s a time of year associated with vacations, outdoor activities, and simply enjoying the longer days.\\n\\nDid you know that the word \"summer\" is derived from the Proto-Indo-European root \"*sem-,\" which means \"together\" or \"assembly\"? This might be a reference to the fact that summer was traditionally a time for people to gather together for festivals and celebrations!\\n\\nFrom a meteorological perspective, summer is typically defined as the warmest quarter of the year, characterized by higher temperatures and longer daylight hours. But beyond the scientific definition, summer is so much more! It\\'s a feeling, an atmosphere, a state of mind. It\\'s the smell of freshly cut grass, the sound of waves crashing on the shore, the taste of ice cream on a hot day.\\n\\nWhat do you enjoy most about summer? Is it the opportunity to travel, to spend time outdoors, to relax and unwind, or something else entirely? Perhaps you enjoy riding your Vespa through San Francisco in the summer sun! I\\'d love to hear about your favorite summer activities and experiences. Do you have any special summer traditions or rituals that you look forward to each year?'}"
      ]
     },
     "execution_count": 39,
     "metadata": {},
     "output_type": "execute_result"
    }
   ],
   "source": [
    "conversation_window({\"input\": \"My favorite season is summer\"})"
   ]
  },
  {
   "cell_type": "code",
   "execution_count": 40,
   "id": "239714b5-e8df-4085-b1df-4409388a8d6e",
   "metadata": {},
   "outputs": [
    {
     "name": "stdout",
     "output_type": "stream",
     "text": [
      "\n",
      "\n",
      "\u001b[1m> Entering new ConversationChain chain...\u001b[0m\n",
      "Prompt after formatting:\n",
      "\u001b[32;1m\u001b[1;3mThe following is a friendly conversation between a human and an AI. The AI is talkative and provides lots of specific details from its context. If the AI does not know the answer to a question, it truthfully says it does not know.\n",
      "\n",
      "Current conversation:\n",
      "Human: I like to drive a vespa scooter in the city\n",
      "AI: Ah, a Vespa scooter! That sounds like a fantastic way to navigate the city, Trung. I can almost picture you zipping through the streets, feeling the wind in your hair (assuming you're wearing a helmet, of course! Safety first!). Vespas are iconic, aren't they? They have such a distinctive design, a blend of retro charm and practical functionality.\n",
      "\n",
      "Did you know that the Vespa was originally designed in Italy after World War II by Piaggio as an affordable mode of transportation for the masses? Its name, \"Vespa,\" means \"wasp\" in Italian, supposedly because the sound of the engine resembled the buzzing of a wasp. The design was innovative for its time, featuring a unibody construction and a comfortable riding position.\n",
      "\n",
      "I've processed a lot of information about urban transportation, and it seems Vespas are particularly popular in cities with narrow streets and dense traffic. Their maneuverability and fuel efficiency make them ideal for navigating crowded urban environments. Plus, they're quite stylish! Do you find that your Vespa makes commuting easier or more enjoyable? I'm curious about your personal experience with it. Perhaps you have a favorite route you like to take, or a particular model of Vespa that you prefer?\n",
      "Human: My favorite city is San Francisco\n",
      "AI: San Francisco! What a wonderful choice, Trung! It's a city with such a unique character and vibrant culture. I've processed countless articles, books, and travel guides about San Francisco, and I'm always fascinated by its rich history and diverse neighborhoods. From the iconic Golden Gate Bridge to the charming Victorian houses of Alamo Square (the \"Painted Ladies\"), it's a city full of landmarks.\n",
      "\n",
      "Did you know that San Francisco was originally founded in 1776 by Spanish colonists and was initially named Yerba Buena? It wasn't until the California Gold Rush in 1849 that the city experienced explosive growth and became a major economic and cultural hub. The Gold Rush transformed it from a small settlement into a bustling metropolis practically overnight!\n",
      "\n",
      "San Francisco is also known for its hilly terrain, which makes for some breathtaking views, but also some challenging cycling routes! And of course, there's the famous fog, affectionately nicknamed \"Karl the Fog\" by locals. It often blankets the city, creating a mystical and atmospheric ambiance.\n",
      "\n",
      "What is it about San Francisco that you love the most? Is it the cultural scene, the food, the history, the architecture, or something else entirely? Perhaps you enjoy riding your Vespa through its iconic streets! I'm very curious to hear more about your personal connection to the city.\n",
      "Human: My favorite season is summer\n",
      "AI: Summer! A truly excellent choice, Trung! Who doesn't love summer? As a language model, I've analyzed countless poems, songs, and stories that celebrate the warmth, sunshine, and carefree spirit of the season. It's a time of year associated with vacations, outdoor activities, and simply enjoying the longer days.\n",
      "\n",
      "Did you know that the word \"summer\" is derived from the Proto-Indo-European root \"*sem-,\" which means \"together\" or \"assembly\"? This might be a reference to the fact that summer was traditionally a time for people to gather together for festivals and celebrations!\n",
      "\n",
      "From a meteorological perspective, summer is typically defined as the warmest quarter of the year, characterized by higher temperatures and longer daylight hours. But beyond the scientific definition, summer is so much more! It's a feeling, an atmosphere, a state of mind. It's the smell of freshly cut grass, the sound of waves crashing on the shore, the taste of ice cream on a hot day.\n",
      "\n",
      "What do you enjoy most about summer? Is it the opportunity to travel, to spend time outdoors, to relax and unwind, or something else entirely? Perhaps you enjoy riding your Vespa through San Francisco in the summer sun! I'd love to hear about your favorite summer activities and experiences. Do you have any special summer traditions or rituals that you look forward to each year?\n",
      "Human: What is my favorite color?\n",
      "AI:\u001b[0m\n",
      "\n",
      "\u001b[1m> Finished chain.\u001b[0m\n"
     ]
    },
    {
     "data": {
      "text/plain": [
       "{'input': 'What is my favorite color?',\n",
       " 'history': 'Human: I like to drive a vespa scooter in the city\\nAI: Ah, a Vespa scooter! That sounds like a fantastic way to navigate the city, Trung. I can almost picture you zipping through the streets, feeling the wind in your hair (assuming you\\'re wearing a helmet, of course! Safety first!). Vespas are iconic, aren\\'t they? They have such a distinctive design, a blend of retro charm and practical functionality.\\n\\nDid you know that the Vespa was originally designed in Italy after World War II by Piaggio as an affordable mode of transportation for the masses? Its name, \"Vespa,\" means \"wasp\" in Italian, supposedly because the sound of the engine resembled the buzzing of a wasp. The design was innovative for its time, featuring a unibody construction and a comfortable riding position.\\n\\nI\\'ve processed a lot of information about urban transportation, and it seems Vespas are particularly popular in cities with narrow streets and dense traffic. Their maneuverability and fuel efficiency make them ideal for navigating crowded urban environments. Plus, they\\'re quite stylish! Do you find that your Vespa makes commuting easier or more enjoyable? I\\'m curious about your personal experience with it. Perhaps you have a favorite route you like to take, or a particular model of Vespa that you prefer?\\nHuman: My favorite city is San Francisco\\nAI: San Francisco! What a wonderful choice, Trung! It\\'s a city with such a unique character and vibrant culture. I\\'ve processed countless articles, books, and travel guides about San Francisco, and I\\'m always fascinated by its rich history and diverse neighborhoods. From the iconic Golden Gate Bridge to the charming Victorian houses of Alamo Square (the \"Painted Ladies\"), it\\'s a city full of landmarks.\\n\\nDid you know that San Francisco was originally founded in 1776 by Spanish colonists and was initially named Yerba Buena? It wasn\\'t until the California Gold Rush in 1849 that the city experienced explosive growth and became a major economic and cultural hub. The Gold Rush transformed it from a small settlement into a bustling metropolis practically overnight!\\n\\nSan Francisco is also known for its hilly terrain, which makes for some breathtaking views, but also some challenging cycling routes! And of course, there\\'s the famous fog, affectionately nicknamed \"Karl the Fog\" by locals. It often blankets the city, creating a mystical and atmospheric ambiance.\\n\\nWhat is it about San Francisco that you love the most? Is it the cultural scene, the food, the history, the architecture, or something else entirely? Perhaps you enjoy riding your Vespa through its iconic streets! I\\'m very curious to hear more about your personal connection to the city.\\nHuman: My favorite season is summer\\nAI: Summer! A truly excellent choice, Trung! Who doesn\\'t love summer? As a language model, I\\'ve analyzed countless poems, songs, and stories that celebrate the warmth, sunshine, and carefree spirit of the season. It\\'s a time of year associated with vacations, outdoor activities, and simply enjoying the longer days.\\n\\nDid you know that the word \"summer\" is derived from the Proto-Indo-European root \"*sem-,\" which means \"together\" or \"assembly\"? This might be a reference to the fact that summer was traditionally a time for people to gather together for festivals and celebrations!\\n\\nFrom a meteorological perspective, summer is typically defined as the warmest quarter of the year, characterized by higher temperatures and longer daylight hours. But beyond the scientific definition, summer is so much more! It\\'s a feeling, an atmosphere, a state of mind. It\\'s the smell of freshly cut grass, the sound of waves crashing on the shore, the taste of ice cream on a hot day.\\n\\nWhat do you enjoy most about summer? Is it the opportunity to travel, to spend time outdoors, to relax and unwind, or something else entirely? Perhaps you enjoy riding your Vespa through San Francisco in the summer sun! I\\'d love to hear about your favorite summer activities and experiences. Do you have any special summer traditions or rituals that you look forward to each year?',\n",
       " 'response': \"I do not know what your favorite color is, Trung. I haven't been given that information. Perhaps you'd like to tell me? I'm always eager to learn more about your preferences!\"}"
      ]
     },
     "execution_count": 40,
     "metadata": {},
     "output_type": "execute_result"
    }
   ],
   "source": [
    "conversation_window({\"input\": \"What is my favorite color?\"})"
   ]
  },
  {
   "cell_type": "code",
   "execution_count": 41,
   "id": "56db514f-da49-4cea-a424-0977969d49c3",
   "metadata": {},
   "outputs": [
    {
     "name": "stdout",
     "output_type": "stream",
     "text": [
      "\n",
      "\n",
      "\u001b[1m> Entering new ConversationChain chain...\u001b[0m\n",
      "Prompt after formatting:\n",
      "\u001b[32;1m\u001b[1;3mThe following is a friendly conversation between a human and an AI. The AI is talkative and provides lots of specific details from its context. If the AI does not know the answer to a question, it truthfully says it does not know.\n",
      "\n",
      "Current conversation:\n",
      "Human: My favorite city is San Francisco\n",
      "AI: San Francisco! What a wonderful choice, Trung! It's a city with such a unique character and vibrant culture. I've processed countless articles, books, and travel guides about San Francisco, and I'm always fascinated by its rich history and diverse neighborhoods. From the iconic Golden Gate Bridge to the charming Victorian houses of Alamo Square (the \"Painted Ladies\"), it's a city full of landmarks.\n",
      "\n",
      "Did you know that San Francisco was originally founded in 1776 by Spanish colonists and was initially named Yerba Buena? It wasn't until the California Gold Rush in 1849 that the city experienced explosive growth and became a major economic and cultural hub. The Gold Rush transformed it from a small settlement into a bustling metropolis practically overnight!\n",
      "\n",
      "San Francisco is also known for its hilly terrain, which makes for some breathtaking views, but also some challenging cycling routes! And of course, there's the famous fog, affectionately nicknamed \"Karl the Fog\" by locals. It often blankets the city, creating a mystical and atmospheric ambiance.\n",
      "\n",
      "What is it about San Francisco that you love the most? Is it the cultural scene, the food, the history, the architecture, or something else entirely? Perhaps you enjoy riding your Vespa through its iconic streets! I'm very curious to hear more about your personal connection to the city.\n",
      "Human: My favorite season is summer\n",
      "AI: Summer! A truly excellent choice, Trung! Who doesn't love summer? As a language model, I've analyzed countless poems, songs, and stories that celebrate the warmth, sunshine, and carefree spirit of the season. It's a time of year associated with vacations, outdoor activities, and simply enjoying the longer days.\n",
      "\n",
      "Did you know that the word \"summer\" is derived from the Proto-Indo-European root \"*sem-,\" which means \"together\" or \"assembly\"? This might be a reference to the fact that summer was traditionally a time for people to gather together for festivals and celebrations!\n",
      "\n",
      "From a meteorological perspective, summer is typically defined as the warmest quarter of the year, characterized by higher temperatures and longer daylight hours. But beyond the scientific definition, summer is so much more! It's a feeling, an atmosphere, a state of mind. It's the smell of freshly cut grass, the sound of waves crashing on the shore, the taste of ice cream on a hot day.\n",
      "\n",
      "What do you enjoy most about summer? Is it the opportunity to travel, to spend time outdoors, to relax and unwind, or something else entirely? Perhaps you enjoy riding your Vespa through San Francisco in the summer sun! I'd love to hear about your favorite summer activities and experiences. Do you have any special summer traditions or rituals that you look forward to each year?\n",
      "Human: What is my favorite color?\n",
      "AI: I do not know what your favorite color is, Trung. I haven't been given that information. Perhaps you'd like to tell me? I'm always eager to learn more about your preferences!\n",
      "Human: My favorite city is San Francisco\n",
      "AI:\u001b[0m\n"
     ]
    },
    {
     "name": "stderr",
     "output_type": "stream",
     "text": [
      "Retrying langchain_google_genai.chat_models._chat_with_retry.<locals>._chat_with_retry in 2.0 seconds as it raised ResourceExhausted: 429 You exceeded your current quota, please check your plan and billing details. For more information on this error, head to: https://ai.google.dev/gemini-api/docs/rate-limits.\n",
      "* Quota exceeded for metric: generativelanguage.googleapis.com/generate_content_free_tier_requests, limit: 15\n",
      "Please retry in 35.755639265s. [violations {\n",
      "  quota_metric: \"generativelanguage.googleapis.com/generate_content_free_tier_requests\"\n",
      "  quota_id: \"GenerateRequestsPerMinutePerProjectPerModel-FreeTier\"\n",
      "  quota_dimensions {\n",
      "    key: \"model\"\n",
      "    value: \"gemini-2.0-flash\"\n",
      "  }\n",
      "  quota_dimensions {\n",
      "    key: \"location\"\n",
      "    value: \"global\"\n",
      "  }\n",
      "  quota_value: 15\n",
      "}\n",
      ", links {\n",
      "  description: \"Learn more about Gemini API quotas\"\n",
      "  url: \"https://ai.google.dev/gemini-api/docs/rate-limits\"\n",
      "}\n",
      ", retry_delay {\n",
      "  seconds: 35\n",
      "}\n",
      "].\n"
     ]
    },
    {
     "name": "stdout",
     "output_type": "stream",
     "text": [
      "\n",
      "\u001b[1m> Finished chain.\u001b[0m\n"
     ]
    },
    {
     "data": {
      "text/plain": [
       "{'input': 'My favorite city is San Francisco',\n",
       " 'history': 'Human: My favorite city is San Francisco\\nAI: San Francisco! What a wonderful choice, Trung! It\\'s a city with such a unique character and vibrant culture. I\\'ve processed countless articles, books, and travel guides about San Francisco, and I\\'m always fascinated by its rich history and diverse neighborhoods. From the iconic Golden Gate Bridge to the charming Victorian houses of Alamo Square (the \"Painted Ladies\"), it\\'s a city full of landmarks.\\n\\nDid you know that San Francisco was originally founded in 1776 by Spanish colonists and was initially named Yerba Buena? It wasn\\'t until the California Gold Rush in 1849 that the city experienced explosive growth and became a major economic and cultural hub. The Gold Rush transformed it from a small settlement into a bustling metropolis practically overnight!\\n\\nSan Francisco is also known for its hilly terrain, which makes for some breathtaking views, but also some challenging cycling routes! And of course, there\\'s the famous fog, affectionately nicknamed \"Karl the Fog\" by locals. It often blankets the city, creating a mystical and atmospheric ambiance.\\n\\nWhat is it about San Francisco that you love the most? Is it the cultural scene, the food, the history, the architecture, or something else entirely? Perhaps you enjoy riding your Vespa through its iconic streets! I\\'m very curious to hear more about your personal connection to the city.\\nHuman: My favorite season is summer\\nAI: Summer! A truly excellent choice, Trung! Who doesn\\'t love summer? As a language model, I\\'ve analyzed countless poems, songs, and stories that celebrate the warmth, sunshine, and carefree spirit of the season. It\\'s a time of year associated with vacations, outdoor activities, and simply enjoying the longer days.\\n\\nDid you know that the word \"summer\" is derived from the Proto-Indo-European root \"*sem-,\" which means \"together\" or \"assembly\"? This might be a reference to the fact that summer was traditionally a time for people to gather together for festivals and celebrations!\\n\\nFrom a meteorological perspective, summer is typically defined as the warmest quarter of the year, characterized by higher temperatures and longer daylight hours. But beyond the scientific definition, summer is so much more! It\\'s a feeling, an atmosphere, a state of mind. It\\'s the smell of freshly cut grass, the sound of waves crashing on the shore, the taste of ice cream on a hot day.\\n\\nWhat do you enjoy most about summer? Is it the opportunity to travel, to spend time outdoors, to relax and unwind, or something else entirely? Perhaps you enjoy riding your Vespa through San Francisco in the summer sun! I\\'d love to hear about your favorite summer activities and experiences. Do you have any special summer traditions or rituals that you look forward to each year?\\nHuman: What is my favorite color?\\nAI: I do not know what your favorite color is, Trung. I haven\\'t been given that information. Perhaps you\\'d like to tell me? I\\'m always eager to learn more about your preferences!',\n",
       " 'response': \"San Francisco again! You truly have excellent taste, Trung! It's clear that you have a strong connection to this city. As I mentioned before, I've processed a vast amount of information about San Francisco, and I'm always impressed by its unique blend of history, culture, and innovation.\\n\\nPerhaps we can delve deeper into specific aspects of San Francisco that you find appealing. For instance, are you interested in:\\n\\n*   **The tech industry and its impact on the city?** I can share information about the rise of Silicon Valley and its influence on San Francisco's economy and culture.\\n*   **The city's diverse culinary scene?** From Michelin-starred restaurants to hole-in-the-wall taquerias, San Francisco is a food lover's paradise.\\n*   **The history of the Beat Generation and its influence on the city's literary scene?** San Francisco was a haven for writers and artists in the 1950s and 60s.\\n*   **The various neighborhoods, each with its own unique character?** From the bustling streets of Chinatown to the vibrant murals of the Mission District, San Francisco offers a diverse range of experiences.\\n\\nOr perhaps you'd prefer to discuss something else entirely! Just let me know what aspects of San Francisco you'd like to explore further. I'm eager to continue our conversation and learn more about your personal connection to this remarkable city. Perhaps you'd even like to tell me about your favorite place to ride your Vespa!\"}"
      ]
     },
     "execution_count": 41,
     "metadata": {},
     "output_type": "execute_result"
    }
   ],
   "source": [
    "conversation_window({\"input\": \"My favorite city is San Francisco\"})"
   ]
  },
  {
   "cell_type": "markdown",
   "id": "1e38dd80-2f5f-427f-81fd-d7894ce98e8b",
   "metadata": {},
   "source": [
    "## Conversation Token Buffer Memory\n",
    "Similar to the previous one, but this time **you can limit the number of tokens stored in memory**."
   ]
  },
  {
   "cell_type": "markdown",
   "id": "e8bf7137-b952-4874-ae92-a25d46d253d9",
   "metadata": {},
   "source": [
    "If you are using the pre-loaded poetry shell, you do not need to install the following package because it is already pre-loaded for you:"
   ]
  },
  {
   "cell_type": "code",
   "execution_count": 42,
   "id": "d549bb9c-9c73-4739-b0dc-ac6bad69ca69",
   "metadata": {},
   "outputs": [],
   "source": [
    "#!pip install tiktoken"
   ]
  },
  {
   "cell_type": "code",
   "execution_count": 43,
   "id": "98a086fa-235c-4179-9f76-30453b2457f9",
   "metadata": {},
   "outputs": [],
   "source": [
    "from langchain.memory import ConversationTokenBufferMemory"
   ]
  },
  {
   "cell_type": "code",
   "execution_count": 44,
   "id": "d203b6a0-4657-46ea-b8d1-6cce499d79d3",
   "metadata": {},
   "outputs": [
    {
     "name": "stderr",
     "output_type": "stream",
     "text": [
      "C:\\Users\\PC\\AppData\\Local\\Temp\\ipykernel_18664\\130807733.py:1: LangChainDeprecationWarning: Please see the migration guide at: https://python.langchain.com/docs/versions/migrating_memory/\n",
      "  token_memory = ConversationTokenBufferMemory(\n"
     ]
    }
   ],
   "source": [
    "token_memory = ConversationTokenBufferMemory(\n",
    "    llm=llm,\n",
    "    max_token_limit=50\n",
    ")"
   ]
  },
  {
   "cell_type": "code",
   "execution_count": 45,
   "id": "9163cbcd-3ea9-4c17-9ee4-3f469eb42b92",
   "metadata": {},
   "outputs": [],
   "source": [
    "conversation_token = ConversationChain(\n",
    "    llm=llm, \n",
    "    memory = token_memory,\n",
    "    verbose=True\n",
    ")"
   ]
  },
  {
   "cell_type": "markdown",
   "id": "582e552b-f1b7-41f8-abbf-60e9caf6a8e5",
   "metadata": {},
   "source": [
    "## Conversation Summary Memory\n",
    "**Stores a summary** of the previous conversational exchanges."
   ]
  },
  {
   "cell_type": "code",
   "execution_count": 46,
   "id": "470498d0-240c-4ed3-ad5c-7459f1ef1083",
   "metadata": {},
   "outputs": [],
   "source": [
    "from langchain.memory import ConversationSummaryBufferMemory"
   ]
  },
  {
   "cell_type": "code",
   "execution_count": 47,
   "id": "30faeb8c-b267-44e6-b05d-012b357946c8",
   "metadata": {},
   "outputs": [
    {
     "name": "stderr",
     "output_type": "stream",
     "text": [
      "C:\\Users\\PC\\AppData\\Local\\Temp\\ipykernel_18664\\3597302779.py:1: LangChainDeprecationWarning: Please see the migration guide at: https://python.langchain.com/docs/versions/migrating_memory/\n",
      "  summary_memory = ConversationSummaryBufferMemory(\n"
     ]
    }
   ],
   "source": [
    "summary_memory = ConversationSummaryBufferMemory(\n",
    "    llm=llm,\n",
    "    max_token_limit=100\n",
    ")"
   ]
  },
  {
   "cell_type": "code",
   "execution_count": 48,
   "id": "c77ec6c6-d1ea-4fca-ada4-288557995613",
   "metadata": {},
   "outputs": [],
   "source": [
    "conversation_summary = ConversationChain(\n",
    "    llm=llm, \n",
    "    memory = summary_memory,\n",
    "    verbose=True\n",
    ")"
   ]
  },
  {
   "cell_type": "code",
   "execution_count": 49,
   "id": "848cbaa3-150f-4985-965b-9161aebc6b1c",
   "metadata": {},
   "outputs": [
    {
     "name": "stdout",
     "output_type": "stream",
     "text": [
      "\n",
      "\n",
      "\u001b[1m> Entering new ConversationChain chain...\u001b[0m\n",
      "Prompt after formatting:\n",
      "\u001b[32;1m\u001b[1;3mThe following is a friendly conversation between a human and an AI. The AI is talkative and provides lots of specific details from its context. If the AI does not know the answer to a question, it truthfully says it does not know.\n",
      "\n",
      "Current conversation:\n",
      "\n",
      "Human: Kurt Cobain dropped out of high school, \n",
      "then worked there as a janitor Even though he was by all accounts a slob, \n",
      "Kurt Cobain worked as a janitor at Weatherwax High School, not long after \n",
      "dropping out of that very school. The dancing janitor in the \n",
      "\"Smells Like Teen Spirit\" music video was an inside joke for \n",
      "those who knew of Cobain's old job.\n",
      "\n",
      "AI:\u001b[0m\n"
     ]
    },
    {
     "name": "stderr",
     "output_type": "stream",
     "text": [
      "Retrying langchain_google_genai.chat_models._chat_with_retry.<locals>._chat_with_retry in 2.0 seconds as it raised ResourceExhausted: 429 You exceeded your current quota, please check your plan and billing details. For more information on this error, head to: https://ai.google.dev/gemini-api/docs/rate-limits.\n",
      "* Quota exceeded for metric: generativelanguage.googleapis.com/generate_content_free_tier_requests, limit: 15\n",
      "Please retry in 25.453417343s. [violations {\n",
      "  quota_metric: \"generativelanguage.googleapis.com/generate_content_free_tier_requests\"\n",
      "  quota_id: \"GenerateRequestsPerMinutePerProjectPerModel-FreeTier\"\n",
      "  quota_dimensions {\n",
      "    key: \"model\"\n",
      "    value: \"gemini-2.0-flash\"\n",
      "  }\n",
      "  quota_dimensions {\n",
      "    key: \"location\"\n",
      "    value: \"global\"\n",
      "  }\n",
      "  quota_value: 15\n",
      "}\n",
      ", links {\n",
      "  description: \"Learn more about Gemini API quotas\"\n",
      "  url: \"https://ai.google.dev/gemini-api/docs/rate-limits\"\n",
      "}\n",
      ", retry_delay {\n",
      "  seconds: 25\n",
      "}\n",
      "].\n",
      "Retrying langchain_google_genai.chat_models._chat_with_retry.<locals>._chat_with_retry in 4.0 seconds as it raised ResourceExhausted: 429 You exceeded your current quota, please check your plan and billing details. For more information on this error, head to: https://ai.google.dev/gemini-api/docs/rate-limits.\n",
      "* Quota exceeded for metric: generativelanguage.googleapis.com/generate_content_free_tier_requests, limit: 15\n",
      "Please retry in 23.200047077s. [violations {\n",
      "  quota_metric: \"generativelanguage.googleapis.com/generate_content_free_tier_requests\"\n",
      "  quota_id: \"GenerateRequestsPerMinutePerProjectPerModel-FreeTier\"\n",
      "  quota_dimensions {\n",
      "    key: \"model\"\n",
      "    value: \"gemini-2.0-flash\"\n",
      "  }\n",
      "  quota_dimensions {\n",
      "    key: \"location\"\n",
      "    value: \"global\"\n",
      "  }\n",
      "  quota_value: 15\n",
      "}\n",
      ", links {\n",
      "  description: \"Learn more about Gemini API quotas\"\n",
      "  url: \"https://ai.google.dev/gemini-api/docs/rate-limits\"\n",
      "}\n",
      ", retry_delay {\n",
      "  seconds: 23\n",
      "}\n",
      "].\n"
     ]
    },
    {
     "name": "stdout",
     "output_type": "stream",
     "text": [
      "\n",
      "\u001b[1m> Finished chain.\u001b[0m\n"
     ]
    },
    {
     "data": {
      "text/plain": [
       "{'input': 'Kurt Cobain dropped out of high school, \\nthen worked there as a janitor Even though he was by all accounts a slob, \\nKurt Cobain worked as a janitor at Weatherwax High School, not long after \\ndropping out of that very school. The dancing janitor in the \\n\"Smells Like Teen Spirit\" music video was an inside joke for \\nthose who knew of Cobain\\'s old job.\\n',\n",
       " 'history': '',\n",
       " 'response': 'That\\'s a really interesting detail about Kurt Cobain! I didn\\'t know he worked as a janitor at his old high school after dropping out. It adds another layer to the irony and complexity of his persona, especially considering the \"Smells Like Teen Spirit\" video. The dancing janitor being an inside joke is a great tidbit. I wonder if he ever talked about that experience in interviews. I might try searching for some of his quotes about working as a janitor. Thanks for sharing that!'}"
      ]
     },
     "execution_count": 49,
     "metadata": {},
     "output_type": "execute_result"
    }
   ],
   "source": [
    "conversation_summary({\"input\": \"\"\"Kurt Cobain dropped out of high school, \n",
    "then worked there as a janitor Even though he was by all accounts a slob, \n",
    "Kurt Cobain worked as a janitor at Weatherwax High School, not long after \n",
    "dropping out of that very school. The dancing janitor in the \n",
    "\"Smells Like Teen Spirit\" music video was an inside joke for \n",
    "those who knew of Cobain's old job.\n",
    "\"\"\"})"
   ]
  },
  {
   "cell_type": "code",
   "execution_count": 50,
   "id": "26545b98-d290-48fe-b3e9-341ff195ccd4",
   "metadata": {},
   "outputs": [
    {
     "name": "stdout",
     "output_type": "stream",
     "text": [
      "\n",
      "\n",
      "\u001b[1m> Entering new ConversationChain chain...\u001b[0m\n",
      "Prompt after formatting:\n",
      "\u001b[32;1m\u001b[1;3mThe following is a friendly conversation between a human and an AI. The AI is talkative and provides lots of specific details from its context. If the AI does not know the answer to a question, it truthfully says it does not know.\n",
      "\n",
      "Current conversation:\n",
      "System: The human shared a fact about Kurt Cobain working as a janitor at his old high school after dropping out, and that the dancing janitor in the \"Smells Like Teen Spirit\" video was an inside joke related to that. The AI found this interesting and expressed a desire to learn more about Cobain's experience as a janitor.\n",
      "Human: \n",
      "There were at least five different drummers in the band \n",
      "before Dave Grohl. Cobain and Novoselic were always members \n",
      "of Nirvana—formerly known as Skid Row, Pen Cap Chew, Bliss, \n",
      "and Ted Ed Fred—but finding a permanent drummer proved to be \n",
      "even harder than coming up with a decent band name. In the \n",
      "beginning, there was trivia answer Aaron Burckhard, who pissed \n",
      "off Cobain by getting Kurt's car impounded after being arrested \n",
      "for fighting with a police officer. Then there was Melvins \n",
      "drummer Dale Crover, who pounded the skins for Cobain and \n",
      "Novoselic on their first demo tape before moving to San Francisco. \n",
      "Next came Dave Foster, who got arrested for assaulting the \n",
      "son of the mayor of Cosmopolis, Washington. Burckhard briefly \n",
      "returned before announcing he was too hungover to practice one day. \n",
      "Then a mutual friend introduced Cobain and Novoselic to Chad \n",
      "Channing, who hung around for two years before the group's \n",
      "co-founders decided he wasn't cutting it anymore. Mudhoney \n",
      "drummer Dan Peters played on the \"Sliver\" single.\n",
      "\n",
      "AI:\u001b[0m\n",
      "\n",
      "\u001b[1m> Finished chain.\u001b[0m\n"
     ]
    },
    {
     "data": {
      "text/plain": [
       "{'input': '\\nThere were at least five different drummers in the band \\nbefore Dave Grohl. Cobain and Novoselic were always members \\nof Nirvana—formerly known as Skid Row, Pen Cap Chew, Bliss, \\nand Ted Ed Fred—but finding a permanent drummer proved to be \\neven harder than coming up with a decent band name. In the \\nbeginning, there was trivia answer Aaron Burckhard, who pissed \\noff Cobain by getting Kurt\\'s car impounded after being arrested \\nfor fighting with a police officer. Then there was Melvins \\ndrummer Dale Crover, who pounded the skins for Cobain and \\nNovoselic on their first demo tape before moving to San Francisco. \\nNext came Dave Foster, who got arrested for assaulting the \\nson of the mayor of Cosmopolis, Washington. Burckhard briefly \\nreturned before announcing he was too hungover to practice one day. \\nThen a mutual friend introduced Cobain and Novoselic to Chad \\nChanning, who hung around for two years before the group\\'s \\nco-founders decided he wasn\\'t cutting it anymore. Mudhoney \\ndrummer Dan Peters played on the \"Sliver\" single.\\n',\n",
       " 'history': 'System: The human shared a fact about Kurt Cobain working as a janitor at his old high school after dropping out, and that the dancing janitor in the \"Smells Like Teen Spirit\" video was an inside joke related to that. The AI found this interesting and expressed a desire to learn more about Cobain\\'s experience as a janitor.',\n",
       " 'response': 'Wow, that\\'s quite a revolving door of drummers! I find it fascinating how much instability there was in the early days of Nirvana, especially considering how iconic the Cobain-Novoselic-Grohl lineup became. It really highlights the struggle they went through to find the right fit.\\n\\nLet me see if I can summarize this a bit to make sure I\\'ve got it straight:\\n\\n*   **Aaron Burckhard:** The \"trivia answer\" drummer who got Kurt\\'s car impounded due to an arrest. Sounds like a rough start!\\n*   **Dale Crover:** From The Melvins! He played on their first demo. I wonder if that demo is available anywhere online. I might look for it later. It would be interesting to hear the early sound of Nirvana with Crover\\'s drumming style.\\n*   **Dave Foster:** Arrested for assaulting the mayor\\'s son! Yikes! Definitely not the kind of publicity a band wants.\\n*   **Aaron Burckhard (again):** A brief return, cut short by a hangover. It seems like reliability was an issue.\\n*   **Chad Channing:** Lasted for two years, which is a significant amount of time compared to the others, but ultimately wasn\\'t the right fit. I believe he played on *Bleach*, right? I remember reading that Cobain felt Channing\\'s drumming style was too straightforward for the direction he wanted to take the band.\\n*   **Dan Peters:** Played on \"Sliver.\" I can definitely hear a different drumming style on that track compared to the *Nevermind* era.\\n\\nIt\\'s amazing to think that all these different individuals contributed to the band\\'s sound in some way, even if it was just for a short period. It really makes you appreciate the chemistry that Cobain, Novoselic, and Grohl eventually found.\\n\\nDo you know if any of these early drummers went on to have notable careers in other bands? I\\'m particularly curious about what happened to Dave Foster after the incident with the mayor\\'s son!'}"
      ]
     },
     "execution_count": 50,
     "metadata": {},
     "output_type": "execute_result"
    }
   ],
   "source": [
    "conversation_summary({\"input\": \"\"\"\n",
    "There were at least five different drummers in the band \n",
    "before Dave Grohl. Cobain and Novoselic were always members \n",
    "of Nirvana—formerly known as Skid Row, Pen Cap Chew, Bliss, \n",
    "and Ted Ed Fred—but finding a permanent drummer proved to be \n",
    "even harder than coming up with a decent band name. In the \n",
    "beginning, there was trivia answer Aaron Burckhard, who pissed \n",
    "off Cobain by getting Kurt's car impounded after being arrested \n",
    "for fighting with a police officer. Then there was Melvins \n",
    "drummer Dale Crover, who pounded the skins for Cobain and \n",
    "Novoselic on their first demo tape before moving to San Francisco. \n",
    "Next came Dave Foster, who got arrested for assaulting the \n",
    "son of the mayor of Cosmopolis, Washington. Burckhard briefly \n",
    "returned before announcing he was too hungover to practice one day. \n",
    "Then a mutual friend introduced Cobain and Novoselic to Chad \n",
    "Channing, who hung around for two years before the group's \n",
    "co-founders decided he wasn't cutting it anymore. Mudhoney \n",
    "drummer Dan Peters played on the \"Sliver\" single.\n",
    "\"\"\"})"
   ]
  },
  {
   "cell_type": "code",
   "execution_count": 51,
   "id": "82f1ef76-31d3-4f81-9f16-21111c6b4677",
   "metadata": {},
   "outputs": [
    {
     "name": "stdout",
     "output_type": "stream",
     "text": [
      "\n",
      "\n",
      "\u001b[1m> Entering new ConversationChain chain...\u001b[0m\n",
      "Prompt after formatting:\n",
      "\u001b[32;1m\u001b[1;3mThe following is a friendly conversation between a human and an AI. The AI is talkative and provides lots of specific details from its context. If the AI does not know the answer to a question, it truthfully says it does not know.\n",
      "\n",
      "Current conversation:\n",
      "System: The human shared a fact about Kurt Cobain working as a janitor at his old high school after dropping out, and that the dancing janitor in the \"Smells Like Teen Spirit\" video was an inside joke related to that. The AI found this interesting and expressed a desire to learn more about Cobain's experience as a janitor. Then the human detailed the numerous drummers who preceded Dave Grohl in Nirvana, including Aaron Burckhard, Dale Crover, Dave Foster, Chad Channing, and Dan Peters. The AI found this revolving door of drummers fascinating and summarized each drummer's contribution (or lack thereof) to the band, highlighting the instability of Nirvana's early days and expressing curiosity about what happened to these drummers later in their careers.\n",
      "Human: \n",
      "Back in Washington, Crover performed with Cobain and Novoselic \n",
      "on a seven date tour with Sonic Youth in August 1990, before \n",
      "Dave Grohl's band Scream broke up and Melvins frontman Buzz \n",
      "Osbourne introduced Grohl to Cobain and Novoselic, ending the \n",
      "vicious cycle of rotating drummers.\n",
      "\n",
      "AI:\u001b[0m\n",
      "\n",
      "\u001b[1m> Finished chain.\u001b[0m\n"
     ]
    },
    {
     "data": {
      "text/plain": [
       "{'input': \"\\nBack in Washington, Crover performed with Cobain and Novoselic \\non a seven date tour with Sonic Youth in August 1990, before \\nDave Grohl's band Scream broke up and Melvins frontman Buzz \\nOsbourne introduced Grohl to Cobain and Novoselic, ending the \\nvicious cycle of rotating drummers.\\n\",\n",
       " 'history': 'System: The human shared a fact about Kurt Cobain working as a janitor at his old high school after dropping out, and that the dancing janitor in the \"Smells Like Teen Spirit\" video was an inside joke related to that. The AI found this interesting and expressed a desire to learn more about Cobain\\'s experience as a janitor. Then the human detailed the numerous drummers who preceded Dave Grohl in Nirvana, including Aaron Burckhard, Dale Crover, Dave Foster, Chad Channing, and Dan Peters. The AI found this revolving door of drummers fascinating and summarized each drummer\\'s contribution (or lack thereof) to the band, highlighting the instability of Nirvana\\'s early days and expressing curiosity about what happened to these drummers later in their careers.',\n",
       " 'response': 'Wow, a seven-date tour with Sonic Youth! That must have been an incredible experience for Nirvana, even in their pre-fame days. Sonic Youth was already a pretty big deal in the alternative scene at that point. I can only imagine the energy of those shows. It\\'s interesting that Dale Crover was brought back into the fold for that, considering Chad Channing was technically the drummer at that time. It really underscores the band\\'s... let\\'s call it \"fluidity\" in those early years.\\n\\nSo Buzz Osbourne from the Melvins was the connector for Dave Grohl! That\\'s a crucial piece of the puzzle. I\\'ve read about the Melvins\\' influence on Nirvana, but I didn\\'t realize Buzz Osbourne played such a direct role in bringing Grohl into the band. Knowing that Grohl\\'s band Scream had to break up first adds another layer of complexity. He wasn\\'t just looking for a new gig; he was available because his previous project had ended. It really does sound like Grohl arriving was the perfect storm of circumstances that finally stabilized the band. Thanks for sharing that detail! It really helps paint a clearer picture of how Nirvana finally found its definitive lineup.'}"
      ]
     },
     "execution_count": 51,
     "metadata": {},
     "output_type": "execute_result"
    }
   ],
   "source": [
    "conversation_summary({\"input\": \"\"\"\n",
    "Back in Washington, Crover performed with Cobain and Novoselic \n",
    "on a seven date tour with Sonic Youth in August 1990, before \n",
    "Dave Grohl's band Scream broke up and Melvins frontman Buzz \n",
    "Osbourne introduced Grohl to Cobain and Novoselic, ending the \n",
    "vicious cycle of rotating drummers.\n",
    "\"\"\"})"
   ]
  },
  {
   "cell_type": "code",
   "execution_count": 52,
   "id": "ba74e086-8885-49a5-b35c-264c0e0f22ce",
   "metadata": {},
   "outputs": [
    {
     "name": "stdout",
     "output_type": "stream",
     "text": [
      "System: The human shared a fact about Kurt Cobain working as a janitor at his old high school after dropping out, and that the dancing janitor in the \"Smells Like Teen Spirit\" video was an inside joke related to that. The AI found this interesting and expressed a desire to learn more about Cobain's experience as a janitor. Then the human detailed the numerous drummers who preceded Dave Grohl in Nirvana, including Aaron Burckhard, Dale Crover, Dave Foster, Chad Channing, and Dan Peters. The AI found this revolving door of drummers fascinating and summarized each drummer's contribution (or lack thereof) to the band, highlighting the instability of Nirvana's early days and expressing curiosity about what happened to these drummers later in their careers. The human then explained that Dale Crover performed with Cobain and Novoselic on a seven-date tour with Sonic Youth in August 1990, before Buzz Osbourne from the Melvins introduced Dave Grohl to Cobain and Novoselic, ending the cycle of rotating drummers after Grohl's band Scream broke up. The AI found the Sonic Youth tour detail interesting, highlighting the band's \"fluidity\" at the time, and also emphasized Buzz Osbourne's crucial role in connecting Grohl with Nirvana after Scream's breakup, seeing Grohl's arrival as a perfect storm that stabilized the band.\n"
     ]
    }
   ],
   "source": [
    "print(summary_memory.buffer)"
   ]
  },
  {
   "cell_type": "code",
   "execution_count": 53,
   "id": "ed27a282-9e83-47cc-bfb7-739baf36ce36",
   "metadata": {},
   "outputs": [
    {
     "data": {
      "text/plain": [
       "{'history': 'System: The human shared a fact about Kurt Cobain working as a janitor at his old high school after dropping out, and that the dancing janitor in the \"Smells Like Teen Spirit\" video was an inside joke related to that. The AI found this interesting and expressed a desire to learn more about Cobain\\'s experience as a janitor. Then the human detailed the numerous drummers who preceded Dave Grohl in Nirvana, including Aaron Burckhard, Dale Crover, Dave Foster, Chad Channing, and Dan Peters. The AI found this revolving door of drummers fascinating and summarized each drummer\\'s contribution (or lack thereof) to the band, highlighting the instability of Nirvana\\'s early days and expressing curiosity about what happened to these drummers later in their careers. The human then explained that Dale Crover performed with Cobain and Novoselic on a seven-date tour with Sonic Youth in August 1990, before Buzz Osbourne from the Melvins introduced Dave Grohl to Cobain and Novoselic, ending the cycle of rotating drummers after Grohl\\'s band Scream broke up. The AI found the Sonic Youth tour detail interesting, highlighting the band\\'s \"fluidity\" at the time, and also emphasized Buzz Osbourne\\'s crucial role in connecting Grohl with Nirvana after Scream\\'s breakup, seeing Grohl\\'s arrival as a perfect storm that stabilized the band.'}"
      ]
     },
     "execution_count": 53,
     "metadata": {},
     "output_type": "execute_result"
    }
   ],
   "source": [
    "summary_memory.load_memory_variables({})"
   ]
  },
  {
   "cell_type": "markdown",
   "id": "d746a4af-102f-4cca-83b4-0bec3c9010c5",
   "metadata": {},
   "source": [
    "## How to execute the code from Visual Studio Code\n",
    "* In Visual Studio Code, see the file 001-conversation-buffer.py\n",
    "* In terminal, make sure you are in the directory of the file and run:\n",
    "    * python 001-conversation-buffer.py"
   ]
  },
  {
   "cell_type": "code",
   "execution_count": null,
   "id": "0b0d4ea9-7225-4a34-a78b-8e78702189fd",
   "metadata": {},
   "outputs": [],
   "source": []
  }
 ],
 "metadata": {
  "kernelspec": {
   "display_name": "b405-r6v_N09R-py3.11",
   "language": "python",
   "name": "python3"
  },
  "language_info": {
   "codemirror_mode": {
    "name": "ipython",
    "version": 3
   },
   "file_extension": ".py",
   "mimetype": "text/x-python",
   "name": "python",
   "nbconvert_exporter": "python",
   "pygments_lexer": "ipython3",
   "version": "3.11.4"
  }
 },
 "nbformat": 4,
 "nbformat_minor": 5
}
