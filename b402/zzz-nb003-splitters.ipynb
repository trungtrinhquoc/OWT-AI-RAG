{
 "cells": [
  {
   "cell_type": "markdown",
   "id": "465c003a-29cf-4cfe-a0c6-d36c04ae2b37",
   "metadata": {},
   "source": [
    "# Splitters\n",
    "* Divide a large data asset in small parts."
   ]
  },
  {
   "cell_type": "markdown",
   "id": "be46161e-45e9-46d7-8214-bcbea10aff2e",
   "metadata": {},
   "source": [
    "## Setup"
   ]
  },
  {
   "cell_type": "markdown",
   "id": "871e0018-cba4-4959-881a-0a65093d202d",
   "metadata": {},
   "source": [
    "#### After you download the code from the github repository in your computer\n",
    "In terminal:\n",
    "* cd project_name\n",
    "* pyenv local 3.11.4\n",
    "* poetry install\n",
    "* poetry shell"
   ]
  },
  {
   "cell_type": "markdown",
   "id": "4065e336-d054-412c-8a3f-1fbec63e1bcd",
   "metadata": {},
   "source": [
    "#### To open the notebook with Jupyter Notebooks\n",
    "In terminal:\n",
    "* jupyter lab\n",
    "\n",
    "Go to the folder of notebooks and open the right notebook."
   ]
  },
  {
   "cell_type": "markdown",
   "id": "62dda8d4-80cf-4b8f-9981-94edda5e9911",
   "metadata": {},
   "source": [
    "#### To see the code in Virtual Studio Code or your editor of choice.\n",
    "* open Virtual Studio Code or your editor of choice.\n",
    "* open the project-folder\n",
    "* open the 002-splitters.py file"
   ]
  },
  {
   "cell_type": "markdown",
   "id": "af743328-1bc8-4b01-85fb-fcb21c6499c2",
   "metadata": {},
   "source": [
    "## Create your .env file\n",
    "* In the github repo we have included a file named .env.example\n",
    "* Rename that file to .env file and here is where you will add your confidential api keys. Remember to include:\n",
    "* OPENAI_API_KEY=your_openai_api_key\n",
    "* LANGCHAIN_TRACING_V2=true\n",
    "* LANGCHAIN_ENDPOINT=https://api.smith.langchain.com\n",
    "* LANGCHAIN_API_KEY=your_langchain_api_key\n",
    "* LANGCHAIN_PROJECT=your_project_name"
   ]
  },
  {
   "cell_type": "markdown",
   "id": "863dd299-0780-49ad-a1b7-b76e249350da",
   "metadata": {},
   "source": [
    "We will call our LangSmith project **002-splitters**."
   ]
  },
  {
   "cell_type": "markdown",
   "id": "40e766aa-f3e2-491f-be99-d0c6b700d47a",
   "metadata": {},
   "source": [
    "## Track operations\n",
    "From now on, we can track the operations **and the cost** of this project from LangSmith:\n",
    "* [smith.langchain.com](https://smith.langchain.com)"
   ]
  },
  {
   "cell_type": "markdown",
   "id": "4f99504a-1b8f-4360-b342-0b81ffa06aff",
   "metadata": {},
   "source": [
    "## Connect with the .env file located in the same directory of this notebook"
   ]
  },
  {
   "cell_type": "markdown",
   "id": "e39e5789-5bde-42e1-88dd-92dc8e363c24",
   "metadata": {},
   "source": [
    "If you are using the pre-loaded poetry shell, you do not need to install the following package because it is already pre-loaded for you:"
   ]
  },
  {
   "cell_type": "code",
   "execution_count": 1,
   "id": "c5514113-ddca-4ae9-9de6-0b9225b18f3c",
   "metadata": {},
   "outputs": [],
   "source": [
    "#pip install python-dotenv"
   ]
  },
  {
   "cell_type": "code",
   "execution_count": 1,
   "id": "fecd39d0-e72e-4bc2-8a68-2fa4008ea365",
   "metadata": {},
   "outputs": [],
   "source": [
    "import os\n",
    "from dotenv import load_dotenv, find_dotenv\n",
    "_ = load_dotenv(find_dotenv())\n",
    "google_api_key = os.environ[\"GOOGLE_API_KEY\"]"
   ]
  },
  {
   "cell_type": "markdown",
   "id": "03f4a923-b19e-498e-9be5-e47ec4a77d80",
   "metadata": {},
   "source": [
    "#### Install LangChain"
   ]
  },
  {
   "cell_type": "markdown",
   "id": "9fef1e5c-b7e2-4a04-96c5-8f64377b8eba",
   "metadata": {},
   "source": [
    "If you are using the pre-loaded poetry shell, you do not need to install the following package because it is already pre-loaded for you:"
   ]
  },
  {
   "cell_type": "code",
   "execution_count": 3,
   "id": "c1cf94ae-6c39-4475-9c5b-4b74d8d78753",
   "metadata": {},
   "outputs": [],
   "source": [
    "#!pip install langchain"
   ]
  },
  {
   "cell_type": "markdown",
   "id": "189e9e17-dfb0-4fd3-85b9-1fba83771941",
   "metadata": {},
   "source": [
    "## Connect with an LLM"
   ]
  },
  {
   "cell_type": "markdown",
   "id": "b21d23f4-61f5-4227-8a75-7eefde6680ee",
   "metadata": {},
   "source": [
    "If you are using the pre-loaded poetry shell, you do not need to install the following package because it is already pre-loaded for you:"
   ]
  },
  {
   "cell_type": "code",
   "execution_count": 4,
   "id": "148df8e0-361d-4ddd-8709-af48fa1648d1",
   "metadata": {},
   "outputs": [],
   "source": [
    "#!pip install langchain-openai"
   ]
  },
  {
   "cell_type": "markdown",
   "id": "a1998155-91de-4cbc-bc88-8d77beefb51b",
   "metadata": {},
   "source": [
    "* NOTE: Since right now is the best LLM in the market, we will use OpenAI by default. You will see how to connect with other Open Source LLMs like Llama3 or Mistral in a next lesson."
   ]
  },
  {
   "cell_type": "markdown",
   "id": "c811b84c-7054-49dd-b0ac-30f327f648a0",
   "metadata": {},
   "source": [
    "## Reminder: steps of the RAG process.\n",
    "* When you load a document, you end up with strings. Sometimes the strings will be too large to fit into the context window. In those occassions we will use the RAG technique:\n",
    "    * **Split document in small chunks**.\n",
    "    * Transform text chunks in numeric chunks (embeddings).\n",
    "    * Load embeddings to a vector database (aka vector store).\n",
    "    * Load question and retrieve the most relevant embeddings to respond it.\n",
    "    * Sent the embeddings to the LLM to format the response properly."
   ]
  },
  {
   "cell_type": "markdown",
   "id": "04f6786d-16d2-4894-b8ef-95a7ebd19a94",
   "metadata": {},
   "source": [
    "## Splitters: divide the loaded document in small chunks of text\n",
    "* Also called \"Document Transformers\".\n",
    "* See the documentation page [here](https://python.langchain.com/v0.1/docs/modules/data_connection/document_transformers/).\n",
    "* See the list of built-in splitters [here](https://python.langchain.com/v0.1/docs/integrations/document_transformers/)."
   ]
  },
  {
   "cell_type": "markdown",
   "id": "b8de5c1e-1426-4cc8-8588-4ab7f1ffbcd0",
   "metadata": {},
   "source": [
    "#### Simple splitting by character: Character Splitter\n",
    "* This splits based on characters (by default \"\\n\\n\") and measure chunk length by number of characters.\n",
    "* The \"Character Splitter\" in the context of RAG (Retrieval-Augmented Generation) applications, specifically using LangChain's tools, is a method that divides text into smaller parts based on specific characters.\n",
    "* By default, it uses double newline characters (\"\\n\\n\") to identify where one chunk of text ends and another begins.\n",
    "* Each chunk is measured by its number of characters.\n",
    "* This simple splitting method is useful in RAG applications to help manage and process large blocks of text by breaking them down into manageable, smaller pieces. This can enhance the efficiency and effectiveness of the text retrieval process, which is crucial in generating accurate and contextually relevant responses."
   ]
  },
  {
   "cell_type": "markdown",
   "id": "db520c85-d916-4465-9a53-ee6a7c0b722d",
   "metadata": {},
   "source": [
    "Here's a simple example to illustrate how the \"Character Splitter\" works in the context of RAG applications using the default delimiter (\"\\n\\n\").\n",
    "\n",
    "#### Original Text:\n",
    "```\n",
    "Hello, welcome to our store!\n",
    "\n",
    "\\n\\nWe offer a variety of products ranging from electronics to clothing.\n",
    "\n",
    "\\n\\nOur store hours are 9 AM to 9 PM every day.\n",
    "\n",
    "\\n\\nFeel free to ask for assistance if you need help finding anything.\n",
    "```\n",
    "\n",
    "#### After Applying Character Splitter:\n",
    "1. **Chunk 1:**\n",
    "   ```\n",
    "   Hello, welcome to our store!\n",
    "   ```\n",
    "\n",
    "2. **Chunk 2:**\n",
    "   ```\n",
    "   We offer a variety of products ranging from electronics to clothing.\n",
    "   ```\n",
    "\n",
    "3. **Chunk 3:**\n",
    "   ```\n",
    "   Our store hours are 9 AM to 9 PM every day.\n",
    "   ```\n",
    "\n",
    "4. **Chunk 4:**\n",
    "   ```\n",
    "   Feel free to ask for assistance if you need help finding anything.\n",
    "   ```\n",
    "\n",
    "In this example, the text is split into four chunks based on the presence of \"\\n\\n\" between sections of text. Each chunk is a manageable size and clearly separated from the others, making it easier for a RAG system to handle and retrieve information from specific parts of the text as needed."
   ]
  },
  {
   "cell_type": "code",
   "execution_count": 2,
   "id": "aba8ec6a-9988-493f-9bc2-a1d72eb095b6",
   "metadata": {},
   "outputs": [],
   "source": [
    "from langchain_community.document_loaders import TextLoader\n",
    "\n",
    "loader = TextLoader(\"./data/be-good.txt\")\n",
    "\n",
    "loaded_data = loader.load()"
   ]
  },
  {
   "cell_type": "code",
   "execution_count": 3,
   "id": "9080df7c-9e81-4d2d-8713-9345e2ac8c54",
   "metadata": {},
   "outputs": [
    {
     "data": {
      "text/plain": [
       "[Document(metadata={'source': './data/be-good.txt'}, page_content='Be good\\n\\nApril 2008(This essay is derived from a talk at the 2008 Startup School.)About a month after we started Y Combinator we came up with the\\nphrase that became our motto: Make something people want.  We\\'ve\\nlearned a lot since then, but if I were choosing now that\\'s still\\nthe one I\\'d pick.Another thing we tell founders is not to worry too much about the\\nbusiness model, at least at first.  Not because making money is\\nunimportant, but because it\\'s so much easier than building something\\ngreat.A couple weeks ago I realized that if you put those two ideas\\ntogether, you get something surprising.  Make something people want.\\nDon\\'t worry too much about making money.  What you\\'ve got is a\\ndescription of a charity.When you get an unexpected result like this, it could either be a\\nbug or a new discovery.  Either businesses aren\\'t supposed to be\\nlike charities, and we\\'ve proven by reductio ad absurdum that one\\nor both of the principles we began with is false.  Or we have a new\\nidea.I suspect it\\'s the latter, because as soon as this thought occurred\\nto me, a whole bunch of other things fell into place.ExamplesFor example, Craigslist.  It\\'s not a charity, but they run it like\\none.  And they\\'re astoundingly successful.  When you scan down the\\nlist of most popular web sites, the number of employees at Craigslist\\nlooks like a misprint. Their revenues aren\\'t as high as they could\\nbe, but most startups would be happy to trade places with them.In Patrick O\\'Brian\\'s novels, his captains always try to get upwind\\nof their opponents.  If you\\'re upwind, you decide when and if to\\nengage the other ship.  Craigslist is effectively upwind of enormous\\nrevenues.  They\\'d face some challenges if they wanted to make more,\\nbut not the sort you face when you\\'re tacking upwind, trying to\\nforce a crappy product on ambivalent users by spending ten times\\nas much on sales as on development.  [1]I\\'m not saying startups should aim to end up like Craigslist.\\nThey\\'re a product of unusual circumstances.  But they\\'re a good\\nmodel for the early phases.Google looked a lot like a charity in the beginning. They didn\\'t\\nhave ads for over a year.  At year 1, Google was indistinguishable\\nfrom a nonprofit.  If a nonprofit or government organization had\\nstarted a project to index the web, Google at year 1 is the limit\\nof what they\\'d have produced.Back when I was working on spam filters I thought it would be a\\ngood idea to have a web-based email service with good spam filtering.\\nI wasn\\'t thinking of it as a company.  I just wanted to keep people\\nfrom getting spammed.  But as I thought more about this project, I\\nrealized it would probably have to be a company.  It would cost\\nsomething to run, and it would be a pain to fund with grants and\\ndonations.That was a surprising realization.  Companies often claim to be\\nbenevolent, but it was surprising to realize there were purely\\nbenevolent projects that had to be embodied as companies to work.I didn\\'t want to start another company, so I didn\\'t do it.  But if\\nsomeone had, they\\'d probably be quite rich now.  There was a window\\nof about two years when spam was increasing rapidly but all the big\\nemail services had terrible filters.  If someone had launched a\\nnew, spam-free mail service, users would have flocked to it.Notice the pattern here?  From either direction we get to the same\\nspot.  If you start from successful startups, you find they often\\nbehaved like nonprofits.  And if you start from ideas for nonprofits,\\nyou find they\\'d often make good startups.PowerHow wide is this territory?  Would all good nonprofits be good\\ncompanies?  Possibly not.  What makes Google so valuable is that\\ntheir users have money.  If you make people with money love you,\\nyou can probably get some of it.  But could you also base a successful\\nstartup on behaving like a nonprofit to people who don\\'t have money?\\nCould you, for example, grow a successful startup out of curing an\\nunfashionable but deadly disease like malaria?I\\'m not sure, but I suspect that if you pushed this idea, you\\'d be\\nsurprised how far it would go.  For example, people who apply to Y\\nCombinator don\\'t generally have much money, and yet we can profit\\nby helping them, because with our help they could make money.  Maybe\\nthe situation is similar with malaria.  Maybe an organization that\\nhelped lift its weight off a country could benefit from the resulting\\ngrowth.I\\'m not proposing this is a serious idea.  I don\\'t know anything\\nabout malaria.  But I\\'ve been kicking ideas around long enough to\\nknow when I come across a powerful one.One way to guess how far an idea extends is to ask yourself at what\\npoint you\\'d bet against it.  The thought of betting against benevolence\\nis alarming in the same way as saying that something is technically\\nimpossible.  You\\'re just asking to be made a fool of, because these\\nare such powerful forces.  [2]For example, initially I thought maybe this principle only applied\\nto Internet startups.  Obviously it worked for Google, but what\\nabout Microsoft?  Surely Microsoft isn\\'t benevolent?  But when I\\nthink back to the beginning, they were.  Compared to IBM they were\\nlike Robin Hood.  When IBM introduced the PC, they thought they\\nwere going to make money selling hardware at high prices.  But by\\ngaining control of the PC standard, Microsoft opened up the market\\nto any manufacturer.  Hardware prices plummeted, and lots of people\\ngot to have computers who couldn\\'t otherwise have afforded them.\\nIt\\'s the sort of thing you\\'d expect Google to do.Microsoft isn\\'t so benevolent now.  Now when one thinks of what\\nMicrosoft does to users, all the verbs that come to mind begin with\\nF.  [3] And yet it doesn\\'t seem to pay.\\nTheir stock price has been flat for years.  Back when they were\\nRobin Hood, their stock price rose like Google\\'s.  Could there be\\na connection?You can see how there would be.  When you\\'re small, you can\\'t bully\\ncustomers, so you have to charm them.  Whereas when you\\'re big you\\ncan maltreat them at will, and you tend to, because it\\'s easier\\nthan satisfying them.  You grow big by being nice, but you can stay\\nbig by being mean.You get away with it till the underlying conditions change, and\\nthen all your victims escape.  So \"Don\\'t be evil\" may be the most\\nvaluable thing Paul Buchheit made for Google, because it may turn\\nout to be an elixir of corporate youth.  I\\'m sure they find it\\nconstraining, but think how valuable it will be if it saves them\\nfrom lapsing into the fatal laziness that afflicted Microsoft and\\nIBM.The curious thing is, this elixir is freely available to any other\\ncompany.  Anyone can adopt \"Don\\'t be evil.\"  The catch is that\\npeople will hold you to it.  So I don\\'t think you\\'re going to see\\nrecord labels or tobacco companies using this discovery.MoraleThere\\'s a lot of external evidence that benevolence works.  But how\\ndoes it work?  One advantage of investing in a large number of\\nstartups is that you get a lot of data about how they work.  From\\nwhat we\\'ve seen, being good seems to help startups in three ways:\\nit improves their morale, it makes other people want to help them,\\nand above all, it helps them be decisive.Morale is tremendously important to a startupâ€”so important\\nthat morale alone is almost enough to determine success.  Startups\\nare often described as emotional roller-coasters. One minute you\\'re\\ngoing to take over the world, and the next you\\'re doomed.  The\\nproblem with feeling you\\'re doomed is not just that it makes you\\nunhappy, but that it makes you stop working.  So the downhills\\nof the roller-coaster are more of a self fulfilling prophecy than\\nthe uphills.  If feeling you\\'re going to succeed makes you work\\nharder, that probably improves your chances of succeeding, but if\\nfeeling you\\'re going to fail makes you stop working, that practically\\nguarantees you\\'ll fail.Here\\'s where benevolence comes in.  If you feel you\\'re really helping\\npeople, you\\'ll keep working even when it seems like your startup\\nis doomed.  Most of us have some amount of natural benevolence.\\nThe mere fact that someone needs you makes you want to help them.\\nSo if you start the kind of startup where users come back each day,\\nyou\\'ve basically built yourself a giant tamagotchi.  You\\'ve made\\nsomething you need to take care of.Blogger is a famous example of a startup that went through really\\nlow lows and survived.  At one point they ran out of money and\\neveryone left. Evan Williams came in to work the next day, and there\\nwas no one but him.  What kept him going?  Partly that users needed\\nhim.  He was hosting thousands of people\\'s blogs. He couldn\\'t just\\nlet the site die.There are many advantages of launching quickly, but the most important\\nmay be that once you have users, the tamagotchi effect kicks in.\\nOnce you have users to take care of, you\\'re forced to figure out\\nwhat will make them happy, and that\\'s actually very valuable\\ninformation.The added confidence that comes from trying to help people can\\nalso help you with investors. One of the founders of \\nChatterous told \\nme recently that he and his cofounder had decided that this service\\nwas something the world needed, so they were going to keep working\\non it no matter what, even if they had to move back to Canada and live\\nin their parents\\' basements.Once they realized this, they stopped caring so much what investors thought\\nabout them.  They still met with them, but they weren\\'t going to\\ndie if they didn\\'t get their money.  And you know what?  The investors\\ngot a lot more interested.  They could sense that the Chatterouses\\nwere going to do this startup with or without them.If you\\'re really committed and your startup is cheap to run, you\\nbecome very hard to kill.  And practically all startups, even the\\nmost successful, come close to death at some point.  So if doing\\ngood for people gives you a sense of mission that makes you harder\\nto kill, that alone more than compensates for whatever you lose by\\nnot choosing a more selfish project.HelpAnother advantage of being good is that it makes other people want\\nto help you.  This too seems to be an inborn trait in humans.One of the startups we\\'ve funded, Octopart, is currently locked in\\na classic battle of good versus evil.  They\\'re a search site for\\nindustrial components.  A lot of people need to search for components,\\nand before Octopart there was no good way to do it.  That, it turned\\nout, was no coincidence.Octopart built the right way to search for components.  Users like\\nit and they\\'ve been growing rapidly.  And yet for most of Octopart\\'s\\nlife, the biggest distributor, Digi-Key, has been trying to force\\nthem take their prices off the site.  Octopart is sending them\\ncustomers for free, and yet Digi-Key is trying to make that traffic\\nstop.  Why?  Because their current business model depends on\\novercharging people who have incomplete information about prices.\\nThey don\\'t want search to work.The Octoparts are the nicest guys in the world.  They dropped out\\nof the PhD program in physics at Berkeley to do this.  They just\\nwanted to fix a problem they encountered in their research.  Imagine\\nhow much time you could save the world\\'s engineers if they could\\ndo searches online.  So when I hear that a big, evil company is\\ntrying to stop them in order to keep search broken, it makes me\\nreally want to help them. It makes me spend more time on the Octoparts\\nthan I do with most of the other startups we\\'ve funded.  It just\\nmade me spend several minutes telling you how great they are.  Why?\\nBecause they\\'re good guys and they\\'re trying to help the world.If you\\'re benevolent, people will rally around you: investors,\\ncustomers, other companies, and potential employees.  In the long\\nterm the most important may be the potential employees.  I think\\neveryone knows now that \\ngood hackers are much better than mediocre\\nones.  If you can attract the best hackers to work for you, as\\nGoogle has, you have a big advantage.  And the very best hackers\\ntend to be idealistic.  They\\'re not desperate for a job.  They can\\nwork wherever they want.  So most want to work on things that will\\nmake the world better.CompassBut the most important advantage of being good is that it acts as\\na compass.  One of the hardest parts of doing a startup is that you\\nhave so many choices.  There are just two or three of you, and a\\nthousand things you could do. How do you decide?Here\\'s the answer: Do whatever\\'s best for your users.  You can hold\\nonto this like a rope in a hurricane, and it will save you if\\nanything can.  Follow it and it will take you through everything\\nyou need to do.It\\'s even the answer to questions that seem unrelated, like how to\\nconvince investors to give you money.  If you\\'re a good salesman,\\nyou could try to just talk them into it.  But the more reliable\\nroute is to convince them through your users: if you make something\\nusers love enough to tell their friends, you grow exponentially,\\nand that will convince any investor.Being good is a particularly useful strategy for making decisions\\nin complex situations because it\\'s stateless.  It\\'s like telling\\nthe truth.  The trouble with lying is that you have to remember\\neverything you\\'ve said in the past to make sure you don\\'t contradict\\nyourself.  If you tell the truth you don\\'t have to remember anything,\\nand that\\'s a really useful property in domains where things happen\\nfast.For example, Y Combinator has now invested in 80 startups, 57 of\\nwhich are still alive.  (The rest have died or merged or been\\nacquired.)  When you\\'re trying to advise 57 startups, it turns out\\nyou have to have a stateless algorithm.  You can\\'t have ulterior\\nmotives when you have 57 things going on at once, because you can\\'t\\nremember them.  So our rule is just to do whatever\\'s best for the\\nfounders.  Not because we\\'re particularly benevolent, but because\\nit\\'s the only algorithm that works on that scale.When you write something telling people to be good, you seem to be\\nclaiming to be good yourself.  So I want to say explicitly that I\\nam not a particularly good person.  When I was a kid I was firmly\\nin the camp of bad.  The way adults used the word good, it seemed\\nto be synonymous with quiet, so I grew up very suspicious of it.You know how there are some people whose names come up in conversation\\nand everyone says \"He\\'s such a great guy?\"  People never say\\nthat about me.  The best I get is \"he means well.\"  I am not claiming\\nto be good.  At best I speak good as a second language.So I\\'m not suggesting you be good in the usual sanctimonious way.\\nI\\'m suggesting it because it works.  It will work not just as a\\nstatement of \"values,\" but as a guide to strategy,\\nand even a design spec for software.  Don\\'t just not be evil.  Be\\ngood.Notes[1] Fifty years ago\\nit would have seemed shocking for a public company not to pay\\ndividends.  Now many tech companies don\\'t.  The markets seem to\\nhave figured out how to value potential dividends.  Maybe that isn\\'t\\nthe last step in this evolution.  Maybe markets will eventually get\\ncomfortable with potential earnings. (VCs already are, and at least\\nsome of them consistently make money.)I realize this sounds like the stuff one used to hear about the\\n\"new economy\" during the Bubble.  Believe me, I was not drinking\\nthat kool-aid at the time.  But I\\'m convinced there were some \\ngood\\nideas buried in Bubble thinking.  For example, it\\'s ok to focus on\\ngrowth instead of profitsâ€”but only if the growth is genuine.\\nYou can\\'t be buying users; that\\'s a pyramid scheme.   But a company\\nwith rapid, genuine growth is valuable, and eventually markets learn\\nhow to value valuable things.[2] The idea of starting\\na company with benevolent aims is currently undervalued, because\\nthe kind of people who currently make that their explicit goal don\\'t\\nusually do a very good job.It\\'s one of the standard career paths of trustafarians to start\\nsome vaguely benevolent business.  The problem with most of them\\nis that they either have a bogus political agenda or are feebly\\nexecuted.  The trustafarians\\' ancestors didn\\'t get rich by preserving\\ntheir traditional culture; maybe people in Bolivia don\\'t want to\\neither.  And starting an organic farm, though it\\'s at least\\nstraightforwardly benevolent, doesn\\'t help people on the scale that\\nGoogle does.Most explicitly benevolent projects don\\'t hold themselves sufficiently\\naccountable.  They act as if having good intentions were enough to\\nguarantee good effects.[3] Users dislike their\\nnew operating system so much that they\\'re starting petitions to\\nsave the old one.  And the old one was nothing special.  The hackers\\nwithin Microsoft must know in their hearts that if the company\\nreally cared about users they\\'d just advise them to switch to OSX.Thanks to Trevor Blackwell, Paul Buchheit, Jessica Livingston,\\nand Robert Morris for reading drafts of this.')]"
      ]
     },
     "execution_count": 3,
     "metadata": {},
     "output_type": "execute_result"
    }
   ],
   "source": [
    "loaded_data"
   ]
  },
  {
   "cell_type": "code",
   "execution_count": 4,
   "id": "7ecb63be-4c91-4bec-ba71-5d05dc962722",
   "metadata": {},
   "outputs": [
    {
     "data": {
      "text/plain": [
       "'Be good\\n\\nApril 2008(This essay is derived from a talk at the 2008 Startup School.)About a month after we started Y Combinator we came up with the\\nphrase that became our motto: Make something people want.  We\\'ve\\nlearned a lot since then, but if I were choosing now that\\'s still\\nthe one I\\'d pick.Another thing we tell founders is not to worry too much about the\\nbusiness model, at least at first.  Not because making money is\\nunimportant, but because it\\'s so much easier than building something\\ngreat.A couple weeks ago I realized that if you put those two ideas\\ntogether, you get something surprising.  Make something people want.\\nDon\\'t worry too much about making money.  What you\\'ve got is a\\ndescription of a charity.When you get an unexpected result like this, it could either be a\\nbug or a new discovery.  Either businesses aren\\'t supposed to be\\nlike charities, and we\\'ve proven by reductio ad absurdum that one\\nor both of the principles we began with is false.  Or we have a new\\nidea.I suspect it\\'s the latter, because as soon as this thought occurred\\nto me, a whole bunch of other things fell into place.ExamplesFor example, Craigslist.  It\\'s not a charity, but they run it like\\none.  And they\\'re astoundingly successful.  When you scan down the\\nlist of most popular web sites, the number of employees at Craigslist\\nlooks like a misprint. Their revenues aren\\'t as high as they could\\nbe, but most startups would be happy to trade places with them.In Patrick O\\'Brian\\'s novels, his captains always try to get upwind\\nof their opponents.  If you\\'re upwind, you decide when and if to\\nengage the other ship.  Craigslist is effectively upwind of enormous\\nrevenues.  They\\'d face some challenges if they wanted to make more,\\nbut not the sort you face when you\\'re tacking upwind, trying to\\nforce a crappy product on ambivalent users by spending ten times\\nas much on sales as on development.  [1]I\\'m not saying startups should aim to end up like Craigslist.\\nThey\\'re a product of unusual circumstances.  But they\\'re a good\\nmodel for the early phases.Google looked a lot like a charity in the beginning. They didn\\'t\\nhave ads for over a year.  At year 1, Google was indistinguishable\\nfrom a nonprofit.  If a nonprofit or government organization had\\nstarted a project to index the web, Google at year 1 is the limit\\nof what they\\'d have produced.Back when I was working on spam filters I thought it would be a\\ngood idea to have a web-based email service with good spam filtering.\\nI wasn\\'t thinking of it as a company.  I just wanted to keep people\\nfrom getting spammed.  But as I thought more about this project, I\\nrealized it would probably have to be a company.  It would cost\\nsomething to run, and it would be a pain to fund with grants and\\ndonations.That was a surprising realization.  Companies often claim to be\\nbenevolent, but it was surprising to realize there were purely\\nbenevolent projects that had to be embodied as companies to work.I didn\\'t want to start another company, so I didn\\'t do it.  But if\\nsomeone had, they\\'d probably be quite rich now.  There was a window\\nof about two years when spam was increasing rapidly but all the big\\nemail services had terrible filters.  If someone had launched a\\nnew, spam-free mail service, users would have flocked to it.Notice the pattern here?  From either direction we get to the same\\nspot.  If you start from successful startups, you find they often\\nbehaved like nonprofits.  And if you start from ideas for nonprofits,\\nyou find they\\'d often make good startups.PowerHow wide is this territory?  Would all good nonprofits be good\\ncompanies?  Possibly not.  What makes Google so valuable is that\\ntheir users have money.  If you make people with money love you,\\nyou can probably get some of it.  But could you also base a successful\\nstartup on behaving like a nonprofit to people who don\\'t have money?\\nCould you, for example, grow a successful startup out of curing an\\nunfashionable but deadly disease like malaria?I\\'m not sure, but I suspect that if you pushed this idea, you\\'d be\\nsurprised how far it would go.  For example, people who apply to Y\\nCombinator don\\'t generally have much money, and yet we can profit\\nby helping them, because with our help they could make money.  Maybe\\nthe situation is similar with malaria.  Maybe an organization that\\nhelped lift its weight off a country could benefit from the resulting\\ngrowth.I\\'m not proposing this is a serious idea.  I don\\'t know anything\\nabout malaria.  But I\\'ve been kicking ideas around long enough to\\nknow when I come across a powerful one.One way to guess how far an idea extends is to ask yourself at what\\npoint you\\'d bet against it.  The thought of betting against benevolence\\nis alarming in the same way as saying that something is technically\\nimpossible.  You\\'re just asking to be made a fool of, because these\\nare such powerful forces.  [2]For example, initially I thought maybe this principle only applied\\nto Internet startups.  Obviously it worked for Google, but what\\nabout Microsoft?  Surely Microsoft isn\\'t benevolent?  But when I\\nthink back to the beginning, they were.  Compared to IBM they were\\nlike Robin Hood.  When IBM introduced the PC, they thought they\\nwere going to make money selling hardware at high prices.  But by\\ngaining control of the PC standard, Microsoft opened up the market\\nto any manufacturer.  Hardware prices plummeted, and lots of people\\ngot to have computers who couldn\\'t otherwise have afforded them.\\nIt\\'s the sort of thing you\\'d expect Google to do.Microsoft isn\\'t so benevolent now.  Now when one thinks of what\\nMicrosoft does to users, all the verbs that come to mind begin with\\nF.  [3] And yet it doesn\\'t seem to pay.\\nTheir stock price has been flat for years.  Back when they were\\nRobin Hood, their stock price rose like Google\\'s.  Could there be\\na connection?You can see how there would be.  When you\\'re small, you can\\'t bully\\ncustomers, so you have to charm them.  Whereas when you\\'re big you\\ncan maltreat them at will, and you tend to, because it\\'s easier\\nthan satisfying them.  You grow big by being nice, but you can stay\\nbig by being mean.You get away with it till the underlying conditions change, and\\nthen all your victims escape.  So \"Don\\'t be evil\" may be the most\\nvaluable thing Paul Buchheit made for Google, because it may turn\\nout to be an elixir of corporate youth.  I\\'m sure they find it\\nconstraining, but think how valuable it will be if it saves them\\nfrom lapsing into the fatal laziness that afflicted Microsoft and\\nIBM.The curious thing is, this elixir is freely available to any other\\ncompany.  Anyone can adopt \"Don\\'t be evil.\"  The catch is that\\npeople will hold you to it.  So I don\\'t think you\\'re going to see\\nrecord labels or tobacco companies using this discovery.MoraleThere\\'s a lot of external evidence that benevolence works.  But how\\ndoes it work?  One advantage of investing in a large number of\\nstartups is that you get a lot of data about how they work.  From\\nwhat we\\'ve seen, being good seems to help startups in three ways:\\nit improves their morale, it makes other people want to help them,\\nand above all, it helps them be decisive.Morale is tremendously important to a startupâ€”so important\\nthat morale alone is almost enough to determine success.  Startups\\nare often described as emotional roller-coasters. One minute you\\'re\\ngoing to take over the world, and the next you\\'re doomed.  The\\nproblem with feeling you\\'re doomed is not just that it makes you\\nunhappy, but that it makes you stop working.  So the downhills\\nof the roller-coaster are more of a self fulfilling prophecy than\\nthe uphills.  If feeling you\\'re going to succeed makes you work\\nharder, that probably improves your chances of succeeding, but if\\nfeeling you\\'re going to fail makes you stop working, that practically\\nguarantees you\\'ll fail.Here\\'s where benevolence comes in.  If you feel you\\'re really helping\\npeople, you\\'ll keep working even when it seems like your startup\\nis doomed.  Most of us have some amount of natural benevolence.\\nThe mere fact that someone needs you makes you want to help them.\\nSo if you start the kind of startup where users come back each day,\\nyou\\'ve basically built yourself a giant tamagotchi.  You\\'ve made\\nsomething you need to take care of.Blogger is a famous example of a startup that went through really\\nlow lows and survived.  At one point they ran out of money and\\neveryone left. Evan Williams came in to work the next day, and there\\nwas no one but him.  What kept him going?  Partly that users needed\\nhim.  He was hosting thousands of people\\'s blogs. He couldn\\'t just\\nlet the site die.There are many advantages of launching quickly, but the most important\\nmay be that once you have users, the tamagotchi effect kicks in.\\nOnce you have users to take care of, you\\'re forced to figure out\\nwhat will make them happy, and that\\'s actually very valuable\\ninformation.The added confidence that comes from trying to help people can\\nalso help you with investors. One of the founders of \\nChatterous told \\nme recently that he and his cofounder had decided that this service\\nwas something the world needed, so they were going to keep working\\non it no matter what, even if they had to move back to Canada and live\\nin their parents\\' basements.Once they realized this, they stopped caring so much what investors thought\\nabout them.  They still met with them, but they weren\\'t going to\\ndie if they didn\\'t get their money.  And you know what?  The investors\\ngot a lot more interested.  They could sense that the Chatterouses\\nwere going to do this startup with or without them.If you\\'re really committed and your startup is cheap to run, you\\nbecome very hard to kill.  And practically all startups, even the\\nmost successful, come close to death at some point.  So if doing\\ngood for people gives you a sense of mission that makes you harder\\nto kill, that alone more than compensates for whatever you lose by\\nnot choosing a more selfish project.HelpAnother advantage of being good is that it makes other people want\\nto help you.  This too seems to be an inborn trait in humans.One of the startups we\\'ve funded, Octopart, is currently locked in\\na classic battle of good versus evil.  They\\'re a search site for\\nindustrial components.  A lot of people need to search for components,\\nand before Octopart there was no good way to do it.  That, it turned\\nout, was no coincidence.Octopart built the right way to search for components.  Users like\\nit and they\\'ve been growing rapidly.  And yet for most of Octopart\\'s\\nlife, the biggest distributor, Digi-Key, has been trying to force\\nthem take their prices off the site.  Octopart is sending them\\ncustomers for free, and yet Digi-Key is trying to make that traffic\\nstop.  Why?  Because their current business model depends on\\novercharging people who have incomplete information about prices.\\nThey don\\'t want search to work.The Octoparts are the nicest guys in the world.  They dropped out\\nof the PhD program in physics at Berkeley to do this.  They just\\nwanted to fix a problem they encountered in their research.  Imagine\\nhow much time you could save the world\\'s engineers if they could\\ndo searches online.  So when I hear that a big, evil company is\\ntrying to stop them in order to keep search broken, it makes me\\nreally want to help them. It makes me spend more time on the Octoparts\\nthan I do with most of the other startups we\\'ve funded.  It just\\nmade me spend several minutes telling you how great they are.  Why?\\nBecause they\\'re good guys and they\\'re trying to help the world.If you\\'re benevolent, people will rally around you: investors,\\ncustomers, other companies, and potential employees.  In the long\\nterm the most important may be the potential employees.  I think\\neveryone knows now that \\ngood hackers are much better than mediocre\\nones.  If you can attract the best hackers to work for you, as\\nGoogle has, you have a big advantage.  And the very best hackers\\ntend to be idealistic.  They\\'re not desperate for a job.  They can\\nwork wherever they want.  So most want to work on things that will\\nmake the world better.CompassBut the most important advantage of being good is that it acts as\\na compass.  One of the hardest parts of doing a startup is that you\\nhave so many choices.  There are just two or three of you, and a\\nthousand things you could do. How do you decide?Here\\'s the answer: Do whatever\\'s best for your users.  You can hold\\nonto this like a rope in a hurricane, and it will save you if\\nanything can.  Follow it and it will take you through everything\\nyou need to do.It\\'s even the answer to questions that seem unrelated, like how to\\nconvince investors to give you money.  If you\\'re a good salesman,\\nyou could try to just talk them into it.  But the more reliable\\nroute is to convince them through your users: if you make something\\nusers love enough to tell their friends, you grow exponentially,\\nand that will convince any investor.Being good is a particularly useful strategy for making decisions\\nin complex situations because it\\'s stateless.  It\\'s like telling\\nthe truth.  The trouble with lying is that you have to remember\\neverything you\\'ve said in the past to make sure you don\\'t contradict\\nyourself.  If you tell the truth you don\\'t have to remember anything,\\nand that\\'s a really useful property in domains where things happen\\nfast.For example, Y Combinator has now invested in 80 startups, 57 of\\nwhich are still alive.  (The rest have died or merged or been\\nacquired.)  When you\\'re trying to advise 57 startups, it turns out\\nyou have to have a stateless algorithm.  You can\\'t have ulterior\\nmotives when you have 57 things going on at once, because you can\\'t\\nremember them.  So our rule is just to do whatever\\'s best for the\\nfounders.  Not because we\\'re particularly benevolent, but because\\nit\\'s the only algorithm that works on that scale.When you write something telling people to be good, you seem to be\\nclaiming to be good yourself.  So I want to say explicitly that I\\nam not a particularly good person.  When I was a kid I was firmly\\nin the camp of bad.  The way adults used the word good, it seemed\\nto be synonymous with quiet, so I grew up very suspicious of it.You know how there are some people whose names come up in conversation\\nand everyone says \"He\\'s such a great guy?\"  People never say\\nthat about me.  The best I get is \"he means well.\"  I am not claiming\\nto be good.  At best I speak good as a second language.So I\\'m not suggesting you be good in the usual sanctimonious way.\\nI\\'m suggesting it because it works.  It will work not just as a\\nstatement of \"values,\" but as a guide to strategy,\\nand even a design spec for software.  Don\\'t just not be evil.  Be\\ngood.Notes[1] Fifty years ago\\nit would have seemed shocking for a public company not to pay\\ndividends.  Now many tech companies don\\'t.  The markets seem to\\nhave figured out how to value potential dividends.  Maybe that isn\\'t\\nthe last step in this evolution.  Maybe markets will eventually get\\ncomfortable with potential earnings. (VCs already are, and at least\\nsome of them consistently make money.)I realize this sounds like the stuff one used to hear about the\\n\"new economy\" during the Bubble.  Believe me, I was not drinking\\nthat kool-aid at the time.  But I\\'m convinced there were some \\ngood\\nideas buried in Bubble thinking.  For example, it\\'s ok to focus on\\ngrowth instead of profitsâ€”but only if the growth is genuine.\\nYou can\\'t be buying users; that\\'s a pyramid scheme.   But a company\\nwith rapid, genuine growth is valuable, and eventually markets learn\\nhow to value valuable things.[2] The idea of starting\\na company with benevolent aims is currently undervalued, because\\nthe kind of people who currently make that their explicit goal don\\'t\\nusually do a very good job.It\\'s one of the standard career paths of trustafarians to start\\nsome vaguely benevolent business.  The problem with most of them\\nis that they either have a bogus political agenda or are feebly\\nexecuted.  The trustafarians\\' ancestors didn\\'t get rich by preserving\\ntheir traditional culture; maybe people in Bolivia don\\'t want to\\neither.  And starting an organic farm, though it\\'s at least\\nstraightforwardly benevolent, doesn\\'t help people on the scale that\\nGoogle does.Most explicitly benevolent projects don\\'t hold themselves sufficiently\\naccountable.  They act as if having good intentions were enough to\\nguarantee good effects.[3] Users dislike their\\nnew operating system so much that they\\'re starting petitions to\\nsave the old one.  And the old one was nothing special.  The hackers\\nwithin Microsoft must know in their hearts that if the company\\nreally cared about users they\\'d just advise them to switch to OSX.Thanks to Trevor Blackwell, Paul Buchheit, Jessica Livingston,\\nand Robert Morris for reading drafts of this.'"
      ]
     },
     "execution_count": 4,
     "metadata": {},
     "output_type": "execute_result"
    }
   ],
   "source": [
    "loaded_data[0].page_content"
   ]
  },
  {
   "cell_type": "code",
   "execution_count": 5,
   "id": "063a35f4-da0c-4915-978d-be3d9f70befa",
   "metadata": {},
   "outputs": [],
   "source": [
    "from langchain_text_splitters import CharacterTextSplitter\n",
    "\n",
    "text_splitter = CharacterTextSplitter(\n",
    "    separator=\"\\n\\n\",\n",
    "    chunk_size=1000,\n",
    "    chunk_overlap=200,\n",
    "    length_function=len,\n",
    "    is_separator_regex=False,\n",
    ")"
   ]
  },
  {
   "cell_type": "code",
   "execution_count": 6,
   "id": "1a1f58df-c7b1-491c-93a1-c065591b28e4",
   "metadata": {},
   "outputs": [],
   "source": [
    "texts = text_splitter.create_documents([loaded_data[0].page_content])"
   ]
  },
  {
   "cell_type": "code",
   "execution_count": 7,
   "id": "8c2bf32e-3cc8-4b59-bc8d-5617b37a62fb",
   "metadata": {},
   "outputs": [
    {
     "data": {
      "text/plain": [
       "2"
      ]
     },
     "execution_count": 7,
     "metadata": {},
     "output_type": "execute_result"
    }
   ],
   "source": [
    "len(texts)"
   ]
  },
  {
   "cell_type": "code",
   "execution_count": 8,
   "id": "97c9e310-597b-46aa-accf-69eeda77f7f5",
   "metadata": {},
   "outputs": [
    {
     "data": {
      "text/plain": [
       "Document(metadata={}, page_content='Be good')"
      ]
     },
     "execution_count": 8,
     "metadata": {},
     "output_type": "execute_result"
    }
   ],
   "source": [
    "texts[0]"
   ]
  },
  {
   "cell_type": "code",
   "execution_count": 10,
   "id": "297dd163-7d2c-476b-b332-c2bf232461d5",
   "metadata": {},
   "outputs": [
    {
     "data": {
      "text/plain": [
       "Document(metadata={}, page_content='April 2008(This essay is derived from a talk at the 2008 Startup School.)About a month after we started Y Combinator we came up with the\\nphrase that became our motto: Make something people want.  We\\'ve\\nlearned a lot since then, but if I were choosing now that\\'s still\\nthe one I\\'d pick.Another thing we tell founders is not to worry too much about the\\nbusiness model, at least at first.  Not because making money is\\nunimportant, but because it\\'s so much easier than building something\\ngreat.A couple weeks ago I realized that if you put those two ideas\\ntogether, you get something surprising.  Make something people want.\\nDon\\'t worry too much about making money.  What you\\'ve got is a\\ndescription of a charity.When you get an unexpected result like this, it could either be a\\nbug or a new discovery.  Either businesses aren\\'t supposed to be\\nlike charities, and we\\'ve proven by reductio ad absurdum that one\\nor both of the principles we began with is false.  Or we have a new\\nidea.I suspect it\\'s the latter, because as soon as this thought occurred\\nto me, a whole bunch of other things fell into place.ExamplesFor example, Craigslist.  It\\'s not a charity, but they run it like\\none.  And they\\'re astoundingly successful.  When you scan down the\\nlist of most popular web sites, the number of employees at Craigslist\\nlooks like a misprint. Their revenues aren\\'t as high as they could\\nbe, but most startups would be happy to trade places with them.In Patrick O\\'Brian\\'s novels, his captains always try to get upwind\\nof their opponents.  If you\\'re upwind, you decide when and if to\\nengage the other ship.  Craigslist is effectively upwind of enormous\\nrevenues.  They\\'d face some challenges if they wanted to make more,\\nbut not the sort you face when you\\'re tacking upwind, trying to\\nforce a crappy product on ambivalent users by spending ten times\\nas much on sales as on development.  [1]I\\'m not saying startups should aim to end up like Craigslist.\\nThey\\'re a product of unusual circumstances.  But they\\'re a good\\nmodel for the early phases.Google looked a lot like a charity in the beginning. They didn\\'t\\nhave ads for over a year.  At year 1, Google was indistinguishable\\nfrom a nonprofit.  If a nonprofit or government organization had\\nstarted a project to index the web, Google at year 1 is the limit\\nof what they\\'d have produced.Back when I was working on spam filters I thought it would be a\\ngood idea to have a web-based email service with good spam filtering.\\nI wasn\\'t thinking of it as a company.  I just wanted to keep people\\nfrom getting spammed.  But as I thought more about this project, I\\nrealized it would probably have to be a company.  It would cost\\nsomething to run, and it would be a pain to fund with grants and\\ndonations.That was a surprising realization.  Companies often claim to be\\nbenevolent, but it was surprising to realize there were purely\\nbenevolent projects that had to be embodied as companies to work.I didn\\'t want to start another company, so I didn\\'t do it.  But if\\nsomeone had, they\\'d probably be quite rich now.  There was a window\\nof about two years when spam was increasing rapidly but all the big\\nemail services had terrible filters.  If someone had launched a\\nnew, spam-free mail service, users would have flocked to it.Notice the pattern here?  From either direction we get to the same\\nspot.  If you start from successful startups, you find they often\\nbehaved like nonprofits.  And if you start from ideas for nonprofits,\\nyou find they\\'d often make good startups.PowerHow wide is this territory?  Would all good nonprofits be good\\ncompanies?  Possibly not.  What makes Google so valuable is that\\ntheir users have money.  If you make people with money love you,\\nyou can probably get some of it.  But could you also base a successful\\nstartup on behaving like a nonprofit to people who don\\'t have money?\\nCould you, for example, grow a successful startup out of curing an\\nunfashionable but deadly disease like malaria?I\\'m not sure, but I suspect that if you pushed this idea, you\\'d be\\nsurprised how far it would go.  For example, people who apply to Y\\nCombinator don\\'t generally have much money, and yet we can profit\\nby helping them, because with our help they could make money.  Maybe\\nthe situation is similar with malaria.  Maybe an organization that\\nhelped lift its weight off a country could benefit from the resulting\\ngrowth.I\\'m not proposing this is a serious idea.  I don\\'t know anything\\nabout malaria.  But I\\'ve been kicking ideas around long enough to\\nknow when I come across a powerful one.One way to guess how far an idea extends is to ask yourself at what\\npoint you\\'d bet against it.  The thought of betting against benevolence\\nis alarming in the same way as saying that something is technically\\nimpossible.  You\\'re just asking to be made a fool of, because these\\nare such powerful forces.  [2]For example, initially I thought maybe this principle only applied\\nto Internet startups.  Obviously it worked for Google, but what\\nabout Microsoft?  Surely Microsoft isn\\'t benevolent?  But when I\\nthink back to the beginning, they were.  Compared to IBM they were\\nlike Robin Hood.  When IBM introduced the PC, they thought they\\nwere going to make money selling hardware at high prices.  But by\\ngaining control of the PC standard, Microsoft opened up the market\\nto any manufacturer.  Hardware prices plummeted, and lots of people\\ngot to have computers who couldn\\'t otherwise have afforded them.\\nIt\\'s the sort of thing you\\'d expect Google to do.Microsoft isn\\'t so benevolent now.  Now when one thinks of what\\nMicrosoft does to users, all the verbs that come to mind begin with\\nF.  [3] And yet it doesn\\'t seem to pay.\\nTheir stock price has been flat for years.  Back when they were\\nRobin Hood, their stock price rose like Google\\'s.  Could there be\\na connection?You can see how there would be.  When you\\'re small, you can\\'t bully\\ncustomers, so you have to charm them.  Whereas when you\\'re big you\\ncan maltreat them at will, and you tend to, because it\\'s easier\\nthan satisfying them.  You grow big by being nice, but you can stay\\nbig by being mean.You get away with it till the underlying conditions change, and\\nthen all your victims escape.  So \"Don\\'t be evil\" may be the most\\nvaluable thing Paul Buchheit made for Google, because it may turn\\nout to be an elixir of corporate youth.  I\\'m sure they find it\\nconstraining, but think how valuable it will be if it saves them\\nfrom lapsing into the fatal laziness that afflicted Microsoft and\\nIBM.The curious thing is, this elixir is freely available to any other\\ncompany.  Anyone can adopt \"Don\\'t be evil.\"  The catch is that\\npeople will hold you to it.  So I don\\'t think you\\'re going to see\\nrecord labels or tobacco companies using this discovery.MoraleThere\\'s a lot of external evidence that benevolence works.  But how\\ndoes it work?  One advantage of investing in a large number of\\nstartups is that you get a lot of data about how they work.  From\\nwhat we\\'ve seen, being good seems to help startups in three ways:\\nit improves their morale, it makes other people want to help them,\\nand above all, it helps them be decisive.Morale is tremendously important to a startupâ€”so important\\nthat morale alone is almost enough to determine success.  Startups\\nare often described as emotional roller-coasters. One minute you\\'re\\ngoing to take over the world, and the next you\\'re doomed.  The\\nproblem with feeling you\\'re doomed is not just that it makes you\\nunhappy, but that it makes you stop working.  So the downhills\\nof the roller-coaster are more of a self fulfilling prophecy than\\nthe uphills.  If feeling you\\'re going to succeed makes you work\\nharder, that probably improves your chances of succeeding, but if\\nfeeling you\\'re going to fail makes you stop working, that practically\\nguarantees you\\'ll fail.Here\\'s where benevolence comes in.  If you feel you\\'re really helping\\npeople, you\\'ll keep working even when it seems like your startup\\nis doomed.  Most of us have some amount of natural benevolence.\\nThe mere fact that someone needs you makes you want to help them.\\nSo if you start the kind of startup where users come back each day,\\nyou\\'ve basically built yourself a giant tamagotchi.  You\\'ve made\\nsomething you need to take care of.Blogger is a famous example of a startup that went through really\\nlow lows and survived.  At one point they ran out of money and\\neveryone left. Evan Williams came in to work the next day, and there\\nwas no one but him.  What kept him going?  Partly that users needed\\nhim.  He was hosting thousands of people\\'s blogs. He couldn\\'t just\\nlet the site die.There are many advantages of launching quickly, but the most important\\nmay be that once you have users, the tamagotchi effect kicks in.\\nOnce you have users to take care of, you\\'re forced to figure out\\nwhat will make them happy, and that\\'s actually very valuable\\ninformation.The added confidence that comes from trying to help people can\\nalso help you with investors. One of the founders of \\nChatterous told \\nme recently that he and his cofounder had decided that this service\\nwas something the world needed, so they were going to keep working\\non it no matter what, even if they had to move back to Canada and live\\nin their parents\\' basements.Once they realized this, they stopped caring so much what investors thought\\nabout them.  They still met with them, but they weren\\'t going to\\ndie if they didn\\'t get their money.  And you know what?  The investors\\ngot a lot more interested.  They could sense that the Chatterouses\\nwere going to do this startup with or without them.If you\\'re really committed and your startup is cheap to run, you\\nbecome very hard to kill.  And practically all startups, even the\\nmost successful, come close to death at some point.  So if doing\\ngood for people gives you a sense of mission that makes you harder\\nto kill, that alone more than compensates for whatever you lose by\\nnot choosing a more selfish project.HelpAnother advantage of being good is that it makes other people want\\nto help you.  This too seems to be an inborn trait in humans.One of the startups we\\'ve funded, Octopart, is currently locked in\\na classic battle of good versus evil.  They\\'re a search site for\\nindustrial components.  A lot of people need to search for components,\\nand before Octopart there was no good way to do it.  That, it turned\\nout, was no coincidence.Octopart built the right way to search for components.  Users like\\nit and they\\'ve been growing rapidly.  And yet for most of Octopart\\'s\\nlife, the biggest distributor, Digi-Key, has been trying to force\\nthem take their prices off the site.  Octopart is sending them\\ncustomers for free, and yet Digi-Key is trying to make that traffic\\nstop.  Why?  Because their current business model depends on\\novercharging people who have incomplete information about prices.\\nThey don\\'t want search to work.The Octoparts are the nicest guys in the world.  They dropped out\\nof the PhD program in physics at Berkeley to do this.  They just\\nwanted to fix a problem they encountered in their research.  Imagine\\nhow much time you could save the world\\'s engineers if they could\\ndo searches online.  So when I hear that a big, evil company is\\ntrying to stop them in order to keep search broken, it makes me\\nreally want to help them. It makes me spend more time on the Octoparts\\nthan I do with most of the other startups we\\'ve funded.  It just\\nmade me spend several minutes telling you how great they are.  Why?\\nBecause they\\'re good guys and they\\'re trying to help the world.If you\\'re benevolent, people will rally around you: investors,\\ncustomers, other companies, and potential employees.  In the long\\nterm the most important may be the potential employees.  I think\\neveryone knows now that \\ngood hackers are much better than mediocre\\nones.  If you can attract the best hackers to work for you, as\\nGoogle has, you have a big advantage.  And the very best hackers\\ntend to be idealistic.  They\\'re not desperate for a job.  They can\\nwork wherever they want.  So most want to work on things that will\\nmake the world better.CompassBut the most important advantage of being good is that it acts as\\na compass.  One of the hardest parts of doing a startup is that you\\nhave so many choices.  There are just two or three of you, and a\\nthousand things you could do. How do you decide?Here\\'s the answer: Do whatever\\'s best for your users.  You can hold\\nonto this like a rope in a hurricane, and it will save you if\\nanything can.  Follow it and it will take you through everything\\nyou need to do.It\\'s even the answer to questions that seem unrelated, like how to\\nconvince investors to give you money.  If you\\'re a good salesman,\\nyou could try to just talk them into it.  But the more reliable\\nroute is to convince them through your users: if you make something\\nusers love enough to tell their friends, you grow exponentially,\\nand that will convince any investor.Being good is a particularly useful strategy for making decisions\\nin complex situations because it\\'s stateless.  It\\'s like telling\\nthe truth.  The trouble with lying is that you have to remember\\neverything you\\'ve said in the past to make sure you don\\'t contradict\\nyourself.  If you tell the truth you don\\'t have to remember anything,\\nand that\\'s a really useful property in domains where things happen\\nfast.For example, Y Combinator has now invested in 80 startups, 57 of\\nwhich are still alive.  (The rest have died or merged or been\\nacquired.)  When you\\'re trying to advise 57 startups, it turns out\\nyou have to have a stateless algorithm.  You can\\'t have ulterior\\nmotives when you have 57 things going on at once, because you can\\'t\\nremember them.  So our rule is just to do whatever\\'s best for the\\nfounders.  Not because we\\'re particularly benevolent, but because\\nit\\'s the only algorithm that works on that scale.When you write something telling people to be good, you seem to be\\nclaiming to be good yourself.  So I want to say explicitly that I\\nam not a particularly good person.  When I was a kid I was firmly\\nin the camp of bad.  The way adults used the word good, it seemed\\nto be synonymous with quiet, so I grew up very suspicious of it.You know how there are some people whose names come up in conversation\\nand everyone says \"He\\'s such a great guy?\"  People never say\\nthat about me.  The best I get is \"he means well.\"  I am not claiming\\nto be good.  At best I speak good as a second language.So I\\'m not suggesting you be good in the usual sanctimonious way.\\nI\\'m suggesting it because it works.  It will work not just as a\\nstatement of \"values,\" but as a guide to strategy,\\nand even a design spec for software.  Don\\'t just not be evil.  Be\\ngood.Notes[1] Fifty years ago\\nit would have seemed shocking for a public company not to pay\\ndividends.  Now many tech companies don\\'t.  The markets seem to\\nhave figured out how to value potential dividends.  Maybe that isn\\'t\\nthe last step in this evolution.  Maybe markets will eventually get\\ncomfortable with potential earnings. (VCs already are, and at least\\nsome of them consistently make money.)I realize this sounds like the stuff one used to hear about the\\n\"new economy\" during the Bubble.  Believe me, I was not drinking\\nthat kool-aid at the time.  But I\\'m convinced there were some \\ngood\\nideas buried in Bubble thinking.  For example, it\\'s ok to focus on\\ngrowth instead of profitsâ€”but only if the growth is genuine.\\nYou can\\'t be buying users; that\\'s a pyramid scheme.   But a company\\nwith rapid, genuine growth is valuable, and eventually markets learn\\nhow to value valuable things.[2] The idea of starting\\na company with benevolent aims is currently undervalued, because\\nthe kind of people who currently make that their explicit goal don\\'t\\nusually do a very good job.It\\'s one of the standard career paths of trustafarians to start\\nsome vaguely benevolent business.  The problem with most of them\\nis that they either have a bogus political agenda or are feebly\\nexecuted.  The trustafarians\\' ancestors didn\\'t get rich by preserving\\ntheir traditional culture; maybe people in Bolivia don\\'t want to\\neither.  And starting an organic farm, though it\\'s at least\\nstraightforwardly benevolent, doesn\\'t help people on the scale that\\nGoogle does.Most explicitly benevolent projects don\\'t hold themselves sufficiently\\naccountable.  They act as if having good intentions were enough to\\nguarantee good effects.[3] Users dislike their\\nnew operating system so much that they\\'re starting petitions to\\nsave the old one.  And the old one was nothing special.  The hackers\\nwithin Microsoft must know in their hearts that if the company\\nreally cared about users they\\'d just advise them to switch to OSX.Thanks to Trevor Blackwell, Paul Buchheit, Jessica Livingston,\\nand Robert Morris for reading drafts of this.')"
      ]
     },
     "execution_count": 10,
     "metadata": {},
     "output_type": "execute_result"
    }
   ],
   "source": [
    "texts[1]"
   ]
  },
  {
   "cell_type": "markdown",
   "id": "b8c9b427-4002-4995-9db4-63d5afa9403c",
   "metadata": {},
   "source": [
    "#### Splitting with metadata"
   ]
  },
  {
   "cell_type": "code",
   "execution_count": 11,
   "id": "becc89c4-ec8c-468a-af28-711184d9c75c",
   "metadata": {},
   "outputs": [],
   "source": [
    "metadatas = [{\"chunk\": 0}, {\"chunk\": 1}]\n",
    "\n",
    "documents = text_splitter.create_documents(\n",
    "    [loaded_data[0].page_content, loaded_data[0].page_content], \n",
    "    metadatas=metadatas\n",
    ")"
   ]
  },
  {
   "cell_type": "markdown",
   "id": "5a082af2-0913-4b8a-8e98-073e0bae2fbe",
   "metadata": {},
   "source": [
    "The `CharacterTextSplitter` from LangChain's text splitting utilities helps break down text into manageable chunks along with the option to attach metadata to each chunk. Here’s how it works in simple terms:\n",
    "\n",
    "1. **Initialization of the Splitter**: The splitter is configured with several parameters:\n",
    "   - `separator`: This is the character or string at which the text will be split. In this example, it’s set to `\"\\n\\n\"`, which means the text will be divided at every occurrence of double newlines.\n",
    "   - `chunk_size`: This determines the maximum size of each chunk in characters. Here, each chunk can be up to 1000 characters long.\n",
    "   - `chunk_overlap`: This allows chunks to overlap by a specified number of characters, set here to 200. Overlapping helps ensure that no crucial information is cut off awkwardly at the end of a chunk.\n",
    "   - `length_function`: This is typically a function to measure the length of the text; `len` simply counts the number of characters.\n",
    "   - `is_separator_regex`: This indicates whether the separator is a regular expression or not. Here, it’s `False`, meaning the separator is treated as a literal string.\n",
    "\n",
    "2. **Creating Chunks**: The `create_documents` method is used to split the text. It takes in the text (or texts) and optional metadata, and splits the text based on the defined parameters.\n",
    "\n",
    "3. **Attaching Metadata**: Optionally, metadata can be attached to each chunk to provide additional context or identifiers. For example, metadata might tag each chunk with its sequence number or categorize it based on content. In the example, metadata like `{\"chunk\": 0}` could signify that it’s the first chunk.\n",
    "\n",
    "#### Example Code Explanation:\n",
    "- **First Splitter Use**: Initially, the splitter is used to split the content of `loaded_data[0].page_content` without metadata. This will just divide the text based on the provided settings.\n",
    "- **Second Splitter Use**: The same text is then split again, but this time with metadata provided (`metadatas=[{\"chunk\": 0}, {\"chunk\": 1}]`). This second run distinguishes each chunk with additional information.\n",
    "\n",
    "#### Example Outputs:\n",
    "- **Number of Chunks**: This would typically be printed using `len(texts)`, showing how many chunks the text was split into.\n",
    "- **First Chunk**: By printing `texts[0]`, you would see the content of the first chunk.\n",
    "- **First Chunk with Metadata**: Printing `documents[0]` after the second splitting operation would show the first chunk of text along with its corresponding metadata, illustrating how metadata is associated with text chunks.\n",
    "\n",
    "This method is particularly useful in applications where chunks of text need to be processed independently, but still require some form of contextual or sequential linking."
   ]
  },
  {
   "cell_type": "code",
   "execution_count": 12,
   "id": "2f32ee1a-dcbc-4906-9e26-ff1c00f43e30",
   "metadata": {},
   "outputs": [
    {
     "data": {
      "text/plain": [
       "Document(metadata={'chunk': 0}, page_content='Be good')"
      ]
     },
     "execution_count": 12,
     "metadata": {},
     "output_type": "execute_result"
    }
   ],
   "source": [
    "documents[0]"
   ]
  },
  {
   "cell_type": "code",
   "execution_count": 13,
   "id": "a892bfb2-d1ab-4e9d-a4b2-25a4a6319577",
   "metadata": {},
   "outputs": [
    {
     "name": "stdout",
     "output_type": "stream",
     "text": [
      "page_content='Be good' metadata={'chunk': 0}\n"
     ]
    }
   ],
   "source": [
    "print(documents[0])"
   ]
  },
  {
   "cell_type": "markdown",
   "id": "ea671270",
   "metadata": {},
   "source": [
    "## Recursive Character Splitter\n",
    "* This text splitter is the recommended one for generic text. \n",
    "* It is parameterized by a list of characters. It tries to split on them in order until the chunks are small enough. The default list is [\"\\n\\n\", \"\\n\", \" \", \"\"]. \n",
    "* This has the effect of trying to keep all paragraphs (and then sentences, and then words) together as long as possible, as those would generically seem to be the strongest semantically related pieces of text."
   ]
  },
  {
   "cell_type": "markdown",
   "id": "95c24c6b-f163-47da-9282-02d3f14b947f",
   "metadata": {},
   "source": [
    "#### Simple Explanation:\n",
    "\n",
    "* The \"Recursive Character Splitter\" is a method used to divide text into smaller, more manageable chunks, designed specifically to maintain the semantic integrity of the text.\n",
    "* It operates by attempting to split the text using a list of characters in a specified order—beginning with the largest units like paragraphs, then moving to sentences, and finally to individual words if needed.\n",
    "* The default sequence for splitting is [\"\\n\\n\", \"\\n\", \" \", \"\"], which means it first tries to split the text at double newline characters to separate paragraphs, then at single newlines for any remaining large blocks, followed by spaces to isolate sentences or phrases, and finally using an empty string if finer splitting is necessary.\n",
    "* This method is particularly effective because it tries to keep text chunks as meaningful and complete as possible, ensuring that each chunk has a coherent piece of information.\n",
    "\n",
    "#### Example of Use:\n",
    "\n",
    "#### Original Text:\n",
    "```\n",
    "Hello, welcome to our store!\n",
    "\n",
    "\\n\\nWe offer a variety of products. Our range includes electronics, clothing, and home appliances.\n",
    "\\nOur staff is available to help you during store hours: 9 AM to 9 PM every day.\n",
    "```\n",
    "\n",
    "#### Applying Recursive Character Splitter:\n",
    "- First attempt with `\"\\n\\n\"`:\n",
    "  1. **Chunk 1:** `Hello, welcome to our store!`\n",
    "  2. **Chunk 2:** `We offer a variety of products. Our range includes electronics, clothing, and home appliances.\\nOur staff is available to help you during store hours: 9 AM to 9 PM every day.`\n",
    "\n",
    "- Second attempt with `\"\\n\"` for remaining long chunk:\n",
    "  1. **New Chunk 2:** `We offer a variety of products. Our range includes electronics, clothing, and home appliances.`\n",
    "  2. **Chunk 3:** `Our staff is available to help you during store hours: 9 AM to 9 PM every day.`\n",
    "\n",
    "- No further splits are necessary as all chunks are now of manageable size.\n",
    "\n",
    "In this example, the text is initially split into two chunks using the double newline. Since one chunk is still quite long, it then uses a single newline to split it further. Each chunk retains coherent, complete information, reflecting the effective use of the recursive character splitter to preserve the semantic structure of the text."
   ]
  },
  {
   "cell_type": "code",
   "execution_count": 14,
   "id": "0c9adc17",
   "metadata": {},
   "outputs": [],
   "source": [
    "from langchain_text_splitters import RecursiveCharacterTextSplitter"
   ]
  },
  {
   "cell_type": "code",
   "execution_count": 15,
   "id": "6f4f0f2f",
   "metadata": {},
   "outputs": [],
   "source": [
    "recursive_splitter = RecursiveCharacterTextSplitter(\n",
    "    chunk_size=26,\n",
    "    chunk_overlap=4\n",
    ")"
   ]
  },
  {
   "cell_type": "code",
   "execution_count": 16,
   "id": "42d904ab",
   "metadata": {},
   "outputs": [],
   "source": [
    "text1 = 'abcdefghijklmnopqrstuvwxyzabcdefg'"
   ]
  },
  {
   "cell_type": "code",
   "execution_count": 17,
   "id": "7396e743",
   "metadata": {},
   "outputs": [],
   "source": [
    "text2 = \"\"\"\n",
    "Data that Speak\n",
    "LLM Applications are revolutionizing industries such as \n",
    "banking, healthcare, insurance, education, legal, tourism, \n",
    "construction, logistics, marketing, sales, customer service, \n",
    "and even public administration.\n",
    "\n",
    "The aim of our programs is for students to learn how to \n",
    "create LLM Applications in the context of a business, \n",
    "which presents a set of challenges that are important \n",
    "to consider in advance.\n",
    "\"\"\""
   ]
  },
  {
   "cell_type": "code",
   "execution_count": 18,
   "id": "2a2f91ed",
   "metadata": {},
   "outputs": [
    {
     "data": {
      "text/plain": [
       "['abcdefghijklmnopqrstuvwxyz', 'wxyzabcdefg']"
      ]
     },
     "execution_count": 18,
     "metadata": {},
     "output_type": "execute_result"
    }
   ],
   "source": [
    "recursive_splitter.split_text(text1)"
   ]
  },
  {
   "cell_type": "code",
   "execution_count": 19,
   "id": "7a4b4a21",
   "metadata": {},
   "outputs": [
    {
     "data": {
      "text/plain": [
       "['Data that Speak',\n",
       " 'LLM Applications are',\n",
       " 'are revolutionizing',\n",
       " 'industries such as',\n",
       " 'banking, healthcare,',\n",
       " 'insurance, education,',\n",
       " 'legal, tourism,',\n",
       " 'construction, logistics,',\n",
       " 'marketing, sales,',\n",
       " 'customer service,',\n",
       " 'and even public',\n",
       " 'administration.',\n",
       " 'The aim of our programs',\n",
       " 'is for students to learn',\n",
       " 'how to',\n",
       " 'create LLM Applications',\n",
       " 'in the context of a',\n",
       " 'a business,',\n",
       " 'which presents a set of',\n",
       " 'of challenges that are',\n",
       " 'are important',\n",
       " 'to consider in advance.']"
      ]
     },
     "execution_count": 19,
     "metadata": {},
     "output_type": "execute_result"
    }
   ],
   "source": [
    "recursive_splitter.split_text(text2)"
   ]
  },
  {
   "cell_type": "code",
   "execution_count": 20,
   "id": "7756d7a2",
   "metadata": {},
   "outputs": [],
   "source": [
    "second_recursive_splitter = RecursiveCharacterTextSplitter(\n",
    "    chunk_size=150,\n",
    "    chunk_overlap=0,\n",
    "    separators=[\"\\n\\n\", \"\\n\", \"(?<=\\. )\", \" \", \"\"]\n",
    ")"
   ]
  },
  {
   "cell_type": "markdown",
   "id": "5e6acfa6-5c64-417f-a2e1-c1f9939f1305",
   "metadata": {},
   "source": [
    "The separators `[\"\\n\\n\", \"\\n\", \"(?<=\\. )\", \" \", \"\"]` refer to a sequence of characters and patterns used to split text into smaller parts, with each separator serving a specific function based on the structure of text:\n",
    "\n",
    "1. `\"\\n\\n\"` - This separator targets double newlines, which are often used to denote separate paragraphs or sections within a text. Splitting here is intended to separate distinct thematic or topical blocks of content.\n",
    "\n",
    "2. `\"\\n\"` - This targets single newline characters, which typically indicate a new line within a paragraph or a soft break in the content, such as between list items or sub-paragraphs.\n",
    "\n",
    "3. `\"(?<=\\. )\"` - This is a regular expression that looks for a period followed by a space, typically used to signify the end of a sentence. The `(?<= )` part is a \"lookbehind\" assertion in regex, which means it checks for the occurrence of a period and space before splitting, but does not include them in the split, thus keeping sentences intact.\n",
    "\n",
    "4. `\" \"` - This targets single space characters, which are commonly used to separate words. Splitting on spaces can break down text into individual words or phrases, especially useful when finer granularity is needed.\n",
    "\n",
    "5. `\"\"` - An empty string as a separator is used in text processing to split a text into its individual characters, essentially decomposing the text down to its most basic elements.\n",
    "\n",
    "Each of these separators is used to progressively split the text into smaller and smaller chunks, starting from larger structural divisions like paragraphs and moving down to the level of individual characters, depending on the needs of the application."
   ]
  },
  {
   "cell_type": "code",
   "execution_count": 21,
   "id": "45e8a845",
   "metadata": {},
   "outputs": [
    {
     "data": {
      "text/plain": [
       "['Data that Speak\\nLLM Applications are revolutionizing industries such as \\nbanking, healthcare, insurance, education, legal, tourism,',\n",
       " 'construction, logistics, marketing, sales, customer service, \\nand even public administration.',\n",
       " 'The aim of our programs is for students to learn how to \\ncreate LLM Applications in the context of a business,',\n",
       " 'which presents a set of challenges that are important \\nto consider in advance.']"
      ]
     },
     "execution_count": 21,
     "metadata": {},
     "output_type": "execute_result"
    }
   ],
   "source": [
    "second_recursive_splitter.split_text(text2)"
   ]
  },
  {
   "cell_type": "markdown",
   "id": "dbc24f4f-d23c-4202-992d-91b0623136ae",
   "metadata": {},
   "source": [
    "## How to execute the code from Visual Studio Code\n",
    "* In Visual Studio Code, see the file 002-splitters.py\n",
    "* In terminal, make sure you are in the directory of the file and run:\n",
    "    * python 002-splitters.py"
   ]
  },
  {
   "cell_type": "code",
   "execution_count": null,
   "id": "b1af248e-6069-44b3-a2cd-a20aa3259874",
   "metadata": {},
   "outputs": [],
   "source": []
  }
 ],
 "metadata": {
  "kernelspec": {
   "display_name": "b402-OEqdL2Ec-py3.11",
   "language": "python",
   "name": "python3"
  },
  "language_info": {
   "codemirror_mode": {
    "name": "ipython",
    "version": 3
   },
   "file_extension": ".py",
   "mimetype": "text/x-python",
   "name": "python",
   "nbconvert_exporter": "python",
   "pygments_lexer": "ipython3",
   "version": "3.11.4"
  }
 },
 "nbformat": 4,
 "nbformat_minor": 5
}
