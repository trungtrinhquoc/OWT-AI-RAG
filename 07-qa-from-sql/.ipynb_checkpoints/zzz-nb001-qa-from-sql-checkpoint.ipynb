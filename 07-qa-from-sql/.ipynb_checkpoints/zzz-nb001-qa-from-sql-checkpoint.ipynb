{
 "cells": [
  {
   "cell_type": "markdown",
   "id": "465c003a-29cf-4cfe-a0c6-d36c04ae2b37",
   "metadata": {},
   "source": [
    "# QA over SQL data"
   ]
  },
  {
   "cell_type": "markdown",
   "id": "96a73fbf-e241-499d-a235-32a87b46ee7c",
   "metadata": {},
   "source": [
    "## Intro\n",
    "* We will create a Q&A app over tabular data in databases.\n",
    "* These app will allow us to **ask a question about the data in a database in natural language and get back an answer also in natural language**.\n",
    "* Building Q&A systems of SQL databases requires executing model-generated SQL queries. There are inherent risks in doing this. **In production, make sure that your database connection permissions** are always scoped as narrowly as possible for your chain's needs."
   ]
  },
  {
   "cell_type": "markdown",
   "id": "be46161e-45e9-46d7-8214-bcbea10aff2e",
   "metadata": {},
   "source": [
    "## Setup"
   ]
  },
  {
   "cell_type": "markdown",
   "id": "871e0018-cba4-4959-881a-0a65093d202d",
   "metadata": {},
   "source": [
    "#### After you download the code from the github repository in your computer\n",
    "In terminal:\n",
    "* cd project_name\n",
    "* pyenv local 3.11.4\n",
    "* poetry install\n",
    "* poetry shell\n",
    "\n",
    "#### To open the notebook with Jupyter Notebooks\n",
    "In terminal:\n",
    "* jupyter lab\n",
    "\n",
    "Go to the folder of notebooks and open the right notebook.\n",
    "\n",
    "#### To see the code in Virtual Studio Code or your editor of choice.\n",
    "* open Virtual Studio Code or your editor of choice.\n",
    "* open the project-folder\n",
    "* open the 001-qa-from-sql.py file"
   ]
  },
  {
   "cell_type": "markdown",
   "id": "5513e89d-8d35-4292-b2f7-0ed415d674eb",
   "metadata": {},
   "source": [
    "## Create your .env file\n",
    "* In the github repo we have included a file named .env.example\n",
    "* Rename that file to .env file and here is where you will add your confidential api keys. Remember to include:\n",
    "* OPENAI_API_KEY=your_openai_api_key\n",
    "* LANGCHAIN_TRACING_V2=true\n",
    "* LANGCHAIN_ENDPOINT=https://api.smith.langchain.com\n",
    "* LANGCHAIN_API_KEY=your_langchain_api_key\n",
    "* LANGCHAIN_PROJECT=your_project_name"
   ]
  },
  {
   "cell_type": "markdown",
   "id": "863dd299-0780-49ad-a1b7-b76e249350da",
   "metadata": {},
   "source": [
    "We will call our LangSmith project **001-qa-from-sql**."
   ]
  },
  {
   "cell_type": "markdown",
   "id": "572542c1-8a9b-47c3-bd90-7f33c8461c23",
   "metadata": {},
   "source": [
    "## Connect with the .env file located in the same directory of this notebook"
   ]
  },
  {
   "cell_type": "markdown",
   "id": "a0dad983-5910-4256-acb4-86a6d9861c13",
   "metadata": {},
   "source": [
    "If you are using the pre-loaded poetry shell, you do not need to install the following package because it is already pre-loaded for you:"
   ]
  },
  {
   "cell_type": "code",
   "execution_count": 1,
   "id": "a508d2ac-5e64-48a6-895e-2e0ab5162d1c",
   "metadata": {},
   "outputs": [],
   "source": [
    "#!pip install python-dotenv"
   ]
  },
  {
   "cell_type": "code",
   "execution_count": 2,
   "id": "fecd39d0-e72e-4bc2-8a68-2fa4008ea365",
   "metadata": {},
   "outputs": [],
   "source": [
    "import os\n",
    "from dotenv import load_dotenv, find_dotenv\n",
    "_ = load_dotenv(find_dotenv())\n",
    "openai_api_key = os.environ[\"OPENAI_API_KEY\"]"
   ]
  },
  {
   "cell_type": "markdown",
   "id": "03f4a923-b19e-498e-9be5-e47ec4a77d80",
   "metadata": {},
   "source": [
    "## Install LangChain"
   ]
  },
  {
   "cell_type": "markdown",
   "id": "b411cb8c-4baf-43cf-bf79-e56646c90519",
   "metadata": {},
   "source": [
    "If you are using the pre-loaded poetry shell, you do not need to install the following package because it is already pre-loaded for you:"
   ]
  },
  {
   "cell_type": "code",
   "execution_count": 3,
   "id": "c1cf94ae-6c39-4475-9c5b-4b74d8d78753",
   "metadata": {},
   "outputs": [],
   "source": [
    "#!pip install langchain"
   ]
  },
  {
   "cell_type": "markdown",
   "id": "189e9e17-dfb0-4fd3-85b9-1fba83771941",
   "metadata": {},
   "source": [
    "## Connect with an LLM"
   ]
  },
  {
   "cell_type": "markdown",
   "id": "57b4581b-0b47-4a00-8c72-5d4846cfea15",
   "metadata": {},
   "source": [
    "If you are using the pre-loaded poetry shell, you do not need to install the following package because it is already pre-loaded for you:"
   ]
  },
  {
   "cell_type": "code",
   "execution_count": 4,
   "id": "148df8e0-361d-4ddd-8709-af48fa1648d1",
   "metadata": {},
   "outputs": [],
   "source": [
    "#!pip install langchain-openai"
   ]
  },
  {
   "cell_type": "markdown",
   "id": "a1998155-91de-4cbc-bc88-8d77beefb51b",
   "metadata": {},
   "source": [
    "* NOTE: Since right now is the best LLM in the market, we will use OpenAI by default. You will see how to connect with other Open Source LLMs like Llama3 or Mistral in a next lesson."
   ]
  },
  {
   "cell_type": "code",
   "execution_count": 5,
   "id": "6ae8595e-5c07-4b02-8a79-db55fd357527",
   "metadata": {},
   "outputs": [],
   "source": [
    "from langchain_openai import ChatOpenAI\n",
    "\n",
    "llm = ChatOpenAI(model=\"gpt-3.5-turbo-0125\")"
   ]
  },
  {
   "cell_type": "markdown",
   "id": "d373482d-492a-40df-b0ac-131ed70c5259",
   "metadata": {},
   "source": [
    "If you are using the pre-loaded poetry shell, you do not need to install the following package because it is already pre-loaded for you:"
   ]
  },
  {
   "cell_type": "code",
   "execution_count": 6,
   "id": "bc942a2e-b9d3-4f5f-a612-f212cacc8bdd",
   "metadata": {},
   "outputs": [],
   "source": [
    "#!pip install langchain-community"
   ]
  },
  {
   "cell_type": "markdown",
   "id": "85a99a77-abc6-412a-b9dc-651e00fe5867",
   "metadata": {},
   "source": [
    "## Connect with the database\n",
    "* In this example we will use a SQLite connection with the `street_tree_db` database we have in the `data` folder.\n",
    "* **Remember to download the data folder from the Github repository**.\n",
    "* The `data` folder must be in the root directory of this app.\n",
    "* We can interface with the database using the SQLAlchemy-driven `SQLDatabase` class:"
   ]
  },
  {
   "cell_type": "code",
   "execution_count": 7,
   "id": "ae1ca291-4c3f-47a6-8854-42d2ac953c15",
   "metadata": {},
   "outputs": [],
   "source": [
    "from langchain_community.utilities import SQLDatabase\n",
    "\n",
    "sqlite_db_path = \"data/street_tree_db.sqlite\"\n",
    "\n",
    "db = SQLDatabase.from_uri(f\"sqlite:///{sqlite_db_path}\")"
   ]
  },
  {
   "cell_type": "markdown",
   "id": "c39a7a0a-059c-496f-91ee-1303aa1bb6ae",
   "metadata": {},
   "source": [
    "We can create a simple chain that takes a question and does the following:\n",
    "* Convert the question into a SQL query;\n",
    "* Execute the query;\n",
    "* Use the result to answer the original question.\n",
    "\n",
    "The first step in a SQL chain is to take the user input and convert it to a SQL query. LangChain comes with a **built-in chain** for this, `create_sql_query_chain`:"
   ]
  },
  {
   "cell_type": "markdown",
   "id": "5ea9f155-cacc-41ad-bce8-1d9ceb318329",
   "metadata": {},
   "source": [
    "#### Step 1: Translating a question in natural language into an SQL query."
   ]
  },
  {
   "cell_type": "code",
   "execution_count": 8,
   "id": "bd9b7787-2076-4d6a-94ad-8c815fb1ff61",
   "metadata": {},
   "outputs": [
    {
     "data": {
      "text/plain": [
       "'SELECT COUNT(DISTINCT \"qSpecies\") AS unique_species\\nFROM street_trees'"
      ]
     },
     "execution_count": 8,
     "metadata": {},
     "output_type": "execute_result"
    }
   ],
   "source": [
    "from langchain.chains import create_sql_query_chain\n",
    "\n",
    "chain = create_sql_query_chain(llm, db)\n",
    "\n",
    "response = chain.invoke({\"question\": \"How many species of trees are in San Francisco?\"})\n",
    "\n",
    "response"
   ]
  },
  {
   "cell_type": "markdown",
   "id": "c0c5f7fa-0147-423f-8793-22fdbdacdd29",
   "metadata": {},
   "source": [
    "* We can execute the query to make sure it's valid:"
   ]
  },
  {
   "cell_type": "code",
   "execution_count": 9,
   "id": "3b598141-a7c3-4209-b0cf-626b28d677b4",
   "metadata": {},
   "outputs": [
    {
     "data": {
      "text/plain": [
       "'[(148,)]'"
      ]
     },
     "execution_count": 9,
     "metadata": {},
     "output_type": "execute_result"
    }
   ],
   "source": [
    "db.run(response)"
   ]
  },
  {
   "cell_type": "markdown",
   "id": "71188e6d-8b78-4162-804a-918d54449b17",
   "metadata": {},
   "source": [
    "* We can also inspect the chain directly for its prompts. Pay attention to the second paragraph, where it says: **\"Unless the user specifies in the question a specific number of examples to obtain, query for at most 5 results using the LIMIT clause as per SQLite. You can order the results to return the most informative data in the database.\"** This is a limitation and if it is not handled well can cause errors."
   ]
  },
  {
   "cell_type": "code",
   "execution_count": 10,
   "id": "01fe095e-a138-4d5e-a02a-14c6d38d1786",
   "metadata": {},
   "outputs": [
    {
     "name": "stdout",
     "output_type": "stream",
     "text": [
      "You are a SQLite expert. Given an input question, first create a syntactically correct SQLite query to run, then look at the results of the query and return the answer to the input question.\n",
      "Unless the user specifies in the question a specific number of examples to obtain, query for at most 5 results using the LIMIT clause as per SQLite. You can order the results to return the most informative data in the database.\n",
      "Never query for all columns from a table. You must query only the columns that are needed to answer the question. Wrap each column name in double quotes (\") to denote them as delimited identifiers.\n",
      "Pay attention to use only the column names you can see in the tables below. Be careful to not query for columns that do not exist. Also, pay attention to which column is in which table.\n",
      "Pay attention to use date('now') function to get the current date, if the question involves \"today\".\n",
      "\n",
      "Use the following format:\n",
      "\n",
      "Question: Question here\n",
      "SQLQuery: SQL Query to run\n",
      "SQLResult: Result of the SQLQuery\n",
      "Answer: Final answer here\n",
      "\n",
      "Only use the following tables:\n",
      "\u001b[33;1m\u001b[1;3m{table_info}\u001b[0m\n",
      "\n",
      "Question: \u001b[33;1m\u001b[1;3m{input}\u001b[0m\n"
     ]
    }
   ],
   "source": [
    "chain.get_prompts()[0].pretty_print()"
   ]
  },
  {
   "cell_type": "markdown",
   "id": "a2eab168-ba8d-410f-a158-631d87edb2d9",
   "metadata": {},
   "source": [
    "#### Step 2: Executing the SQL query."
   ]
  },
  {
   "cell_type": "markdown",
   "id": "71ef39e5-1b37-4673-aa4c-951fbb3e6e3f",
   "metadata": {},
   "source": [
    "* Now that we've generated a SQL query, we'll want to execute it.\n",
    "* When you are in production, consider carefully if it is OK to run automated queries over your data. Minimize the database connection permissions as much as possible. Consider adding a human approval step to you chains before query execution.\n",
    "* We can **use the QuerySQLDatabaseTool to easily add query execution to our chain**:\n",
    "    * The user asks a question.\n",
    "    * The write_query chain has que question as input and the SQL query as output.\n",
    "    * The execute_query chain has the SQL query as input and the SQL query execution as output."
   ]
  },
  {
   "cell_type": "code",
   "execution_count": 11,
   "id": "3e849055-8d6b-49ed-b8b3-aeb95e04b208",
   "metadata": {},
   "outputs": [
    {
     "data": {
      "text/plain": [
       "'[(\"Arbutus \\'Marina\\' :: Hybrid Strawberry Tree\",), (\\'Afrocarpus gracilior :: Fern Pine\\',), (\"Thuja occidentalis \\'Emerald\\' :: Emerald Arborvitae\",), (\"Magnolia grandiflora \\'Little Gem\\' :: Little Gem Magnolia\",), (\\'Platanus x hispanica :: Sycamore: London Plane\\',), (\\'Ulmus parvifolia :: Chinese Elm\\',), (\\'Leptospermum laevigatum :: Australian Tea Tree\\',), (\"Olea europaea \\'Fruitless\\' :: Fruitless Olive\",), (\\'Ficus rubiginosa :: Port Jackson Fig\\',), (\\'Cycas revoluta :: Sago palm\\',), (\\'Lophostemon confertus :: Brisbane Box\\',), (\\'Podocarpus gracilor :: Fern Pine\\',), (\\'Eriobotrya deflexa :: Bronze Loquat\\',), (\\'Ligustrum lucidum :: Glossy Privet\\',), (\\'Syagrus romanzoffianum :: Queen Palm\\',), (\"Ficus microcarpa nitida \\'Green Gem\\' :: Indian Laurel Fig Tree \\'Green Gem\\'\",), (\\'Prunus cerasifera :: Cherry Plum\\',), (\\':: To Be Determine\\',), (\\'Myoporum laetum :: Myoporum\\',), (\\'Tristaniopsis laurina :: Swamp Myrtle\\',), (\\'Ginkgo biloba :: Maidenhair Tree\\',), (\\'Pyrus calleryana :: Ornamental Pear\\',), (\"Morus alba \\'Fruitless\\' :: Fruitless Mulberry\",), (\\'Magnolia grandiflora :: Southern Magnolia\\',), (\\'Pittosporum undulatum :: Victorian Box\\',), (\\'Lyonothamnus floribundus subsp. asplenifolius :: Santa Cruz Ironwood\\',), (\\'Leptospermum scoparium :: New Zealand Tea Tree\\',), (\\'Tree(s) ::\\',), (\\'Acer rubrum :: Red Maple\\',), (\\':: Tree\\',), (\\'Carpinus betulus :: European Hornbeam\\',), (\\'Ilex aquifolium :: European Holly\\',), (\\'Lagunaria patersonii :: Primrose Tree\\',), (\\'Pinus radiata :: Monterey Pine\\',), (\\'Prunus laurocerasus :: English laurel\\',), (\\'Cercis occidentalis :: Western Redbud\\',), (\\'Prunus serrulata :: Ornamental Cherry\\',), (\\'Maytenus boaria :: Mayten\\',), (\\'Arbutus unedo :: Strawberry Tree\\',), (\\'Callistemon citrinus :: Lemon Bottlebrush\\',), (\\'Cordyline australis :: Dracena Palm\\',), (\\'Quercus suber :: Cork Oak\\',), (\\'Pseudotsuga menziesii :: Douglas Fir\\',), (\\'Quercus agrifolia :: Coast Live Oak\\',), (\\'Olea Majestic Beauty ::\\',), (\\'Platanus racemosa :: California Sycamore\\',), (\\'Metrosideros excelsa :: New Zealand Xmas Tree\\',), (\\'Quercus tomentella :: Island oak\\',), (\\'Olea europaea :: Olive Tree\\',), (\\'Quercus spp :: Oak\\',), (\\'Platanus occidentalis :: American sycamore\\',), (\\'Hakea suaveolens :: Sweet Hakea Tree\\',), (\\'Acacia melanoxylon :: Blackwood Acacia\\',), (\\'Potential Site :: Potential Site\\',), (\\'Ligustrum japonicum :: Japanese Privet\\',), (\\'Liquidambar styraciflua :: American Sweet Gum\\',), (\"Prunus subhirtella \\'autumnalis\\' :: Higan Cherry\",), (\\'Acer palmatum :: Japanese Maple\\',), (\\'Juniperus chinensis :: Juniper\\',), (\\'Ficus retusa nitida :: Banyan Fig\\',), (\\'Acacia decurrens :: Acacia: Silver Wattle\\',), (\\'Cupressus macrocarpa :: Monterey Cypress\\',), (\\'Archontophoenix cunninghamiana :: King Palm\\',), (\\'Rhamnus alaternus :: Italian Buckthorn\\',), (\\'Schinus molle :: California Pepper\\',), (\\'Crataegus phaenopyrum :: Washington Hawthorn\\',), (\\'Elaeocarpus decipiens :: Japanese Blueberry Tree\\',), (\\'Aesculus x carnea :: Red Horse Chestnut\\',), (\"Platanus x hispanica \\'Columbia\\' :: Columbia Hybrid Plane Tree\",), (\\'Eucalyptus camaldulensis :: River Red Gum\\',), (\\'Pinus pinea :: Italian Stone Pine\\',), (\\'Eucalyptus citriodora :: Lemon scented eucalyptus\\',), (\\'Schinus terebinthifolius :: Brazilian Pepper\\',), (\"Magnolia grandiflora \\'Saint Mary\\' :: Saint Mary Magnolia\",), (\\'Magnolia spp :: Magnolia\\',), (\\'Phoenix dactylifera :: Date Palm\\',), (\\'Pyrus kawakamii :: Evergreen Pear\\',), (\\'Corymbia ficifolia :: Red Flowering Gum\\',), (\\'Acacia stenophylla :: Shoestring Acacia\\',), (\\'Eriobotrya japonica :: Edible Loquat\\',), (\\'Hymenosporum flavum :: Sweetshade\\',), (\"Olea europaea \\'Wilsonii\\' :: Wilson Olive Semi-fruitless\",), (\\'::\\',), (\\'Tilia cordata :: Littleleaf Linden\\',), (\\'Eucalyptus polyanthemos :: Silver Dollar Eucalyptus\\',), (\\'Melaleuca quinquenervia :: Cajeput\\',), (\\'Agonis flexuosa :: Peppermint Willow\\',), (\\'Koelreuteria paniculata :: Golden Rain Tree\\',), (\\'Yucca elephantipes :: Giant Yucca\\',), (\"Populus nigra \\'Italica\\' :: Lombardy Poplar\",), (\\'Eucalyptus globulus :: Blue Gum\\',), (\\'Ficus microcarpa :: Chinese Banyan\\',), (\"Acacia baileyana \\'Purpurea\\' :: Purple-leaf Acacia\",), (\\'Acer buergeranum :: Trident Maple\\',), (\\'Cinnamomum camphora :: Camphor Tree\\',), (\\'Howea belmoreana :: Belmore Sentry Palm\\',), (\\'Pinus canariensis :: Canary Island Pine\\',), (\"Ceanothus \\'Ray Hartman\\' :: California Lilac \\'Ray Hartman\\'\",), (\\'Butia catarinensis :: Butia\\',), (\\'Acacia spp :: Acacia Spp\\',), (\\'Jacaranda mimosifolia :: Jacaranda\\',), (\"Eucalyptus nicholii :: Nichol\\'s Willow-Leafed Peppermint\",), (\\'Prunus spp :: Flowering Plum\\',), (\"Acer rubrum \\'October Glory\\' :: Red October Glory Maple\",), (\\'Umbellularia californica :: California Bay\\',), (\\'Melaleuca ericifolia :: Heath Melaleuca\\',), (\\'Prunus caroliniana :: Carolina Cherry Laurel\\',), (\\'Callistemon viminalis :: Weeping Bottlebrush\\',), (\\'Tristania conferta ::\\',), (\\'Magnolia champaca :: Champa\\',), (\"Acer rubrum \\'Armstrong\\' :: Armstrong Red Maple\",), (\"Pyrus calleryana \\'Bradford\\' :: Ornamental Pear: Bradford\",), (\\'Ulmus spp :: Elm Spp\\',), (\\'Photinia fraseri :: Photinia: Chinese photinia\\',), (\"Tristaniopsis laurina \\'Elegant\\' :: Small-leaf Tristania \\'Elegant\\'\",), (\\'Quercus virginiana :: Southern Live Oak\\',), (\\'Laurus nobilis :: Sweet Bay: Grecian Laurel\\',), (\\'Griselinia lucida :: Griselinia\\',), (\"Dodonaea viscosa \\'Purpurea\\' :: Purple Hopseed Bush\",), (\\'Sequoia sempervirens :: Coast Redwood\\',), (\"Ginkgo biloba \\'Autumn Gold\\' :: Ginkgo: Autumn Gold\",), (\"Ulmus carpinifolia \\'Frontier\\' :: Frontier Elm \\'Frontier\\'\",), (\\'Geijera parviflora :: Australian Willow\\',), (\"Laurus x \\'Saratoga\\' :: Hybrid Laurel\",), (\\'Melaleuca styphelliodes :: Paperbark Tree\\',), (\"Prunus serrulata \\'Kwanzan\\' :: Kwanzan Flowering Cherry\",), (\\'Acer japonicum :: Japanese Maple\\',), (\\'Araucaria heterophylla :: Norfolk Island Pine\\',), (\\'Washingtonia robusta :: Mexican Fan Palm\\',), (\\'Lagerstroemia indica :: Crape Myrtle\\',), (\\'Magnolia doltsopa :: Himalayan Magnolia\\',), (\\'Syzygium paniculatum :: Brush Cherry\\',), (\\'Pinus thunbergii :: Japanese Black Pine\\',), (\\'Cercis canadensis :: Eastern Redbud\\',), (\\'Eucalyptus Spp :: Eucalyptus\\',), (\\'Persea americana :: Avocado\\',), (\\'Pistacia chinensis :: Chinese Pistache\\',), (\"Maytenus boaria \\'Green Showers\\' :: Meyten Tree \\'Green Showers\\'\",), (\"Magnolia grandiflora \\'Russet\\' :: Russet Magnolia\",), (\\'Prunus lyonii :: Catalina Cherry\\',), (\"Aesculus x carnea \\'Briotii\\' :: Ruby Horse Chestnut\",), (\"Magnolia grandiflora \\'Majestic Beauty\\' :: Majestic Beauty Magnolia\",), (\\'Prunus spp :: Almond Tree\\',), (\\'Nerium oleander :: Oleander\\',), (\"Acacia baileyana :: Bailey\\'s Acacia\",), (\\'Grevillea robusta :: Silk Oak Tree\\',), (\\'Zelkova serrata :: Sawleaf Zelkova\\',), (\\'Fraxinus uhdei :: Shamel Ash: Evergreen Ash\\',)]'"
      ]
     },
     "execution_count": 11,
     "metadata": {},
     "output_type": "execute_result"
    }
   ],
   "source": [
    "from langchain_community.tools.sql_database.tool import QuerySQLDataBaseTool\n",
    "\n",
    "write_query = create_sql_query_chain(llm, db)\n",
    "\n",
    "execute_query = QuerySQLDataBaseTool(db=db)\n",
    "\n",
    "chain = write_query | execute_query\n",
    "\n",
    "chain.invoke({\"question\": \"List the species of trees that are present in San Francisco\"})"
   ]
  },
  {
   "cell_type": "markdown",
   "id": "5998cea6-43ff-4376-9a83-618995ee36a6",
   "metadata": {},
   "source": [
    "#### Step 3: Translate the SQL response into a natural language response"
   ]
  },
  {
   "cell_type": "markdown",
   "id": "f52988b3-93fd-4190-b6a5-0755fe28ecf9",
   "metadata": {},
   "source": [
    "* Now that we've got a way to generate and execute queries, we need to **combine the original question and SQL query result with the chat model to generate a final answer in natural language**.\n",
    "* We can do this by passing question and result to the LLM like this:"
   ]
  },
  {
   "cell_type": "code",
   "execution_count": 14,
   "id": "d24dee97-465f-4979-9afe-79e0b7eb6f3f",
   "metadata": {},
   "outputs": [
    {
     "data": {
      "text/plain": [
       "\"The species of trees that are in San Francisco include:\\n- Arbutus 'Marina' :: Hybrid Strawberry Tree\\n- Afrocarpus gracilior :: Fern Pine\\n- Thuja occidentalis 'Emerald' :: Emerald Arborvitae\\n- Magnolia grandiflora 'Little Gem' :: Little Gem Magnolia\\n- Platanus x hispanica :: Sycamore: London Plane\\n- Ulmus parvifolia :: Chinese Elm\\n- Leptospermum laevigatum :: Australian Tea Tree\\n- Olea europaea 'Fruitless' :: Fruitless Olive\\n- Ficus rubiginosa :: Port Jackson Fig\\n- Cycas revoluta :: Sago palm\\n- Lophostemon confertus :: Brisbane Box\\n- Podocarpus gracilor :: Fern Pine\\n- Eriobotrya deflexa :: Bronze Loquat\\n- Ligustrum lucidum :: Glossy Privet\\n- Syagrus romanzoffianum :: Queen Palm\\n- Ficus microcarpa nitida 'Green Gem' :: Indian Laurel Fig Tree 'Green Gem'\\n- Prunus cerasifera :: Cherry Plum\\n- Myoporum laetum :: Myoporum\\n- Tristanopsis laurina :: Swamp Myrtle\\n- Ginkgo biloba :: Maidenhair Tree\\n- Pyrus calleryana :: Ornamental Pear\\n- Morus alba 'Fruitless' :: Fruitless Mulberry\\n- Magnolia grandiflora :: Southern Magnolia\\n- Pittosporum undulatum :: Victorian Box\\n- Lyonothamnus floribundus subsp. asplenifolius :: Santa Cruz Ironwood\\n- Leptospermum scoparium :: New Zealand Tea Tree\\n- Acer rubrum :: Red Maple\\n- Carpinus betulus :: European Hornbeam\\n- Ilex aquifolium :: European Holly\\n- Lagunaria patersonii :: Primrose Tree\\n- Pinus radiata :: Monterey Pine\\n- Prunus laurocerasus :: English laurel\\n- Cercis occidentalis :: Western Redbud\\n- Prunus serrulata :: Ornamental Cherry\\n- Maytenus boaria :: Mayten\\n- Arbutus unedo :: Strawberry Tree\\n- Callistemon citrinus :: Lemon Bottlebrush\\n- Cordyline australis :: Dracena Palm\\n- Quercus suber :: Cork Oak\\n- Pseudotsuga menziesii :: Douglas Fir\\n- Quercus agrifolia :: Coast Live Oak\\n- Olea Majestic Beauty ::\\n- Platanus racemosa :: California Sycamore\\n- Metrosideros excelsa :: New Zealand Xmas Tree\\n- Quercus tomentella :: Island oak\\n- Olea europaea :: Olive Tree\\n- Quercus spp :: Oak\\n- Platanus occidentalis :: American sycamore\\n- Hakea suaveolens :: Sweet Hakea Tree\\n- Ligustrum japonicum :: Japanese Privet\\n- Liquidambar styraciflua :: American Sweet Gum\\n- Prunus subhirtella 'autumnalis' :: Higan Cherry\\n- Acer palmatum :: Japanese Maple\\n- Juniperus chinensis :: Juniper\\n- Ficus retusa nitida :: Banyan Fig\\n- Acacia decurrens :: Acacia: Silver Wattle\\n- Cupressus macrocarpa :: Monterey Cypress\\n- Archontophoenix cunninghamiana :: King Palm\\n- Rhamnus alaternus :: Italian Buckthorn\\n- Schinus molle :: California Pepper\\n- Crataegus phaenopyrum :: Washington Hawthorn\\n- Elaeocarpus decipiens :: Japanese Blueberry Tree\\n- Aesculus x carnea :: Red Horse Chestnut\\n- Platanus x hispanica 'Columbia' :: Columbia Hybrid Plane Tree\\n- Eucalyptus camaldulensis :: River Red Gum\\n- Pinus pinea :: Italian Stone Pine\\n- Eucalyptus citriodora :: Lemon scented eucalyptus\\n- Schinus terebinthifolius :: Brazilian Pepper\\n- Magnolia grandiflora 'Saint Mary' :: Saint Mary Magnolia\\n- Magnolia spp :: Magnolia\\n- Phoenix dactylifera :: Date Palm\\n- Pyrus kawakamii :: Evergreen Pear\\n- Corymbia ficifolia :: Red Flowering Gum\\n- Acacia stenophylla :: Shoestring Acacia\\n- Eriobotrya japonica :: Edible Loquat\\n- Hymenosporum flavum :: Sweetshade\\n- Olea europaea 'Wilsonii' :: Wilson Olive Semi-fruitless\\n- Tilia cordata :: Littleleaf Linden\\n- Eucalyptus polyanthemos :: Silver Dollar Eucalyptus\\n- Melaleuca quinquenervia :: Cajeput\\n- Agonis flexuosa :: Peppermint Willow\\n- Koelreuteria paniculata :: Golden Rain Tree\\n- Yucca elephantipes :: Giant Yucca\\n- Populus nigra 'Italica' :: Lombardy Poplar\\n- Eucalyptus globulus :: Blue Gum\\n- Ficus microcarpa :: Chinese Banyan\\n- Acacia baileyana 'Purpurea' :: Purple-leaf Acacia\\n- Acer buergeranum :: Trident Maple\\n- Cinnamomum camphora :: Camphor Tree\\n- Howea belmoreana :: Belmore Sentry Palm\\n- Pinus canariensis :: Canary Island Pine\\n- Ceanothus 'Ray Hartman' :: California Lilac 'Ray Hartman'\\n- Butia catarinensis :: Butia\\n- Acacia spp :: Acacia Spp\\n- Jacaranda mimosifolia :: Jacaranda\\n- Eucalyptus nicholii :: Nichol's Willow-Leafed Peppermint\\n- Acer rubrum 'October Glory' :: Red October Glory Maple\\n- Umbellularia californica :: California Bay\\n- Melaleuca ericifolia :: Heath Melaleuca\\n- Prunus caroliniana :: Carolina Cherry Laurel\\n- Callistemon viminalis :: Weeping Bottlebrush\\n- Tristania conferta ::\\n- Magnolia champaca :: Champa\\n- Acer rubrum 'Armstrong' :: Armstrong Red Maple\\n- Pyrus calleryana 'Bradford' :: Ornamental Pear: Bradford\\n- Ulmus spp :: Elm Spp\\n- Photinia fraseri :: Photinia: Chinese photinia\\n- Tristaniopsis laurina 'Elegant' :: Small-leaf Tristania 'Elegant'\\n- Quercus virginiana :: Southern Live Oak\\n- Laurus nobilis :: Sweet Bay: Grecian Laurel\\n- Griselinia lucida :: Griselinia\\n- Dodonaea viscosa 'Purpurea' :: Purple Hopseed Bush\\n- Sequoia sempervirens :: Coast Redwood\\n- Ginkgo biloba 'Autumn Gold' :: Ginkgo: Autumn Gold\\n- Ulmus carpinifolia 'Frontier' :: Frontier Elm 'Frontier'\\n- Geijera parviflora :: Australian Willow\\n- Laurus x 'Saratoga' :: Hybrid Laurel\\n- Melaleuca styphelliodes :: Paperbark Tree\\n- Prunus serrulata 'Kwanzan' :: Kwanzan Flowering Cherry\\n- Acer japonicum :: Japanese Maple\\n- Araucaria heterophylla :: Norfolk Island Pine\\n- Washingtonia robusta :: Mexican Fan Palm\\n- Lagerstroemia indica :: Crape Myrtle\\n- Magnolia doltsopa :: Himalayan Magnolia\\n- Syzygium paniculatum :: Brush Cherry\\n- Pinus thunbergii :: Japanese Black Pine\\n- Cercis canadensis :: Eastern Redbud\\n- Eucalyptus Spp :: Eucalyptus\\n- Persea americana :: Avocado\\n- Pistacia chinensis :: Chinese Pistache\\n- Maytenus boaria 'Green Showers' :: Meyten Tree 'Green Showers'\\n- Magnolia grandiflora 'Russet' :: Russet Magnolia\\n- Prunus lyonii :: Catalina Cherry\\n- Aesculus x carnea 'Briotii' :: Ruby Horse Chestnut\\n- Magnolia grandiflora 'Majestic Beauty' :: Majestic Beauty Magnolia\\n- Prunus spp :: Almond Tree\\n- Nerium oleander :: Oleander\\n- Acacia baileyana :: Bailey's Acacia\\n- Grevillea robusta :: Silk Oak Tree\\n- Zelkova serrata :: Sawleaf Zelkova\\n- Fraxinus uhdei :: Shamel Ash: Evergreen Ash\""
      ]
     },
     "execution_count": 14,
     "metadata": {},
     "output_type": "execute_result"
    }
   ],
   "source": [
    "from operator import itemgetter\n",
    "\n",
    "from langchain_core.output_parsers import StrOutputParser\n",
    "from langchain_core.prompts import PromptTemplate\n",
    "from langchain_core.runnables import RunnablePassthrough\n",
    "\n",
    "sqlite_db_path = \"data/street_tree_db.sqlite\"\n",
    "\n",
    "db = SQLDatabase.from_uri(f\"sqlite:///{sqlite_db_path}\")\n",
    "\n",
    "llm = ChatOpenAI(model=\"gpt-3.5-turbo-0125\")\n",
    "\n",
    "answer_prompt = PromptTemplate.from_template(\n",
    "    \"\"\"Given the following user question, \n",
    "    corresponding SQL query, and SQL result, \n",
    "    answer the user question.\n",
    "\n",
    "Question: {question}\n",
    "SQL Query: {query}\n",
    "SQL Result: {result}\n",
    "Answer: \"\"\"\n",
    ")\n",
    "\n",
    "write_query = create_sql_query_chain(llm, db)\n",
    "\n",
    "execute_query = QuerySQLDataBaseTool(db=db)\n",
    "\n",
    "#chain = write_query | execute_query\n",
    "\n",
    "#chain.invoke({\"question\": \"List the species of trees that are present in San Francisco\"})\n",
    "\n",
    "chain = (\n",
    "    RunnablePassthrough.assign(query=write_query).assign(\n",
    "        result=itemgetter(\"query\") | execute_query\n",
    "    )\n",
    "    | answer_prompt\n",
    "    | llm\n",
    "    | StrOutputParser()\n",
    ")\n",
    "\n",
    "chain.invoke({\"question\": \"List the species of trees that are present in San Francisco\"})"
   ]
  },
  {
   "cell_type": "markdown",
   "id": "7fc31c07-a003-403d-bea6-c8965f9e8b38",
   "metadata": {},
   "source": [
    "#### Let's review what is happening in the above chain.\n",
    "* The user asks a question (identified by the variable name \"question\").\n",
    "* We use RunnablePassthrough to get that \"question\" variable, and we use .assign() twice to get the other two variables required by the prompt template: \"query\" and \"result\".\n",
    "* With the first .assign(), the write_query chain has que question as input and the SQL query (identified by the variable name \"query\") as output.\n",
    "* With the second .assign(), the execute_query chain has the SQL query as input and the SQL query execution (identified by the variable name \"result\") as output.\n",
    "* The prompt template has the question (identified by the variable name \"question\"), the SQL query (identified by the variable name \"query\") and the SQL query execution (identified by the variable name \"result\") as input, and the final prompt as the output.\n",
    "* The chat model has the prompt as he input and the AIMessage with the response in natural language as the output.\n",
    "* The StrOutputParser has the AIMessage with the response in natural language as the input and the response in natural language as a string of text as the output."
   ]
  },
  {
   "cell_type": "markdown",
   "id": "60fcad81-c02c-4f66-9a51-a5ceb15c6f5d",
   "metadata": {},
   "source": [
    "#### About the role of .assign() in this chain\n",
    "In this exercise we have learned more about the .assign() built-in method for Runnables. We have seen that the .assign() method **allows us to include additional keys and values** based on existing input.\n",
    "* With the first .assign(), the write_query chain has the question as input and the SQL query (identified by the variable name \"query\") as output.\n",
    "* With the second .assign(), the execute_query chain has the SQL query as input and the SQL query execution (identified by the variable name \"result\") as output.\n",
    "\n",
    "The .assign() method allows us to add new keys and values to the output of a Runnable **while keeping the original keys and values intact**. See the process again:\n",
    "* We use RunnablePassthrough to get that \"question\" variable, and we use .assign() twice to get the other two variables required by the prompt template: \"query\" and \"result\".\n",
    "* With the first .assign(), the write_query chain has que question as input and the SQL query (identified by the variable name \"query\") as output.\n",
    "* With the second .assign(), the execute_query chain has the SQL query as input and the SQL query execution (identified by the variable name \"result\") as output."
   ]
  },
  {
   "cell_type": "markdown",
   "id": "fa144596-cd5d-498c-97e0-4406f1e9f69f",
   "metadata": {},
   "source": [
    "## How to execute the code from Visual Studio Code\n",
    "* In Visual Studio Code, see the file 004-invoke-stream-batch.py\n",
    "* In terminal, make sure you are in the directory of the file and run:\n",
    "    * python 001-qa-from-sql.py"
   ]
  },
  {
   "cell_type": "code",
   "execution_count": null,
   "id": "ac038d30-9592-4eb3-b418-335989ce2eee",
   "metadata": {},
   "outputs": [],
   "source": []
  }
 ],
 "metadata": {
  "kernelspec": {
   "display_name": "Python 3 (ipykernel)",
   "language": "python",
   "name": "python3"
  },
  "language_info": {
   "codemirror_mode": {
    "name": "ipython",
    "version": 3
   },
   "file_extension": ".py",
   "mimetype": "text/x-python",
   "name": "python",
   "nbconvert_exporter": "python",
   "pygments_lexer": "ipython3",
   "version": "3.11.4"
  }
 },
 "nbformat": 4,
 "nbformat_minor": 5
}
